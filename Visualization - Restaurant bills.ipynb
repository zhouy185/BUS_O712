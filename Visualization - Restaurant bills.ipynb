{
 "cells": [
  {
   "cell_type": "markdown",
   "id": "72495a74",
   "metadata": {
    "slideshow": {
     "slide_type": "slide"
    }
   },
   "source": [
    "In the following, we will load the \"tips\" dataset from the file \"tips.csv\". This dataset includes information from 244 receipts at a resturant. In each order, we have\n",
    "* total bill amount\n",
    "* tip amount\n",
    "* gender of the customer\n",
    "* if a customer is a smoker\n",
    "* day of the oder\n",
    "* time of the order (dinner or lunch)\n",
    "* size of dining group\n"
   ]
  },
  {
   "cell_type": "code",
   "execution_count": null,
   "id": "1b85b359",
   "metadata": {
    "slideshow": {
     "slide_type": "slide"
    }
   },
   "outputs": [],
   "source": []
  },
  {
   "cell_type": "markdown",
   "id": "0b922f31",
   "metadata": {
    "slideshow": {
     "slide_type": "slide"
    }
   },
   "source": [
    "How do we visualize the potential relationship between 'total_bill' and 'tip'?"
   ]
  },
  {
   "cell_type": "markdown",
   "id": "c633acdb",
   "metadata": {
    "slideshow": {
     "slide_type": "slide"
    }
   },
   "source": [
    "# Scatterplots by seaborn"
   ]
  },
  {
   "cell_type": "markdown",
   "id": "6a0b8316",
   "metadata": {
    "slideshow": {
     "slide_type": "slide"
    }
   },
   "source": [
    "**seaborn** is a Python data visualization library based on matplotlib. It provides a high-level interface for drawing attractive and informative statistical graphics. With this library, one may create  different types of charts.\n"
   ]
  },
  {
   "cell_type": "markdown",
   "id": "0aef7533",
   "metadata": {
    "slideshow": {
     "slide_type": "notes"
    }
   },
   "source": [
    "<img title=\"plots\" src=\"https://www.dropbox.com/scl/fi/7guvvmp6os0bjqp7slge2/sns_plots.png?rlkey=erswd72c4wp1s0xlnuzvp8mz3&st=a3f9651f&raw=1\" width=600>"
   ]
  },
  {
   "cell_type": "markdown",
   "id": "0026b18b",
   "metadata": {
    "slideshow": {
     "slide_type": "notes"
    }
   },
   "source": [
    "In this notebook, we will focus on how to use seaborn to create scatterplots. \n",
    "\n",
    "You can learn more about the library through its [documentation](https://seaborn.pydata.org/).\n",
    "\n",
    "By default, seaborn is included in Anaconda, and we can simply import it using the `import` command. However, if you find that seaborn hasn't been installed, you may use the Anaconda Navitator, the commoand `pip install seaborn` in your command line tool (windows powershell, launchable from Anaconda Navigator, or the terminal on a Mac), or simply run `!pip install seaborn` in a cell of Jupyter.\n",
    "\n",
    "When importing seaborn, a convention is to use the alia \"sns\". Since seaborn is built on top of matplotlib, it is a good practice to import pyplot from matplotlib at the same time."
   ]
  },
  {
   "cell_type": "code",
   "execution_count": null,
   "id": "8ca1b915",
   "metadata": {},
   "outputs": [],
   "source": []
  },
  {
   "cell_type": "markdown",
   "id": "f0d553b0",
   "metadata": {
    "slideshow": {
     "slide_type": "slide"
    }
   },
   "source": [
    "A nice feature of seaborn is its ability to work directly with a DataFrame\n",
    "\n",
    "The basic command to create a scatterplot is \n",
    "* `sns.scatterplot(data=name_of_DataFrame,x=column_a,y=column_b)`\n",
    "\n",
    "where we can specify the dataset to work by a DataFrame\n"
   ]
  },
  {
   "cell_type": "markdown",
   "id": "413d5ed7",
   "metadata": {
    "slideshow": {
     "slide_type": "slide"
    }
   },
   "source": [
    "Let create a scatterplot of 'tip' vs. 'total_bill'.\n",
    "* Use `data=` to specify the DataFrame\n",
    "* Use different colors for dinner and lunch\n",
    "* Use different marker symbols for dinner and lunch\n",
    "* Let the size of the marker be larger for larger groups (i.e., a larger 'size')\n",
    "    * Use `sizes=()` to specify the range of sizes of the markers\n",
    "* Use `alpha=` to make the markers partially transparent\n",
    "* Also add the title, and the x- and y-labels"
   ]
  },
  {
   "cell_type": "code",
   "execution_count": null,
   "id": "b17bc5b2",
   "metadata": {
    "slideshow": {
     "slide_type": "subslide"
    }
   },
   "outputs": [],
   "source": []
  },
  {
   "cell_type": "markdown",
   "id": "5123644b",
   "metadata": {
    "slideshow": {
     "slide_type": "slide"
    }
   },
   "source": [
    "Interestingly, based on a catigorical variable in the dataset, we can:\n",
    "\n",
    "* use different colors for the points, by `hue=column_name`; e.g., use one color for all lunches, and a different color for all dinners,\n",
    "* use different shapes for the points, by `style=column_name`\n",
    "* use different sizes for the points, by `size=column_name`\n",
    "    * the base size can be adjusted by `sizes=(min_size,max_size)`, where min_size and max_size specifies the size of the smallest point and the size of the largest point, respectively\n"
   ]
  },
  {
   "cell_type": "markdown",
   "id": "8484b32e",
   "metadata": {
    "slideshow": {
     "slide_type": "subslide"
    }
   },
   "source": [
    "We can use `pyplot` to add the title and labels."
   ]
  },
  {
   "cell_type": "markdown",
   "id": "1f48d3ec",
   "metadata": {
    "slideshow": {
     "slide_type": "notes"
    }
   },
   "source": [
    "You can find the arguments for `sns.scatterplot()` [here](https://www.dropbox.com/scl/fi/bsuxn9j7ab0zxb998ue9t/seaborn_parameters.pdf?rlkey=u6hyerymywoll9q78jcw3p5ze&st=id0wp1cb&dl=0).\n",
    "\n",
    "\n",
    "| **Parameter**      | **Description**                                                                                                         | **Default**                 |\n",
    "|--------------------|-------------------------------------------------------------------------------------------------------------------------|-----------------------------|\n",
    "| `data`             | DataFrame or array-like structure (dict, array, etc.) for plotting data.                                                 | `None`                      |\n",
    "| `x`                | Variable for x-axis data (from `data` or direct).                                                                        | `None`                      |\n",
    "| `y`                | Variable for y-axis data (from `data` or direct).                                                                        | `None`                      |\n",
    "| `hue`              | Grouping variable to map plot colors.                                                                                    | `None`                      |\n",
    "| `size`             | Grouping variable to map plot sizes.                                                                                     | `None`                      |\n",
    "| `style`            | Grouping variable to map plot markers.                                                                                   | `None`                      |\n",
    "| `palette`          | Colors for the different levels of the `hue` variable.                                                                   | `None` (default color cycle) |\n",
    "| `hue_order`        | Order of levels in `hue`.                                                                                                | `None`                      |\n",
    "| `hue_norm`         | Normalization range for continuous `hue`.                                                                                | `None`                      |\n",
    "| `sizes`            | Mapping from `size` values to point sizes (tuple, dict, etc.).                                                           | `None`                      |\n",
    "| `size_order`       | Order of levels in `size`.                                                                                               | `None`                      |\n",
    "| `size_norm`        | Normalization range for continuous `size`.                                                                               | `None`                      |\n",
    "| `markers`          | Marker styles for the levels of `style`.                                                                                 | `None`                      |\n",
    "| `style_order`      | Order of levels in `style`.                                                                                              | `None`                      |\n",
    "| `legend`           | How to draw the legend (`\"auto\"`, `\"brief\"`, `\"full\"`, `False`).                                                         | `\"auto\"`                    |\n",
    "| `ax`               | Axes object to draw the plot onto.                                                                                       | `None` (creates new axes)    |\n",
    "| `cmap`             | Colormap for mapping the `hue` values (if continuous).                                                                   | `None`                      |\n",
    "| `linewidth`        | Width of the lines around the markers.                                                                                   | `None` (default width)       |\n",
    "| `edgecolor`        | Color for marker edges.                                                                                                  | `None` (default behavior)    |\n",
    "| `alpha`            | Transparency level for the markers (0: fully transparent, 1: fully opaque).                                              | `None` (fully opaque)        |\n",
    "| `x_bins`           | Bin values on the x-axis for plotting discrete data as scatterplot.                                                      | `None`                      |\n",
    "| `y_bins`           | Bin values on the y-axis for plotting discrete data as scatterplot.                                                      | `None`                      |\n",
    "| `units`            | Grouping variable to map plot styles independently of color and size.                                                    | `None`                      |\n",
    "| `estimator`        | Statistical function used to estimate the point estimate for scatter plots with continuous variables.                    | `None`                      |\n",
    "| `ci`               | Confidence interval used when plotting with an estimator.                                                                | `None` (no interval)         |\n",
    "| `n_boot`           | Number of bootstrap iterations to determine confidence interval.                                                         | `None`                      |\n",
    "| `sort`             | Sort points by hue before plotting.                                                                                      | `True`                      |\n",
    "| `err_style`        | Style of error bars (`\"band\"` or `\"bars\"`).                                                                              | `\"band\"`                    |\n",
    "| `err_kws`          | Keyword arguments for the error bar plot customization.                                                                  | `None`                      |\n",
    "| `log_scale`        | Apply logarithmic scaling to axes (`x`, `y`, or both).                                                                   | `False`                     |\n"
   ]
  },
  {
   "cell_type": "markdown",
   "id": "38cf9736",
   "metadata": {
    "slideshow": {
     "slide_type": "slide"
    }
   },
   "source": [
    "We can add a trend line to visualize how the two variables are correlated with each other.\n",
    "\n",
    "To do this, we will use the `regplot()` function in `seaborn` instead of `scatterplot`."
   ]
  },
  {
   "cell_type": "code",
   "execution_count": null,
   "id": "2b3fc1cf",
   "metadata": {
    "scrolled": true,
    "slideshow": {
     "slide_type": "subslide"
    }
   },
   "outputs": [],
   "source": [
    " "
   ]
  },
  {
   "cell_type": "markdown",
   "id": "f5e68e40",
   "metadata": {
    "slideshow": {
     "slide_type": "slide"
    }
   },
   "source": [
    "**Notes**:\n",
    "1. The argument `ci=` shows a confidence interval in the form of a shaded area. By default, the confidence level is 95%, but we may change it to other values, such as `ci=80` for a 80% confidence interval\n",
    "2. The `order=` argument selects the order of the polynomial function as a trend line. By default, `order=1`, meaning that we show a linear trend line. But we can use `order=2` for a quadratic trend, or higher orders."
   ]
  }
 ],
 "metadata": {
  "celltoolbar": "Slideshow",
  "kernelspec": {
   "display_name": "Python 3 (ipykernel)",
   "language": "python",
   "name": "python3"
  },
  "language_info": {
   "codemirror_mode": {
    "name": "ipython",
    "version": 3
   },
   "file_extension": ".py",
   "mimetype": "text/x-python",
   "name": "python",
   "nbconvert_exporter": "python",
   "pygments_lexer": "ipython3",
   "version": "3.12.2"
  }
 },
 "nbformat": 4,
 "nbformat_minor": 5
}

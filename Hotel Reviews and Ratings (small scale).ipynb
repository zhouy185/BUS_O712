{
 "cells": [
  {
   "cell_type": "markdown",
   "id": "edaa9397",
   "metadata": {
    "slideshow": {
     "slide_type": "slide"
    }
   },
   "source": [
    "# Predicing Customer Ratings"
   ]
  },
  {
   "cell_type": "markdown",
   "id": "20e6c683",
   "metadata": {
    "slideshow": {
     "slide_type": "slide"
    }
   },
   "source": [
    "In this notebook, we will work with a dataset the contains customer reviews and ratings of hotels on Tripadvisor."
   ]
  },
  {
   "cell_type": "code",
   "execution_count": null,
   "id": "f6f0ba60",
   "metadata": {
    "scrolled": true
   },
   "outputs": [],
   "source": []
  },
  {
   "cell_type": "markdown",
   "id": "d4b70d5a",
   "metadata": {
    "slideshow": {
     "slide_type": "slide"
    }
   },
   "source": [
    "We will preprocess the data by creating a new column named 'Sentiment':\n",
    "* If the rating is 4 or 5, the sentiment is 1 (positive)\n",
    "* Otherwise it is 0 (negative)"
   ]
  },
  {
   "cell_type": "code",
   "execution_count": null,
   "id": "b1e28a84",
   "metadata": {},
   "outputs": [],
   "source": []
  },
  {
   "cell_type": "markdown",
   "id": "b7a5fe03",
   "metadata": {
    "slideshow": {
     "slide_type": "slide"
    }
   },
   "source": [
    "**Question**: How do we predict customers' 'sentiments' based on the text of review?"
   ]
  },
  {
   "cell_type": "markdown",
   "id": "57147b45",
   "metadata": {
    "slideshow": {
     "slide_type": "fragment"
    }
   },
   "source": [
    "To save time for the demonstration, let's randomly sample 2000 rows from the DataFrame for the predictive task."
   ]
  },
  {
   "cell_type": "code",
   "execution_count": null,
   "id": "bab4cffa",
   "metadata": {
    "slideshow": {
     "slide_type": "fragment"
    }
   },
   "outputs": [],
   "source": []
  },
  {
   "cell_type": "markdown",
   "id": "f15db1a9",
   "metadata": {
    "slideshow": {
     "slide_type": "slide"
    }
   },
   "source": [
    "Let's reset the index."
   ]
  },
  {
   "cell_type": "code",
   "execution_count": null,
   "id": "75b3914f",
   "metadata": {},
   "outputs": [],
   "source": []
  },
  {
   "cell_type": "markdown",
   "id": "757e8102",
   "metadata": {
    "slideshow": {
     "slide_type": "slide"
    }
   },
   "source": [
    "We will use the `sentence_transformers` by [Hugging Face](https://huggingface.co/).\n",
    "\n",
    "First, we need to install and import the library."
   ]
  },
  {
   "cell_type": "code",
   "execution_count": 5,
   "id": "a1d130c3",
   "metadata": {
    "scrolled": true
   },
   "outputs": [],
   "source": [
    "# !pip install -U sentence_transformers"
   ]
  },
  {
   "cell_type": "code",
   "execution_count": null,
   "id": "460d0764",
   "metadata": {
    "slideshow": {
     "slide_type": "slide"
    }
   },
   "outputs": [],
   "source": []
  },
  {
   "cell_type": "markdown",
   "id": "25d0f859",
   "metadata": {
    "slideshow": {
     "slide_type": "slide"
    }
   },
   "source": [
    "We will use the SentenceTransformer to create a model for converting the text to embeddings."
   ]
  },
  {
   "cell_type": "code",
   "execution_count": null,
   "id": "05d11d6a",
   "metadata": {},
   "outputs": [],
   "source": []
  },
  {
   "cell_type": "markdown",
   "id": "6794f892",
   "metadata": {
    "slideshow": {
     "slide_type": "slide"
    }
   },
   "source": [
    "Let's create the embedding for a review."
   ]
  },
  {
   "cell_type": "code",
   "execution_count": null,
   "id": "b8133d40",
   "metadata": {},
   "outputs": [],
   "source": []
  },
  {
   "cell_type": "markdown",
   "id": "3cc84063",
   "metadata": {
    "slideshow": {
     "slide_type": "slide"
    }
   },
   "source": [
    "We will then create the embedding for all reviews in the dataset."
   ]
  },
  {
   "cell_type": "code",
   "execution_count": null,
   "id": "3726f087",
   "metadata": {},
   "outputs": [],
   "source": []
  },
  {
   "cell_type": "markdown",
   "id": "c1ade379",
   "metadata": {
    "slideshow": {
     "slide_type": "slide"
    }
   },
   "source": [
    "Let's look at the embeddings. We will see that it's a 2D array. Each row is the encoding of the review in the corresponding row of the DataFrame."
   ]
  },
  {
   "cell_type": "code",
   "execution_count": null,
   "id": "fc9bc02d",
   "metadata": {},
   "outputs": [],
   "source": []
  },
  {
   "cell_type": "code",
   "execution_count": null,
   "id": "36c2a26f",
   "metadata": {},
   "outputs": [],
   "source": []
  },
  {
   "cell_type": "markdown",
   "id": "ff1b68ad",
   "metadata": {
    "slideshow": {
     "slide_type": "slide"
    }
   },
   "source": [
    "We will use `embedding` as the features (X) and the setiments as the target (y). \n",
    "\n",
    "Let's formally define X and y, and then do the train-test-split."
   ]
  },
  {
   "cell_type": "code",
   "execution_count": null,
   "id": "a5aac5f0",
   "metadata": {},
   "outputs": [],
   "source": []
  },
  {
   "cell_type": "markdown",
   "id": "63cb20c7",
   "metadata": {
    "slideshow": {
     "slide_type": "slide"
    }
   },
   "source": [
    "Now let's use a random forest for the classification task."
   ]
  },
  {
   "cell_type": "code",
   "execution_count": null,
   "id": "1fba29f5",
   "metadata": {},
   "outputs": [],
   "source": []
  }
 ],
 "metadata": {
  "celltoolbar": "Slideshow",
  "kernelspec": {
   "display_name": "Python 3 (ipykernel)",
   "language": "python",
   "name": "python3"
  },
  "language_info": {
   "codemirror_mode": {
    "name": "ipython",
    "version": 3
   },
   "file_extension": ".py",
   "mimetype": "text/x-python",
   "name": "python",
   "nbconvert_exporter": "python",
   "pygments_lexer": "ipython3",
   "version": "3.12.2"
  }
 },
 "nbformat": 4,
 "nbformat_minor": 5
}

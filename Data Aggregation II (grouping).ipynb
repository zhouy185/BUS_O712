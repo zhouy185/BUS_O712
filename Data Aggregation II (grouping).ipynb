{
 "cells": [
  {
   "cell_type": "markdown",
   "id": "ca69d097",
   "metadata": {
    "slideshow": {
     "slide_type": "slide"
    }
   },
   "source": [
    "# Data Aggregation (grouping)"
   ]
  },
  {
   "cell_type": "markdown",
   "id": "dca1c06b",
   "metadata": {
    "slideshow": {
     "slide_type": "slide"
    }
   },
   "source": [
    "Let's first import a dataset from 'product.csv'"
   ]
  },
  {
   "cell_type": "code",
   "execution_count": 33,
   "id": "5d98a27a",
   "metadata": {
    "scrolled": true
   },
   "outputs": [
    {
     "data": {
      "text/html": [
       "<div>\n",
       "<style scoped>\n",
       "    .dataframe tbody tr th:only-of-type {\n",
       "        vertical-align: middle;\n",
       "    }\n",
       "\n",
       "    .dataframe tbody tr th {\n",
       "        vertical-align: top;\n",
       "    }\n",
       "\n",
       "    .dataframe thead th {\n",
       "        text-align: right;\n",
       "    }\n",
       "</style>\n",
       "<table border=\"1\" class=\"dataframe\">\n",
       "  <thead>\n",
       "    <tr style=\"text-align: right;\">\n",
       "      <th></th>\n",
       "      <th>object</th>\n",
       "      <th>colour</th>\n",
       "      <th>price</th>\n",
       "      <th>quantity</th>\n",
       "    </tr>\n",
       "  </thead>\n",
       "  <tbody>\n",
       "    <tr>\n",
       "      <th>0</th>\n",
       "      <td>mug</td>\n",
       "      <td>red</td>\n",
       "      <td>5.67</td>\n",
       "      <td>120</td>\n",
       "    </tr>\n",
       "    <tr>\n",
       "      <th>1</th>\n",
       "      <td>mug</td>\n",
       "      <td>red</td>\n",
       "      <td>4.28</td>\n",
       "      <td>50</td>\n",
       "    </tr>\n",
       "    <tr>\n",
       "      <th>2</th>\n",
       "      <td>glass</td>\n",
       "      <td>white</td>\n",
       "      <td>1.28</td>\n",
       "      <td>30</td>\n",
       "    </tr>\n",
       "    <tr>\n",
       "      <th>3</th>\n",
       "      <td>plate</td>\n",
       "      <td>green</td>\n",
       "      <td>2.29</td>\n",
       "      <td>40</td>\n",
       "    </tr>\n",
       "    <tr>\n",
       "      <th>4</th>\n",
       "      <td>mug</td>\n",
       "      <td>blue</td>\n",
       "      <td>5.12</td>\n",
       "      <td>32</td>\n",
       "    </tr>\n",
       "    <tr>\n",
       "      <th>5</th>\n",
       "      <td>plate</td>\n",
       "      <td>blue</td>\n",
       "      <td>2.12</td>\n",
       "      <td>18</td>\n",
       "    </tr>\n",
       "    <tr>\n",
       "      <th>6</th>\n",
       "      <td>plate</td>\n",
       "      <td>green</td>\n",
       "      <td>1.18</td>\n",
       "      <td>30</td>\n",
       "    </tr>\n",
       "  </tbody>\n",
       "</table>\n",
       "</div>"
      ],
      "text/plain": [
       "  object colour  price  quantity\n",
       "0    mug    red   5.67       120\n",
       "1    mug    red   4.28        50\n",
       "2  glass  white   1.28        30\n",
       "3  plate  green   2.29        40\n",
       "4    mug   blue   5.12        32\n",
       "5  plate   blue   2.12        18\n",
       "6  plate  green   1.18        30"
      ]
     },
     "execution_count": 33,
     "metadata": {},
     "output_type": "execute_result"
    }
   ],
   "source": [
    "import pandas as pd\n",
    "products = pd.read_csv(\"https://raw.githubusercontent.com/zhouy185/BUS_O712/main/Data/product.csv\")\n",
    "\n",
    "products.head(10)"
   ]
  },
  {
   "cell_type": "markdown",
   "id": "423a86d2",
   "metadata": {
    "slideshow": {
     "slide_type": "slide"
    }
   },
   "source": [
    "**Question**: How can we define groups?"
   ]
  },
  {
   "cell_type": "markdown",
   "id": "201f94ac",
   "metadata": {
    "slideshow": {
     "slide_type": "slide"
    }
   },
   "source": [
    "One common approach is to look at a categorical variable. pandas Series have the methods `unique()` and `value_counts()` that are very useful in this regard.\n",
    "\n",
    "* `unique()`: returns an array of unique categories in the series\n",
    "* `value_counts()`: a Series, where the frequency of each category is provided"
   ]
  },
  {
   "cell_type": "code",
   "execution_count": 34,
   "id": "8e8e940f",
   "metadata": {},
   "outputs": [
    {
     "data": {
      "text/plain": [
       "array(['mug', 'glass', 'plate'], dtype=object)"
      ]
     },
     "execution_count": 34,
     "metadata": {},
     "output_type": "execute_result"
    }
   ],
   "source": [
    "products['object'].unique()"
   ]
  },
  {
   "cell_type": "code",
   "execution_count": 35,
   "id": "7344ef57",
   "metadata": {},
   "outputs": [
    {
     "data": {
      "text/plain": [
       "object\n",
       "mug      3\n",
       "plate    3\n",
       "glass    1\n",
       "Name: count, dtype: int64"
      ]
     },
     "execution_count": 35,
     "metadata": {},
     "output_type": "execute_result"
    }
   ],
   "source": [
    "products['object'].value_counts()"
   ]
  },
  {
   "cell_type": "markdown",
   "id": "449efa4d",
   "metadata": {
    "slideshow": {
     "slide_type": "slide"
    }
   },
   "source": [
    "## Grouping"
   ]
  },
  {
   "cell_type": "markdown",
   "id": "5a305e3d",
   "metadata": {
    "slideshow": {
     "slide_type": "-"
    }
   },
   "source": [
    "We can use the function `groupby()` to construct groups for a variable\n",
    "\n",
    "* The variable based on which groups are contructed should be categorical variable\n",
    "* For a numerical variable is numerical, it is possible to discretize the variable by defining ranges of values; then each range can be a group"
   ]
  },
  {
   "cell_type": "markdown",
   "id": "db57c55e",
   "metadata": {
    "slideshow": {
     "slide_type": "slide"
    }
   },
   "source": [
    "### Grouping based on a single variable"
   ]
  },
  {
   "cell_type": "markdown",
   "id": "73e61158",
   "metadata": {},
   "source": [
    "Inside the round bracket of `groupby()`, we should indicate the variable (i.e., the **column**), based on which the grouping is performed"
   ]
  },
  {
   "cell_type": "code",
   "execution_count": 37,
   "id": "3e29ca0c",
   "metadata": {},
   "outputs": [
    {
     "data": {
      "text/plain": [
       "pandas.core.groupby.generic.DataFrameGroupBy"
      ]
     },
     "execution_count": 37,
     "metadata": {},
     "output_type": "execute_result"
    }
   ],
   "source": [
    "grouped = products.groupby(products['object'])\n",
    "type(grouped)"
   ]
  },
  {
   "cell_type": "markdown",
   "id": "353fa315",
   "metadata": {
    "slideshow": {
     "slide_type": "slide"
    }
   },
   "source": [
    "The object above (grouped) is a *Groupby* object.\n",
    "\n",
    "This object has a few methods to calculate summary statistics of each group"
   ]
  },
  {
   "cell_type": "code",
   "execution_count": 39,
   "id": "6fc4c692",
   "metadata": {},
   "outputs": [
    {
     "data": {
      "text/html": [
       "<div>\n",
       "<style scoped>\n",
       "    .dataframe tbody tr th:only-of-type {\n",
       "        vertical-align: middle;\n",
       "    }\n",
       "\n",
       "    .dataframe tbody tr th {\n",
       "        vertical-align: top;\n",
       "    }\n",
       "\n",
       "    .dataframe thead th {\n",
       "        text-align: right;\n",
       "    }\n",
       "</style>\n",
       "<table border=\"1\" class=\"dataframe\">\n",
       "  <thead>\n",
       "    <tr style=\"text-align: right;\">\n",
       "      <th></th>\n",
       "      <th>price</th>\n",
       "      <th>quantity</th>\n",
       "    </tr>\n",
       "    <tr>\n",
       "      <th>object</th>\n",
       "      <th></th>\n",
       "      <th></th>\n",
       "    </tr>\n",
       "  </thead>\n",
       "  <tbody>\n",
       "    <tr>\n",
       "      <th>glass</th>\n",
       "      <td>1.280000</td>\n",
       "      <td>30.000000</td>\n",
       "    </tr>\n",
       "    <tr>\n",
       "      <th>mug</th>\n",
       "      <td>5.023333</td>\n",
       "      <td>67.333333</td>\n",
       "    </tr>\n",
       "    <tr>\n",
       "      <th>plate</th>\n",
       "      <td>1.863333</td>\n",
       "      <td>29.333333</td>\n",
       "    </tr>\n",
       "  </tbody>\n",
       "</table>\n",
       "</div>"
      ],
      "text/plain": [
       "           price   quantity\n",
       "object                     \n",
       "glass   1.280000  30.000000\n",
       "mug     5.023333  67.333333\n",
       "plate   1.863333  29.333333"
      ]
     },
     "execution_count": 39,
     "metadata": {},
     "output_type": "execute_result"
    }
   ],
   "source": [
    "# Note the use of numeric_only=True\n",
    "mean_group = grouped.mean(numeric_only=True)\n",
    "mean_group"
   ]
  },
  {
   "cell_type": "markdown",
   "id": "284b7ba8",
   "metadata": {
    "slideshow": {
     "slide_type": "fragment"
    }
   },
   "source": [
    "Looking at the \"price\" column, the average price for glass, mug and plate are 1.28, 5.02, 1.86."
   ]
  },
  {
   "cell_type": "markdown",
   "id": "ae927166",
   "metadata": {
    "slideshow": {
     "slide_type": "slide"
    }
   },
   "source": [
    "It is important to mention that `grouped.mean()` returns a DataFrame. \n",
    "* To confirm, use `type(mean_grouped)`\n",
    "\n",
    "To show medians of each group, use `grouped.median()`"
   ]
  },
  {
   "cell_type": "markdown",
   "id": "f93ab9ac",
   "metadata": {
    "slideshow": {
     "slide_type": "slide"
    }
   },
   "source": [
    "What we just did was grouping the entire Dataframe based on values of a certain column.\n",
    "\n",
    "Sometimes are interested to group only a certain column. \n",
    "* For example, we can do grouping for the variable 'price' only\n"
   ]
  },
  {
   "cell_type": "code",
   "execution_count": 40,
   "id": "801ab8e9",
   "metadata": {},
   "outputs": [],
   "source": [
    "grouped = products['price'].groupby(products['object'])"
   ]
  },
  {
   "cell_type": "markdown",
   "id": "96e190ea",
   "metadata": {
    "slideshow": {
     "slide_type": "subslide"
    }
   },
   "source": [
    "Let's calculate the standard deviation of each group"
   ]
  },
  {
   "cell_type": "code",
   "execution_count": 41,
   "id": "e8c489aa",
   "metadata": {},
   "outputs": [
    {
     "data": {
      "text/plain": [
       "object\n",
       "glass         NaN\n",
       "mug      0.700024\n",
       "plate    0.597857\n",
       "Name: price, dtype: float64"
      ]
     },
     "execution_count": 41,
     "metadata": {},
     "output_type": "execute_result"
    }
   ],
   "source": [
    "std_grouped = grouped.std()\n",
    "std_grouped"
   ]
  },
  {
   "cell_type": "markdown",
   "id": "96825e0a",
   "metadata": {
    "slideshow": {
     "slide_type": "slide"
    }
   },
   "source": [
    "**Question**: Why the standard deviations for the \"glass\" group is `NaN`?"
   ]
  },
  {
   "cell_type": "markdown",
   "id": "e3fe4546",
   "metadata": {
    "slideshow": {
     "slide_type": "slide"
    }
   },
   "source": [
    "Note that we did grouping for a single column. The resulting 'Groupby' is a pandas Series intead of a DataFrame"
   ]
  },
  {
   "cell_type": "code",
   "execution_count": 42,
   "id": "bce09489",
   "metadata": {},
   "outputs": [
    {
     "data": {
      "text/plain": [
       "pandas.core.series.Series"
      ]
     },
     "execution_count": 42,
     "metadata": {},
     "output_type": "execute_result"
    }
   ],
   "source": [
    "# find the type of std_grouped\n",
    "type(std_grouped)"
   ]
  },
  {
   "cell_type": "markdown",
   "id": "98b2f3c1",
   "metadata": {
    "slideshow": {
     "slide_type": "slide"
    }
   },
   "source": [
    "### Grouping based on several variables"
   ]
  },
  {
   "cell_type": "markdown",
   "id": "49c6cf09",
   "metadata": {},
   "source": [
    "One can group a column with respect to more than one variable. \n",
    "\n",
    "* For example,we will group the variable price, based on 'object' as well as 'colour'.\n",
    "* To do that, use `groupby.(list_of_varibles_to_define_groups)`"
   ]
  },
  {
   "cell_type": "code",
   "execution_count": 43,
   "id": "2fe0b32a",
   "metadata": {
    "slideshow": {
     "slide_type": "subslide"
    }
   },
   "outputs": [
    {
     "data": {
      "text/plain": [
       "object  colour\n",
       "glass   white     1.280\n",
       "mug     blue      5.120\n",
       "        red       4.975\n",
       "plate   blue      2.120\n",
       "        green     1.735\n",
       "Name: price, dtype: float64"
      ]
     },
     "execution_count": 43,
     "metadata": {},
     "output_type": "execute_result"
    }
   ],
   "source": [
    "#Perform the grouping for 'price', based on object and colour\n",
    "grouped = products['price'].groupby([products['object'],products['colour']])\n",
    "\n",
    "#Show the average prices by group\n",
    "grouped.mean()\n"
   ]
  },
  {
   "cell_type": "markdown",
   "id": "5d580a94",
   "metadata": {
    "slideshow": {
     "slide_type": "slide"
    }
   },
   "source": [
    "Finally, we can group several variables together, based on two or more other variables"
   ]
  },
  {
   "cell_type": "code",
   "execution_count": 44,
   "id": "454d1316",
   "metadata": {},
   "outputs": [],
   "source": [
    "# Let's group 'price' and 'quantity' together, based on 'object' and 'colour'\n",
    "\n",
    "grouped = products[['price','quantity']].groupby([products['object'],products['colour']])"
   ]
  },
  {
   "cell_type": "code",
   "execution_count": 45,
   "id": "4625877f",
   "metadata": {},
   "outputs": [
    {
     "data": {
      "text/html": [
       "<div>\n",
       "<style scoped>\n",
       "    .dataframe tbody tr th:only-of-type {\n",
       "        vertical-align: middle;\n",
       "    }\n",
       "\n",
       "    .dataframe tbody tr th {\n",
       "        vertical-align: top;\n",
       "    }\n",
       "\n",
       "    .dataframe thead th {\n",
       "        text-align: right;\n",
       "    }\n",
       "</style>\n",
       "<table border=\"1\" class=\"dataframe\">\n",
       "  <thead>\n",
       "    <tr style=\"text-align: right;\">\n",
       "      <th></th>\n",
       "      <th></th>\n",
       "      <th>price</th>\n",
       "      <th>quantity</th>\n",
       "    </tr>\n",
       "    <tr>\n",
       "      <th>object</th>\n",
       "      <th>colour</th>\n",
       "      <th></th>\n",
       "      <th></th>\n",
       "    </tr>\n",
       "  </thead>\n",
       "  <tbody>\n",
       "    <tr>\n",
       "      <th>glass</th>\n",
       "      <th>white</th>\n",
       "      <td>1.280</td>\n",
       "      <td>30.0</td>\n",
       "    </tr>\n",
       "    <tr>\n",
       "      <th rowspan=\"2\" valign=\"top\">mug</th>\n",
       "      <th>blue</th>\n",
       "      <td>5.120</td>\n",
       "      <td>32.0</td>\n",
       "    </tr>\n",
       "    <tr>\n",
       "      <th>red</th>\n",
       "      <td>4.975</td>\n",
       "      <td>85.0</td>\n",
       "    </tr>\n",
       "    <tr>\n",
       "      <th rowspan=\"2\" valign=\"top\">plate</th>\n",
       "      <th>blue</th>\n",
       "      <td>2.120</td>\n",
       "      <td>18.0</td>\n",
       "    </tr>\n",
       "    <tr>\n",
       "      <th>green</th>\n",
       "      <td>1.735</td>\n",
       "      <td>35.0</td>\n",
       "    </tr>\n",
       "  </tbody>\n",
       "</table>\n",
       "</div>"
      ],
      "text/plain": [
       "               price  quantity\n",
       "object colour                 \n",
       "glass  white   1.280      30.0\n",
       "mug    blue    5.120      32.0\n",
       "       red     4.975      85.0\n",
       "plate  blue    2.120      18.0\n",
       "       green   1.735      35.0"
      ]
     },
     "execution_count": 45,
     "metadata": {},
     "output_type": "execute_result"
    }
   ],
   "source": [
    "grouped.mean()"
   ]
  }
 ],
 "metadata": {
  "celltoolbar": "Slideshow",
  "kernelspec": {
   "display_name": "Python 3 (ipykernel)",
   "language": "python",
   "name": "python3"
  },
  "language_info": {
   "codemirror_mode": {
    "name": "ipython",
    "version": 3
   },
   "file_extension": ".py",
   "mimetype": "text/x-python",
   "name": "python",
   "nbconvert_exporter": "python",
   "pygments_lexer": "ipython3",
   "version": "3.12.4"
  }
 },
 "nbformat": 4,
 "nbformat_minor": 5
}

{
 "cells": [
  {
   "cell_type": "markdown",
   "id": "ca69d097",
   "metadata": {
    "slideshow": {
     "slide_type": "slide"
    }
   },
   "source": [
    "# Data Aggregation (grouping)"
   ]
  },
  {
   "cell_type": "markdown",
   "id": "dca1c06b",
   "metadata": {
    "slideshow": {
     "slide_type": "slide"
    }
   },
   "source": [
    "Let's first import a dataset from 'product.csv'"
   ]
  },
  {
   "cell_type": "code",
   "execution_count": null,
   "id": "5d98a27a",
   "metadata": {
    "scrolled": true
   },
   "outputs": [],
   "source": [
    " "
   ]
  },
  {
   "cell_type": "markdown",
   "id": "423a86d2",
   "metadata": {
    "slideshow": {
     "slide_type": "slide"
    }
   },
   "source": [
    "**Question**: How can we define groups?"
   ]
  },
  {
   "cell_type": "markdown",
   "id": "201f94ac",
   "metadata": {
    "slideshow": {
     "slide_type": "slide"
    }
   },
   "source": [
    "One common approach is to look at a categorical variable. pandas Series have the methods `unique()` and `value_counts()` that are very useful in this regard.\n",
    "\n",
    "* `unique()`: returns an array of unique categories in the series\n",
    "* `value_counts()`: a Series, where the frequency of each category is provided"
   ]
  },
  {
   "cell_type": "code",
   "execution_count": null,
   "id": "8e8e940f",
   "metadata": {},
   "outputs": [],
   "source": []
  },
  {
   "cell_type": "code",
   "execution_count": null,
   "id": "7344ef57",
   "metadata": {},
   "outputs": [],
   "source": []
  },
  {
   "cell_type": "markdown",
   "id": "449efa4d",
   "metadata": {
    "slideshow": {
     "slide_type": "slide"
    }
   },
   "source": [
    "## Grouping"
   ]
  },
  {
   "cell_type": "markdown",
   "id": "5a305e3d",
   "metadata": {
    "slideshow": {
     "slide_type": "-"
    }
   },
   "source": [
    "We can use the function `groupby()` to construct groups for a variable\n",
    "\n",
    "* The variable based on which groups are contructed should be categorical variable\n",
    "* For a numerical variable is numerical, it is possible to discretize the variable by defining ranges of values; then each range can be a group"
   ]
  },
  {
   "cell_type": "markdown",
   "id": "db57c55e",
   "metadata": {
    "slideshow": {
     "slide_type": "slide"
    }
   },
   "source": [
    "### Grouping based on a single variable"
   ]
  },
  {
   "cell_type": "markdown",
   "id": "73e61158",
   "metadata": {},
   "source": [
    "Inside the round bracket of `groupby()`, we should indicate the variable (i.e., the **column**), based on which the grouping is performed"
   ]
  },
  {
   "cell_type": "code",
   "execution_count": null,
   "id": "3e29ca0c",
   "metadata": {},
   "outputs": [],
   "source": []
  },
  {
   "cell_type": "markdown",
   "id": "353fa315",
   "metadata": {
    "slideshow": {
     "slide_type": "slide"
    }
   },
   "source": [
    "The object above (grouped) is a *Groupby* object.\n",
    "\n",
    "This object has a few methods to calculate summary statistics of each group"
   ]
  },
  {
   "cell_type": "code",
   "execution_count": 5,
   "id": "6fc4c692",
   "metadata": {},
   "outputs": [],
   "source": [
    "# Note the use of numeric_only=True"
   ]
  },
  {
   "cell_type": "markdown",
   "id": "284b7ba8",
   "metadata": {
    "slideshow": {
     "slide_type": "fragment"
    }
   },
   "source": [
    "Looking at the \"price\" column, the average price for glass, mug and plate are 1.28, 5.02, 1.86."
   ]
  },
  {
   "cell_type": "markdown",
   "id": "ae927166",
   "metadata": {
    "slideshow": {
     "slide_type": "slide"
    }
   },
   "source": [
    "It is important to mention that `grouped.mean()` returns a DataFrame. \n",
    "* To confirm, use `type(mean_grouped)`\n",
    "\n",
    "To show medians of each group, use `grouped.median()`"
   ]
  },
  {
   "cell_type": "markdown",
   "id": "f93ab9ac",
   "metadata": {
    "slideshow": {
     "slide_type": "slide"
    }
   },
   "source": [
    "What we just did was grouping the entire Dataframe based on values of a certain column.\n",
    "\n",
    "Sometimes are interested to group only a certain column. \n",
    "* For example, we can do grouping for the variable 'price' only\n"
   ]
  },
  {
   "cell_type": "code",
   "execution_count": null,
   "id": "801ab8e9",
   "metadata": {},
   "outputs": [],
   "source": []
  },
  {
   "cell_type": "markdown",
   "id": "96e190ea",
   "metadata": {
    "slideshow": {
     "slide_type": "subslide"
    }
   },
   "source": [
    "Let's calculate the standard deviation of each group"
   ]
  },
  {
   "cell_type": "code",
   "execution_count": null,
   "id": "e8c489aa",
   "metadata": {},
   "outputs": [],
   "source": []
  },
  {
   "cell_type": "markdown",
   "id": "96825e0a",
   "metadata": {
    "slideshow": {
     "slide_type": "slide"
    }
   },
   "source": [
    "**Question** Why the standard deviations for the \"glass\" group is `NaN`?"
   ]
  },
  {
   "cell_type": "markdown",
   "id": "e3fe4546",
   "metadata": {
    "slideshow": {
     "slide_type": "slide"
    }
   },
   "source": [
    "Note that we did grouping for a single column. The resulting 'Groupby' is a pandas Series intead of a DataFrame"
   ]
  },
  {
   "cell_type": "code",
   "execution_count": 10,
   "id": "bce09489",
   "metadata": {},
   "outputs": [],
   "source": [
    "# find the type of std_grouped"
   ]
  },
  {
   "cell_type": "markdown",
   "id": "98b2f3c1",
   "metadata": {
    "slideshow": {
     "slide_type": "slide"
    }
   },
   "source": [
    "### Grouping based on several variables"
   ]
  },
  {
   "cell_type": "markdown",
   "id": "49c6cf09",
   "metadata": {},
   "source": [
    "One can group a column with respect to more than one variable. \n",
    "\n",
    "* For example,we will group the variable price, based on 'object' as well as 'colour'.\n",
    "* To do that, use `groupby.(list_of_varibles_to_define_groups)`"
   ]
  },
  {
   "cell_type": "code",
   "execution_count": 12,
   "id": "2fe0b32a",
   "metadata": {
    "slideshow": {
     "slide_type": "subslide"
    }
   },
   "outputs": [],
   "source": [
    "#Perform the grouping for 'price', based on object and colour\n",
    "\n",
    "#Show the average prices by group\n"
   ]
  },
  {
   "cell_type": "markdown",
   "id": "5d580a94",
   "metadata": {
    "slideshow": {
     "slide_type": "slide"
    }
   },
   "source": [
    "Finally, we can group several variables together, based on two or more other variables"
   ]
  },
  {
   "cell_type": "code",
   "execution_count": 13,
   "id": "454d1316",
   "metadata": {},
   "outputs": [],
   "source": [
    "# Let's group 'price' and 'quantity' together, based on 'object' and 'colour'\n",
    "\n"
   ]
  },
  {
   "cell_type": "code",
   "execution_count": null,
   "id": "ea36c97d",
   "metadata": {},
   "outputs": [],
   "source": []
  }
 ],
 "metadata": {
  "celltoolbar": "Slideshow",
  "kernelspec": {
   "display_name": "Python 3 (ipykernel)",
   "language": "python",
   "name": "python3"
  },
  "language_info": {
   "codemirror_mode": {
    "name": "ipython",
    "version": 3
   },
   "file_extension": ".py",
   "mimetype": "text/x-python",
   "name": "python",
   "nbconvert_exporter": "python",
   "pygments_lexer": "ipython3",
   "version": "3.12.4"
  }
 },
 "nbformat": 4,
 "nbformat_minor": 5
}

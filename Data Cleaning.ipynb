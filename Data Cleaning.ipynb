{
 "cells": [
  {
   "cell_type": "markdown",
   "id": "b5c2a165",
   "metadata": {
    "slideshow": {
     "slide_type": "slide"
    }
   },
   "source": [
    "# Missing Values in DataFrames"
   ]
  },
  {
   "cell_type": "markdown",
   "id": "eac5e9da",
   "metadata": {
    "slideshow": {
     "slide_type": "slide"
    }
   },
   "source": [
    "Missing values in pandas Dataframes are represented as `NaN` (Not a Number). \n",
    "\n",
    "A Dataframe may have `NaN` values in different columns, which may  create issues in data analysis. \n",
    "\n",
    "To address missing values, we start with a CSV file that contains some missing values. "
   ]
  },
  {
   "cell_type": "code",
   "execution_count": 4,
   "id": "a16fabf6",
   "metadata": {
    "slideshow": {
     "slide_type": "slide"
    }
   },
   "outputs": [],
   "source": [
    "# Loading the sales.csv file\n",
    "\n"
   ]
  },
  {
   "cell_type": "markdown",
   "id": "24cf5eb2",
   "metadata": {
    "slideshow": {
     "slide_type": "skip"
    }
   },
   "source": [
    "We now use different approaches to deal with missing values"
   ]
  },
  {
   "cell_type": "markdown",
   "id": "7741073c",
   "metadata": {
    "slideshow": {
     "slide_type": "slide"
    }
   },
   "source": [
    "## Dropping missing values"
   ]
  },
  {
   "cell_type": "markdown",
   "id": "7379f4eb",
   "metadata": {},
   "source": [
    "One approach is to drop all the records (i.e., rows) with any `NaN`, by using `dropna()` function to return a DataFrame without rows that have `NaN` values."
   ]
  },
  {
   "cell_type": "code",
   "execution_count": null,
   "id": "ba316362",
   "metadata": {},
   "outputs": [],
   "source": []
  },
  {
   "cell_type": "markdown",
   "id": "3b4a480f",
   "metadata": {
    "slideshow": {
     "slide_type": "slide"
    }
   },
   "source": [
    "Note that this will not affect the original `sales` DataFrame.\n",
    "\n",
    "We can assign it to a new DataFrame. "
   ]
  },
  {
   "cell_type": "code",
   "execution_count": 1,
   "id": "d9c646de",
   "metadata": {},
   "outputs": [],
   "source": [
    "# Assign the dataframe to a new DataFrame named sales_no_na"
   ]
  },
  {
   "cell_type": "markdown",
   "id": "c4ed1e43",
   "metadata": {
    "slideshow": {
     "slide_type": "slide"
    }
   },
   "source": [
    "Alternatively, if we want the Dataframe to change we should add the argument `inplace` and set it to `True`:\n",
    "\n",
    "* `df.dropna(inplace=True)`\n"
   ]
  },
  {
   "cell_type": "markdown",
   "id": "a1c81b6d",
   "metadata": {
    "slideshow": {
     "slide_type": "slide"
    }
   },
   "source": [
    "For any particular **column**, we may filter out the **rows** that have missing values.\n",
    "\n",
    "* First, use the `notna()` function to determine if each row of **the column** is <u>**not** a missing value</u>\n",
    "* Then, use `df[condition]` to get all rows of the DataFrame that does not have a missing value in **the column**"
   ]
  },
  {
   "cell_type": "code",
   "execution_count": 6,
   "id": "39ea5a90",
   "metadata": {},
   "outputs": [],
   "source": [
    "# Focus on the column \"stores\"\n",
    "\n"
   ]
  },
  {
   "cell_type": "code",
   "execution_count": 8,
   "id": "2ac9188b",
   "metadata": {
    "slideshow": {
     "slide_type": "subslide"
    }
   },
   "outputs": [],
   "source": [
    "# Filter out all rows of the DataFrame that do not have a missing \"stores\" values\n",
    "\n"
   ]
  },
  {
   "cell_type": "markdown",
   "id": "efa9d2cb",
   "metadata": {
    "slideshow": {
     "slide_type": "slide"
    }
   },
   "source": [
    "**Note**: the condition `sales['stores'].notna()` has values True and False. \n",
    "\n",
    "The True values are returned, which are indexes 0, 1, 2, 3, 4 and 6. The above code is equivalent to `sales[[0, 1, 2, 3, 4, 6]]`"
   ]
  },
  {
   "cell_type": "markdown",
   "id": "d92413af",
   "metadata": {
    "slideshow": {
     "slide_type": "slide"
    }
   },
   "source": [
    "The function `isnull()` can find out which values are missing.\n",
    "* This function can be applied to the entire DataFrame"
   ]
  },
  {
   "cell_type": "code",
   "execution_count": null,
   "id": "13d898a1",
   "metadata": {},
   "outputs": [],
   "source": []
  },
  {
   "cell_type": "markdown",
   "id": "d33cfd82",
   "metadata": {
    "slideshow": {
     "slide_type": "slide"
    }
   },
   "source": [
    "This function is useful for counting the missing values in each column, when used with the `sum()` function"
   ]
  },
  {
   "cell_type": "code",
   "execution_count": null,
   "id": "7d681a37",
   "metadata": {},
   "outputs": [],
   "source": []
  },
  {
   "cell_type": "markdown",
   "id": "d617ec0f",
   "metadata": {},
   "source": [
    "The above indicates that the variables 'stores' and 'march' had each 1 missing value, variables 'january', 'february' and 'april' had each 2 missing values."
   ]
  },
  {
   "cell_type": "markdown",
   "id": "56cfe27e",
   "metadata": {
    "slideshow": {
     "slide_type": "slide"
    }
   },
   "source": [
    "**Question**: What are some disadvantages of dropping missing values?"
   ]
  },
  {
   "cell_type": "markdown",
   "id": "b0fc6c56",
   "metadata": {
    "slideshow": {
     "slide_type": "slide"
    }
   },
   "source": [
    "## Imputing missing values\n",
    "\n",
    "Instead of filtering out records with NaN, one approach is to fill them in with another value.\n",
    "\n",
    "Different values could be used. Focusing on a particular column, we can use:\n",
    "\n",
    "* the average\n",
    "* the median\n",
    "* the mode\n",
    "\n",
    "of all non-`NaN` values in the column. "
   ]
  },
  {
   "cell_type": "markdown",
   "id": "f1576b24",
   "metadata": {
    "slideshow": {
     "slide_type": "subslide"
    }
   },
   "source": [
    "To do that, we can use the `fillna()` function. \n",
    "\n",
    "Inside the `()` should be the value to replace `NaN` with. "
   ]
  },
  {
   "cell_type": "code",
   "execution_count": null,
   "id": "d6eb0d45",
   "metadata": {},
   "outputs": [],
   "source": [
    "# In the 'stores' column, replace the NA's by 'unknown_store'"
   ]
  },
  {
   "cell_type": "markdown",
   "id": "6b68a60b",
   "metadata": {
    "slideshow": {
     "slide_type": "slide"
    }
   },
   "source": [
    "Suppose we would like to impute the missing values of all numerical variables by the **average** of their corresponding column. \n",
    "\n",
    "We can do:"
   ]
  },
  {
   "cell_type": "code",
   "execution_count": null,
   "id": "25b87cac",
   "metadata": {},
   "outputs": [],
   "source": [
    "# Use inplace=True to change the original DataFrame; \n",
    "# use numeric_only=True to ignore the non-numeric columns"
   ]
  },
  {
   "cell_type": "markdown",
   "id": "958691be",
   "metadata": {
    "slideshow": {
     "slide_type": "notes"
    }
   },
   "source": [
    "**Notes**: \n",
    "\n",
    "1. By using the key word argument `numeric_only=True`, we make sure that the `mean()` function is only applied to the numeric columns only. If we had a missing value in the 'stores' variable, that missing value would not have been imputed by the average since its corresponding column does not have any average.\n",
    "\n",
    "2. This operation will use the average of each column to impute the missing values of that column only.\n",
    "\n",
    "3. This operation will change the DataFrame itself when we used the argument `inplace = True`. \n",
    "\n",
    "4. An alternative is to apply the `fillna()` function to each variable of the DataFrame separately, with separate values\n",
    "\n",
    "5. We can impute all columns by the median also, in this case, we would use the `median()` function instead of the mean() function"
   ]
  },
  {
   "cell_type": "markdown",
   "id": "7668ff83",
   "metadata": {
    "slideshow": {
     "slide_type": "slide"
    }
   },
   "source": [
    "## Using regression for imputing"
   ]
  },
  {
   "cell_type": "markdown",
   "id": "9643c974",
   "metadata": {
    "slideshow": {
     "slide_type": "subslide"
    }
   },
   "source": [
    "The following regression-based procedure can be used to impute missing values.\n",
    "\n",
    "1.\tIdentify the variable with missing values in it.\n",
    "\n",
    "2.\tOnly select the rows from the dataset, where there are no missing values in this variable.\n",
    "\n",
    "3.\tAssume this variable is your dependent (target) variable and other variables are the features.\n",
    "\n",
    "4.\tDevelop a linear regression model and use it to predict the missing values of the target (the variables with missing values).\n",
    "\n",
    "This topic will be discussed visually in the lecture with more details (time permitting).\n",
    "\n",
    "The scikit-learn library implemented several imputers, see the documentation at https://scikit-learn.org/stable/modules/impute.html\n",
    "\n"
   ]
  },
  {
   "cell_type": "markdown",
   "id": "a8f12c07",
   "metadata": {
    "slideshow": {
     "slide_type": "slide"
    }
   },
   "source": [
    "# Handling Duplicated Data"
   ]
  },
  {
   "cell_type": "markdown",
   "id": "ab148a70",
   "metadata": {},
   "source": [
    "Data cleaning often needs to identify and remove duplicated data.\n",
    "\n",
    "For example, in the file 'sales_duplicated.csv', there are some duplicated records. Let's first load the file."
   ]
  },
  {
   "cell_type": "code",
   "execution_count": null,
   "id": "0b5a3f02",
   "metadata": {},
   "outputs": [],
   "source": []
  },
  {
   "cell_type": "markdown",
   "id": "f5e0a884",
   "metadata": {
    "slideshow": {
     "slide_type": "subslide"
    }
   },
   "source": [
    "We can figure out if each row in the dataframe is a duplicate of another row using the `duplicated()` method of the DataFrame. \n",
    "\n",
    "It returns an array of True and False .\n",
    "* False if the row is not a duplicate \n",
    "* True if it is."
   ]
  },
  {
   "cell_type": "code",
   "execution_count": null,
   "id": "a66af8f0",
   "metadata": {},
   "outputs": [],
   "source": []
  },
  {
   "cell_type": "markdown",
   "id": "423da7cf",
   "metadata": {
    "slideshow": {
     "slide_type": "slide"
    }
   },
   "source": [
    "We can then remove any duplicates from the dataframe by using the `drop_duplicates()`\n",
    "* Use `inplace=True` to modify the dataframe "
   ]
  },
  {
   "cell_type": "code",
   "execution_count": null,
   "id": "07bcaeba",
   "metadata": {},
   "outputs": [],
   "source": []
  },
  {
   "cell_type": "markdown",
   "id": "b98220f6",
   "metadata": {
    "slideshow": {
     "slide_type": "subslide"
    }
   },
   "source": [
    "We can reset the indexes after dropping the duplicated rows"
   ]
  },
  {
   "cell_type": "code",
   "execution_count": null,
   "id": "037fd79c",
   "metadata": {},
   "outputs": [],
   "source": []
  }
 ],
 "metadata": {
  "celltoolbar": "Slideshow",
  "kernelspec": {
   "display_name": "Python 3 (ipykernel)",
   "language": "python",
   "name": "python3"
  },
  "language_info": {
   "codemirror_mode": {
    "name": "ipython",
    "version": 3
   },
   "file_extension": ".py",
   "mimetype": "text/x-python",
   "name": "python",
   "nbconvert_exporter": "python",
   "pygments_lexer": "ipython3",
   "version": "3.12.5"
  }
 },
 "nbformat": 4,
 "nbformat_minor": 5
}

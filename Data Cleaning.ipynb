{
 "cells": [
  {
   "cell_type": "markdown",
   "id": "b5c2a165",
   "metadata": {
    "slideshow": {
     "slide_type": "slide"
    }
   },
   "source": [
    "# Missing Values in DataFrames"
   ]
  },
  {
   "cell_type": "markdown",
   "id": "eac5e9da",
   "metadata": {
    "slideshow": {
     "slide_type": "slide"
    }
   },
   "source": [
    "Missing values in pandas Dataframes are represented as `NaN` (Not a Number). \n",
    "\n",
    "A Dataframe may have `NaN` values in different columns, which may  create issues in data analysis. \n",
    "\n",
    "To address missing values, we start with a CSV file that contains some missing values. "
   ]
  },
  {
   "cell_type": "code",
   "execution_count": 27,
   "id": "a16fabf6",
   "metadata": {
    "scrolled": true,
    "slideshow": {
     "slide_type": "slide"
    }
   },
   "outputs": [
    {
     "data": {
      "text/html": [
       "<div>\n",
       "<style scoped>\n",
       "    .dataframe tbody tr th:only-of-type {\n",
       "        vertical-align: middle;\n",
       "    }\n",
       "\n",
       "    .dataframe tbody tr th {\n",
       "        vertical-align: top;\n",
       "    }\n",
       "\n",
       "    .dataframe thead th {\n",
       "        text-align: right;\n",
       "    }\n",
       "</style>\n",
       "<table border=\"1\" class=\"dataframe\">\n",
       "  <thead>\n",
       "    <tr style=\"text-align: right;\">\n",
       "      <th></th>\n",
       "      <th>stores</th>\n",
       "      <th>january</th>\n",
       "      <th>february</th>\n",
       "      <th>march</th>\n",
       "      <th>april</th>\n",
       "    </tr>\n",
       "  </thead>\n",
       "  <tbody>\n",
       "    <tr>\n",
       "      <th>0</th>\n",
       "      <td>store_139</td>\n",
       "      <td>40824.0</td>\n",
       "      <td>40216.0</td>\n",
       "      <td>NaN</td>\n",
       "      <td>35065.0</td>\n",
       "    </tr>\n",
       "    <tr>\n",
       "      <th>1</th>\n",
       "      <td>store_52</td>\n",
       "      <td>38476.0</td>\n",
       "      <td>38616.0</td>\n",
       "      <td>38325.0</td>\n",
       "      <td>NaN</td>\n",
       "    </tr>\n",
       "    <tr>\n",
       "      <th>2</th>\n",
       "      <td>store_36</td>\n",
       "      <td>42875.0</td>\n",
       "      <td>NaN</td>\n",
       "      <td>41219.0</td>\n",
       "      <td>42279.0</td>\n",
       "    </tr>\n",
       "    <tr>\n",
       "      <th>3</th>\n",
       "      <td>store_71</td>\n",
       "      <td>36112.0</td>\n",
       "      <td>NaN</td>\n",
       "      <td>39021.0</td>\n",
       "      <td>41521.0</td>\n",
       "    </tr>\n",
       "    <tr>\n",
       "      <th>4</th>\n",
       "      <td>store_12</td>\n",
       "      <td>NaN</td>\n",
       "      <td>36198.0</td>\n",
       "      <td>42958.0</td>\n",
       "      <td>44595.0</td>\n",
       "    </tr>\n",
       "    <tr>\n",
       "      <th>5</th>\n",
       "      <td>NaN</td>\n",
       "      <td>39912.0</td>\n",
       "      <td>44106.0</td>\n",
       "      <td>44853.0</td>\n",
       "      <td>43256.0</td>\n",
       "    </tr>\n",
       "    <tr>\n",
       "      <th>6</th>\n",
       "      <td>store_14</td>\n",
       "      <td>45105.0</td>\n",
       "      <td>37296.0</td>\n",
       "      <td>42293.0</td>\n",
       "      <td>40126.0</td>\n",
       "    </tr>\n",
       "    <tr>\n",
       "      <th>7</th>\n",
       "      <td>store_8</td>\n",
       "      <td>NaN</td>\n",
       "      <td>43471.0</td>\n",
       "      <td>35589.0</td>\n",
       "      <td>NaN</td>\n",
       "    </tr>\n",
       "  </tbody>\n",
       "</table>\n",
       "</div>"
      ],
      "text/plain": [
       "      stores  january  february    march    april\n",
       "0  store_139  40824.0   40216.0      NaN  35065.0\n",
       "1   store_52  38476.0   38616.0  38325.0      NaN\n",
       "2   store_36  42875.0       NaN  41219.0  42279.0\n",
       "3   store_71  36112.0       NaN  39021.0  41521.0\n",
       "4   store_12      NaN   36198.0  42958.0  44595.0\n",
       "5        NaN  39912.0   44106.0  44853.0  43256.0\n",
       "6   store_14  45105.0   37296.0  42293.0  40126.0\n",
       "7    store_8      NaN   43471.0  35589.0      NaN"
      ]
     },
     "execution_count": 27,
     "metadata": {},
     "output_type": "execute_result"
    }
   ],
   "source": [
    "import pandas as pd\n",
    "\n",
    "# Loading the sales.csv file\n",
    "url = \"https://raw.githubusercontent.com/zhouy185/BUS_O712/main/Data/sales.csv\"\n",
    "\n",
    "sales=pd.read_csv(url) \n",
    "\n",
    "sales.head(10)"
   ]
  },
  {
   "cell_type": "markdown",
   "id": "24cf5eb2",
   "metadata": {
    "slideshow": {
     "slide_type": "skip"
    }
   },
   "source": [
    "We now use different approaches to deal with missing values"
   ]
  },
  {
   "cell_type": "markdown",
   "id": "7741073c",
   "metadata": {
    "slideshow": {
     "slide_type": "slide"
    }
   },
   "source": [
    "## Dropping missing values"
   ]
  },
  {
   "cell_type": "markdown",
   "id": "7379f4eb",
   "metadata": {},
   "source": [
    "One approach is to drop all the records (i.e., rows) with any `NaN`, by using `dropna()` function to return a DataFrame without rows that have `NaN` values."
   ]
  },
  {
   "cell_type": "code",
   "execution_count": 28,
   "id": "ba316362",
   "metadata": {},
   "outputs": [
    {
     "data": {
      "text/html": [
       "<div>\n",
       "<style scoped>\n",
       "    .dataframe tbody tr th:only-of-type {\n",
       "        vertical-align: middle;\n",
       "    }\n",
       "\n",
       "    .dataframe tbody tr th {\n",
       "        vertical-align: top;\n",
       "    }\n",
       "\n",
       "    .dataframe thead th {\n",
       "        text-align: right;\n",
       "    }\n",
       "</style>\n",
       "<table border=\"1\" class=\"dataframe\">\n",
       "  <thead>\n",
       "    <tr style=\"text-align: right;\">\n",
       "      <th></th>\n",
       "      <th>stores</th>\n",
       "      <th>january</th>\n",
       "      <th>february</th>\n",
       "      <th>march</th>\n",
       "      <th>april</th>\n",
       "    </tr>\n",
       "  </thead>\n",
       "  <tbody>\n",
       "    <tr>\n",
       "      <th>6</th>\n",
       "      <td>store_14</td>\n",
       "      <td>45105.0</td>\n",
       "      <td>37296.0</td>\n",
       "      <td>42293.0</td>\n",
       "      <td>40126.0</td>\n",
       "    </tr>\n",
       "  </tbody>\n",
       "</table>\n",
       "</div>"
      ],
      "text/plain": [
       "     stores  january  february    march    april\n",
       "6  store_14  45105.0   37296.0  42293.0  40126.0"
      ]
     },
     "execution_count": 28,
     "metadata": {},
     "output_type": "execute_result"
    }
   ],
   "source": [
    "sales.dropna()"
   ]
  },
  {
   "cell_type": "markdown",
   "id": "3b4a480f",
   "metadata": {
    "slideshow": {
     "slide_type": "slide"
    }
   },
   "source": [
    "Note that this will not affect the original `sales` DataFrame.\n",
    "\n",
    "We can assign it to a new DataFrame. "
   ]
  },
  {
   "cell_type": "code",
   "execution_count": 29,
   "id": "d9c646de",
   "metadata": {},
   "outputs": [
    {
     "data": {
      "text/html": [
       "<div>\n",
       "<style scoped>\n",
       "    .dataframe tbody tr th:only-of-type {\n",
       "        vertical-align: middle;\n",
       "    }\n",
       "\n",
       "    .dataframe tbody tr th {\n",
       "        vertical-align: top;\n",
       "    }\n",
       "\n",
       "    .dataframe thead th {\n",
       "        text-align: right;\n",
       "    }\n",
       "</style>\n",
       "<table border=\"1\" class=\"dataframe\">\n",
       "  <thead>\n",
       "    <tr style=\"text-align: right;\">\n",
       "      <th></th>\n",
       "      <th>stores</th>\n",
       "      <th>january</th>\n",
       "      <th>february</th>\n",
       "      <th>march</th>\n",
       "      <th>april</th>\n",
       "    </tr>\n",
       "  </thead>\n",
       "  <tbody>\n",
       "    <tr>\n",
       "      <th>6</th>\n",
       "      <td>store_14</td>\n",
       "      <td>45105.0</td>\n",
       "      <td>37296.0</td>\n",
       "      <td>42293.0</td>\n",
       "      <td>40126.0</td>\n",
       "    </tr>\n",
       "  </tbody>\n",
       "</table>\n",
       "</div>"
      ],
      "text/plain": [
       "     stores  january  february    march    april\n",
       "6  store_14  45105.0   37296.0  42293.0  40126.0"
      ]
     },
     "execution_count": 29,
     "metadata": {},
     "output_type": "execute_result"
    }
   ],
   "source": [
    "# Assign the dataframe to a new DataFrame named sales_no_na\n",
    "sales_no_na = sales.dropna()\n",
    "sales_no_na"
   ]
  },
  {
   "cell_type": "markdown",
   "id": "c4ed1e43",
   "metadata": {
    "slideshow": {
     "slide_type": "slide"
    }
   },
   "source": [
    "Alternatively, if we want the Dataframe to change we should add the argument `inplace` and set it to `True`:\n",
    "\n",
    "* `df.dropna(inplace=True)`\n"
   ]
  },
  {
   "cell_type": "markdown",
   "id": "a1c81b6d",
   "metadata": {
    "slideshow": {
     "slide_type": "slide"
    }
   },
   "source": [
    "For any particular **column**, we may filter out the **rows** that have missing values.\n",
    "\n",
    "* First, use the `notna()` function to determine if each row of **the column** is <u>**not** a missing value</u>\n",
    "* Then, use `df[condition]` to get all rows of the DataFrame that does not have a missing value in **the column**"
   ]
  },
  {
   "cell_type": "code",
   "execution_count": 31,
   "id": "39ea5a90",
   "metadata": {},
   "outputs": [
    {
     "data": {
      "text/plain": [
       "0     True\n",
       "1     True\n",
       "2     True\n",
       "3     True\n",
       "4     True\n",
       "5    False\n",
       "6     True\n",
       "7     True\n",
       "Name: stores, dtype: bool"
      ]
     },
     "execution_count": 31,
     "metadata": {},
     "output_type": "execute_result"
    }
   ],
   "source": [
    "# Focus on the column \"stores\"\n",
    "sales['stores'].notna()"
   ]
  },
  {
   "cell_type": "code",
   "execution_count": 32,
   "id": "2ac9188b",
   "metadata": {
    "slideshow": {
     "slide_type": "subslide"
    }
   },
   "outputs": [
    {
     "data": {
      "text/html": [
       "<div>\n",
       "<style scoped>\n",
       "    .dataframe tbody tr th:only-of-type {\n",
       "        vertical-align: middle;\n",
       "    }\n",
       "\n",
       "    .dataframe tbody tr th {\n",
       "        vertical-align: top;\n",
       "    }\n",
       "\n",
       "    .dataframe thead th {\n",
       "        text-align: right;\n",
       "    }\n",
       "</style>\n",
       "<table border=\"1\" class=\"dataframe\">\n",
       "  <thead>\n",
       "    <tr style=\"text-align: right;\">\n",
       "      <th></th>\n",
       "      <th>stores</th>\n",
       "      <th>january</th>\n",
       "      <th>february</th>\n",
       "      <th>march</th>\n",
       "      <th>april</th>\n",
       "    </tr>\n",
       "  </thead>\n",
       "  <tbody>\n",
       "    <tr>\n",
       "      <th>0</th>\n",
       "      <td>store_139</td>\n",
       "      <td>40824.0</td>\n",
       "      <td>40216.0</td>\n",
       "      <td>NaN</td>\n",
       "      <td>35065.0</td>\n",
       "    </tr>\n",
       "    <tr>\n",
       "      <th>1</th>\n",
       "      <td>store_52</td>\n",
       "      <td>38476.0</td>\n",
       "      <td>38616.0</td>\n",
       "      <td>38325.0</td>\n",
       "      <td>NaN</td>\n",
       "    </tr>\n",
       "    <tr>\n",
       "      <th>2</th>\n",
       "      <td>store_36</td>\n",
       "      <td>42875.0</td>\n",
       "      <td>NaN</td>\n",
       "      <td>41219.0</td>\n",
       "      <td>42279.0</td>\n",
       "    </tr>\n",
       "    <tr>\n",
       "      <th>3</th>\n",
       "      <td>store_71</td>\n",
       "      <td>36112.0</td>\n",
       "      <td>NaN</td>\n",
       "      <td>39021.0</td>\n",
       "      <td>41521.0</td>\n",
       "    </tr>\n",
       "    <tr>\n",
       "      <th>4</th>\n",
       "      <td>store_12</td>\n",
       "      <td>NaN</td>\n",
       "      <td>36198.0</td>\n",
       "      <td>42958.0</td>\n",
       "      <td>44595.0</td>\n",
       "    </tr>\n",
       "    <tr>\n",
       "      <th>6</th>\n",
       "      <td>store_14</td>\n",
       "      <td>45105.0</td>\n",
       "      <td>37296.0</td>\n",
       "      <td>42293.0</td>\n",
       "      <td>40126.0</td>\n",
       "    </tr>\n",
       "    <tr>\n",
       "      <th>7</th>\n",
       "      <td>store_8</td>\n",
       "      <td>NaN</td>\n",
       "      <td>43471.0</td>\n",
       "      <td>35589.0</td>\n",
       "      <td>NaN</td>\n",
       "    </tr>\n",
       "  </tbody>\n",
       "</table>\n",
       "</div>"
      ],
      "text/plain": [
       "      stores  january  february    march    april\n",
       "0  store_139  40824.0   40216.0      NaN  35065.0\n",
       "1   store_52  38476.0   38616.0  38325.0      NaN\n",
       "2   store_36  42875.0       NaN  41219.0  42279.0\n",
       "3   store_71  36112.0       NaN  39021.0  41521.0\n",
       "4   store_12      NaN   36198.0  42958.0  44595.0\n",
       "6   store_14  45105.0   37296.0  42293.0  40126.0\n",
       "7    store_8      NaN   43471.0  35589.0      NaN"
      ]
     },
     "execution_count": 32,
     "metadata": {},
     "output_type": "execute_result"
    }
   ],
   "source": [
    "# Filter out all rows of the DataFrame that do not have a missing \"stores\" values\n",
    "\n",
    "sales[sales['stores'].notna()]"
   ]
  },
  {
   "cell_type": "markdown",
   "id": "efa9d2cb",
   "metadata": {
    "slideshow": {
     "slide_type": "slide"
    }
   },
   "source": [
    "**Note**: the condition `sales['stores'].notna()` has values True and False. \n",
    "\n",
    "The True values are returned, which are indexes 0, 1, 2, 3, 4 and 6. The above code is equivalent to `sales[[0, 1, 2, 3, 4, 6]]`"
   ]
  },
  {
   "cell_type": "markdown",
   "id": "d92413af",
   "metadata": {
    "slideshow": {
     "slide_type": "slide"
    }
   },
   "source": [
    "The function `isnull()` can find out which values are missing.\n",
    "* This function can be applied to the entire DataFrame"
   ]
  },
  {
   "cell_type": "code",
   "execution_count": 33,
   "id": "13d898a1",
   "metadata": {},
   "outputs": [
    {
     "data": {
      "text/html": [
       "<div>\n",
       "<style scoped>\n",
       "    .dataframe tbody tr th:only-of-type {\n",
       "        vertical-align: middle;\n",
       "    }\n",
       "\n",
       "    .dataframe tbody tr th {\n",
       "        vertical-align: top;\n",
       "    }\n",
       "\n",
       "    .dataframe thead th {\n",
       "        text-align: right;\n",
       "    }\n",
       "</style>\n",
       "<table border=\"1\" class=\"dataframe\">\n",
       "  <thead>\n",
       "    <tr style=\"text-align: right;\">\n",
       "      <th></th>\n",
       "      <th>stores</th>\n",
       "      <th>january</th>\n",
       "      <th>february</th>\n",
       "      <th>march</th>\n",
       "      <th>april</th>\n",
       "    </tr>\n",
       "  </thead>\n",
       "  <tbody>\n",
       "    <tr>\n",
       "      <th>0</th>\n",
       "      <td>False</td>\n",
       "      <td>False</td>\n",
       "      <td>False</td>\n",
       "      <td>True</td>\n",
       "      <td>False</td>\n",
       "    </tr>\n",
       "    <tr>\n",
       "      <th>1</th>\n",
       "      <td>False</td>\n",
       "      <td>False</td>\n",
       "      <td>False</td>\n",
       "      <td>False</td>\n",
       "      <td>True</td>\n",
       "    </tr>\n",
       "    <tr>\n",
       "      <th>2</th>\n",
       "      <td>False</td>\n",
       "      <td>False</td>\n",
       "      <td>True</td>\n",
       "      <td>False</td>\n",
       "      <td>False</td>\n",
       "    </tr>\n",
       "    <tr>\n",
       "      <th>3</th>\n",
       "      <td>False</td>\n",
       "      <td>False</td>\n",
       "      <td>True</td>\n",
       "      <td>False</td>\n",
       "      <td>False</td>\n",
       "    </tr>\n",
       "    <tr>\n",
       "      <th>4</th>\n",
       "      <td>False</td>\n",
       "      <td>True</td>\n",
       "      <td>False</td>\n",
       "      <td>False</td>\n",
       "      <td>False</td>\n",
       "    </tr>\n",
       "    <tr>\n",
       "      <th>5</th>\n",
       "      <td>True</td>\n",
       "      <td>False</td>\n",
       "      <td>False</td>\n",
       "      <td>False</td>\n",
       "      <td>False</td>\n",
       "    </tr>\n",
       "    <tr>\n",
       "      <th>6</th>\n",
       "      <td>False</td>\n",
       "      <td>False</td>\n",
       "      <td>False</td>\n",
       "      <td>False</td>\n",
       "      <td>False</td>\n",
       "    </tr>\n",
       "    <tr>\n",
       "      <th>7</th>\n",
       "      <td>False</td>\n",
       "      <td>True</td>\n",
       "      <td>False</td>\n",
       "      <td>False</td>\n",
       "      <td>True</td>\n",
       "    </tr>\n",
       "  </tbody>\n",
       "</table>\n",
       "</div>"
      ],
      "text/plain": [
       "   stores  january  february  march  april\n",
       "0   False    False     False   True  False\n",
       "1   False    False     False  False   True\n",
       "2   False    False      True  False  False\n",
       "3   False    False      True  False  False\n",
       "4   False     True     False  False  False\n",
       "5    True    False     False  False  False\n",
       "6   False    False     False  False  False\n",
       "7   False     True     False  False   True"
      ]
     },
     "execution_count": 33,
     "metadata": {},
     "output_type": "execute_result"
    }
   ],
   "source": [
    "sales.isnull()"
   ]
  },
  {
   "cell_type": "markdown",
   "id": "d33cfd82",
   "metadata": {
    "slideshow": {
     "slide_type": "slide"
    }
   },
   "source": [
    "This function is useful for counting the missing values in each column, when used with the `sum()` function"
   ]
  },
  {
   "cell_type": "code",
   "execution_count": 34,
   "id": "7d681a37",
   "metadata": {},
   "outputs": [
    {
     "data": {
      "text/plain": [
       "stores      1\n",
       "january     2\n",
       "february    2\n",
       "march       1\n",
       "april       2\n",
       "dtype: int64"
      ]
     },
     "execution_count": 34,
     "metadata": {},
     "output_type": "execute_result"
    }
   ],
   "source": [
    "sales.isnull().sum()"
   ]
  },
  {
   "cell_type": "markdown",
   "id": "d617ec0f",
   "metadata": {},
   "source": [
    "The above indicates that the variables 'stores' and 'march' had each 1 missing value, variables 'january', 'february' and 'april' had each 2 missing values."
   ]
  },
  {
   "cell_type": "markdown",
   "id": "56cfe27e",
   "metadata": {
    "slideshow": {
     "slide_type": "slide"
    }
   },
   "source": [
    "**Question**: What are some disadvantages of dropping missing values?"
   ]
  },
  {
   "cell_type": "markdown",
   "id": "b0fc6c56",
   "metadata": {
    "slideshow": {
     "slide_type": "slide"
    }
   },
   "source": [
    "## Imputing missing values\n",
    "\n",
    "Instead of filtering out records with NaN, one approach is to fill them in with another value.\n",
    "\n",
    "Different values could be used. Focusing on a particular column, we can use:\n",
    "\n",
    "* the average\n",
    "* the median\n",
    "* the mode\n",
    "\n",
    "of all non-`NaN` values in the column. "
   ]
  },
  {
   "cell_type": "markdown",
   "id": "f1576b24",
   "metadata": {
    "slideshow": {
     "slide_type": "subslide"
    }
   },
   "source": [
    "To do that, we can use the `fillna()` function. \n",
    "\n",
    "Inside the `()` should be the value to replace `NaN` with. "
   ]
  },
  {
   "cell_type": "code",
   "execution_count": 35,
   "id": "d6eb0d45",
   "metadata": {},
   "outputs": [
    {
     "data": {
      "text/html": [
       "<div>\n",
       "<style scoped>\n",
       "    .dataframe tbody tr th:only-of-type {\n",
       "        vertical-align: middle;\n",
       "    }\n",
       "\n",
       "    .dataframe tbody tr th {\n",
       "        vertical-align: top;\n",
       "    }\n",
       "\n",
       "    .dataframe thead th {\n",
       "        text-align: right;\n",
       "    }\n",
       "</style>\n",
       "<table border=\"1\" class=\"dataframe\">\n",
       "  <thead>\n",
       "    <tr style=\"text-align: right;\">\n",
       "      <th></th>\n",
       "      <th>stores</th>\n",
       "      <th>january</th>\n",
       "      <th>february</th>\n",
       "      <th>march</th>\n",
       "      <th>april</th>\n",
       "    </tr>\n",
       "  </thead>\n",
       "  <tbody>\n",
       "    <tr>\n",
       "      <th>0</th>\n",
       "      <td>store_139</td>\n",
       "      <td>40824.0</td>\n",
       "      <td>40216.0</td>\n",
       "      <td>NaN</td>\n",
       "      <td>35065.0</td>\n",
       "    </tr>\n",
       "    <tr>\n",
       "      <th>1</th>\n",
       "      <td>store_52</td>\n",
       "      <td>38476.0</td>\n",
       "      <td>38616.0</td>\n",
       "      <td>38325.0</td>\n",
       "      <td>NaN</td>\n",
       "    </tr>\n",
       "    <tr>\n",
       "      <th>2</th>\n",
       "      <td>store_36</td>\n",
       "      <td>42875.0</td>\n",
       "      <td>NaN</td>\n",
       "      <td>41219.0</td>\n",
       "      <td>42279.0</td>\n",
       "    </tr>\n",
       "    <tr>\n",
       "      <th>3</th>\n",
       "      <td>store_71</td>\n",
       "      <td>36112.0</td>\n",
       "      <td>NaN</td>\n",
       "      <td>39021.0</td>\n",
       "      <td>41521.0</td>\n",
       "    </tr>\n",
       "    <tr>\n",
       "      <th>4</th>\n",
       "      <td>store_12</td>\n",
       "      <td>NaN</td>\n",
       "      <td>36198.0</td>\n",
       "      <td>42958.0</td>\n",
       "      <td>44595.0</td>\n",
       "    </tr>\n",
       "    <tr>\n",
       "      <th>5</th>\n",
       "      <td>unknown_store</td>\n",
       "      <td>39912.0</td>\n",
       "      <td>44106.0</td>\n",
       "      <td>44853.0</td>\n",
       "      <td>43256.0</td>\n",
       "    </tr>\n",
       "    <tr>\n",
       "      <th>6</th>\n",
       "      <td>store_14</td>\n",
       "      <td>45105.0</td>\n",
       "      <td>37296.0</td>\n",
       "      <td>42293.0</td>\n",
       "      <td>40126.0</td>\n",
       "    </tr>\n",
       "    <tr>\n",
       "      <th>7</th>\n",
       "      <td>store_8</td>\n",
       "      <td>NaN</td>\n",
       "      <td>43471.0</td>\n",
       "      <td>35589.0</td>\n",
       "      <td>NaN</td>\n",
       "    </tr>\n",
       "  </tbody>\n",
       "</table>\n",
       "</div>"
      ],
      "text/plain": [
       "          stores  january  february    march    april\n",
       "0      store_139  40824.0   40216.0      NaN  35065.0\n",
       "1       store_52  38476.0   38616.0  38325.0      NaN\n",
       "2       store_36  42875.0       NaN  41219.0  42279.0\n",
       "3       store_71  36112.0       NaN  39021.0  41521.0\n",
       "4       store_12      NaN   36198.0  42958.0  44595.0\n",
       "5  unknown_store  39912.0   44106.0  44853.0  43256.0\n",
       "6       store_14  45105.0   37296.0  42293.0  40126.0\n",
       "7        store_8      NaN   43471.0  35589.0      NaN"
      ]
     },
     "execution_count": 35,
     "metadata": {},
     "output_type": "execute_result"
    }
   ],
   "source": [
    "# In the 'stores' column, replace the NA's by 'unknown_store'\n",
    "sales['stores'] = sales['stores'].fillna('unknown_store')\n",
    "sales"
   ]
  },
  {
   "cell_type": "code",
   "execution_count": null,
   "id": "58e57cdc",
   "metadata": {},
   "outputs": [],
   "source": []
  },
  {
   "cell_type": "markdown",
   "id": "6b68a60b",
   "metadata": {
    "slideshow": {
     "slide_type": "slide"
    }
   },
   "source": [
    "Suppose we would like to impute the missing values of all numerical variables by the **average** of their corresponding column. \n",
    "\n",
    "We can do:"
   ]
  },
  {
   "cell_type": "code",
   "execution_count": 36,
   "id": "25b87cac",
   "metadata": {
    "scrolled": true
   },
   "outputs": [
    {
     "data": {
      "text/html": [
       "<div>\n",
       "<style scoped>\n",
       "    .dataframe tbody tr th:only-of-type {\n",
       "        vertical-align: middle;\n",
       "    }\n",
       "\n",
       "    .dataframe tbody tr th {\n",
       "        vertical-align: top;\n",
       "    }\n",
       "\n",
       "    .dataframe thead th {\n",
       "        text-align: right;\n",
       "    }\n",
       "</style>\n",
       "<table border=\"1\" class=\"dataframe\">\n",
       "  <thead>\n",
       "    <tr style=\"text-align: right;\">\n",
       "      <th></th>\n",
       "      <th>stores</th>\n",
       "      <th>january</th>\n",
       "      <th>february</th>\n",
       "      <th>march</th>\n",
       "      <th>april</th>\n",
       "    </tr>\n",
       "  </thead>\n",
       "  <tbody>\n",
       "    <tr>\n",
       "      <th>0</th>\n",
       "      <td>store_139</td>\n",
       "      <td>40824.000000</td>\n",
       "      <td>40216.000000</td>\n",
       "      <td>40608.285714</td>\n",
       "      <td>35065.000000</td>\n",
       "    </tr>\n",
       "    <tr>\n",
       "      <th>1</th>\n",
       "      <td>store_52</td>\n",
       "      <td>38476.000000</td>\n",
       "      <td>38616.000000</td>\n",
       "      <td>38325.000000</td>\n",
       "      <td>41140.333333</td>\n",
       "    </tr>\n",
       "    <tr>\n",
       "      <th>2</th>\n",
       "      <td>store_36</td>\n",
       "      <td>42875.000000</td>\n",
       "      <td>39983.833333</td>\n",
       "      <td>41219.000000</td>\n",
       "      <td>42279.000000</td>\n",
       "    </tr>\n",
       "    <tr>\n",
       "      <th>3</th>\n",
       "      <td>store_71</td>\n",
       "      <td>36112.000000</td>\n",
       "      <td>39983.833333</td>\n",
       "      <td>39021.000000</td>\n",
       "      <td>41521.000000</td>\n",
       "    </tr>\n",
       "    <tr>\n",
       "      <th>4</th>\n",
       "      <td>store_12</td>\n",
       "      <td>40550.666667</td>\n",
       "      <td>36198.000000</td>\n",
       "      <td>42958.000000</td>\n",
       "      <td>44595.000000</td>\n",
       "    </tr>\n",
       "    <tr>\n",
       "      <th>5</th>\n",
       "      <td>unknown_store</td>\n",
       "      <td>39912.000000</td>\n",
       "      <td>44106.000000</td>\n",
       "      <td>44853.000000</td>\n",
       "      <td>43256.000000</td>\n",
       "    </tr>\n",
       "    <tr>\n",
       "      <th>6</th>\n",
       "      <td>store_14</td>\n",
       "      <td>45105.000000</td>\n",
       "      <td>37296.000000</td>\n",
       "      <td>42293.000000</td>\n",
       "      <td>40126.000000</td>\n",
       "    </tr>\n",
       "    <tr>\n",
       "      <th>7</th>\n",
       "      <td>store_8</td>\n",
       "      <td>40550.666667</td>\n",
       "      <td>43471.000000</td>\n",
       "      <td>35589.000000</td>\n",
       "      <td>41140.333333</td>\n",
       "    </tr>\n",
       "  </tbody>\n",
       "</table>\n",
       "</div>"
      ],
      "text/plain": [
       "          stores       january      february         march         april\n",
       "0      store_139  40824.000000  40216.000000  40608.285714  35065.000000\n",
       "1       store_52  38476.000000  38616.000000  38325.000000  41140.333333\n",
       "2       store_36  42875.000000  39983.833333  41219.000000  42279.000000\n",
       "3       store_71  36112.000000  39983.833333  39021.000000  41521.000000\n",
       "4       store_12  40550.666667  36198.000000  42958.000000  44595.000000\n",
       "5  unknown_store  39912.000000  44106.000000  44853.000000  43256.000000\n",
       "6       store_14  45105.000000  37296.000000  42293.000000  40126.000000\n",
       "7        store_8  40550.666667  43471.000000  35589.000000  41140.333333"
      ]
     },
     "execution_count": 36,
     "metadata": {},
     "output_type": "execute_result"
    }
   ],
   "source": [
    "# Use inplace=True to change the original DataFrame; \n",
    "# use numeric_only=True to ignore the non-numeric columns\n",
    "sales_imputed = sales.fillna(sales.mean(numeric_only=True))\n",
    "sales_imputed"
   ]
  },
  {
   "cell_type": "markdown",
   "id": "958691be",
   "metadata": {
    "slideshow": {
     "slide_type": "notes"
    }
   },
   "source": [
    "**Notes**: \n",
    "\n",
    "1. By using the key word argument `numeric_only=True`, we make sure that the `mean()` function is only applied to the numeric columns only. If we had a missing value in the 'stores' variable, that missing value would not have been imputed by the average since its corresponding column does not have any average.\n",
    "\n",
    "2. This operation will use the average of each column to impute the missing values of that column only.\n",
    "\n",
    "3. This operation will change the DataFrame itself when we used the argument `inplace = True`. \n",
    "\n",
    "4. An alternative is to apply the `fillna()` function to each variable of the DataFrame separately, with separate values\n",
    "\n",
    "5. We can impute all columns by the median also, in this case, we would use the `median()` function instead of the mean() function"
   ]
  },
  {
   "cell_type": "markdown",
   "id": "7668ff83",
   "metadata": {
    "slideshow": {
     "slide_type": "slide"
    }
   },
   "source": [
    "## Using regression for imputing"
   ]
  },
  {
   "cell_type": "markdown",
   "id": "9643c974",
   "metadata": {
    "slideshow": {
     "slide_type": "subslide"
    }
   },
   "source": [
    "The following regression-based procedure can be used to impute missing values.\n",
    "\n",
    "1.\tIdentify the variable with missing values in it.\n",
    "\n",
    "2.\tOnly select the rows from the dataset, where there are no missing values in this variable.\n",
    "\n",
    "3.\tAssume this variable is your dependent (target) variable and other variables are the features.\n",
    "\n",
    "4.\tDevelop a linear regression model and use it to predict the missing values of the target (the variables with missing values).\n",
    "\n",
    "This topic will be discussed visually in the lecture with more details (time permitting).\n",
    "\n",
    "The scikit-learn library implemented several imputers, see the documentation at https://scikit-learn.org/stable/modules/impute.html\n",
    "\n"
   ]
  },
  {
   "cell_type": "markdown",
   "id": "a8f12c07",
   "metadata": {
    "slideshow": {
     "slide_type": "slide"
    }
   },
   "source": [
    "# Handling Duplicated Data"
   ]
  },
  {
   "cell_type": "markdown",
   "id": "f0d89be4-9713-4d38-82a1-0ca60e7baf1e",
   "metadata": {},
   "source": [
    "**The following content can also be found in the notebook [Data_duplication.ipynb](https://www.dropbox.com/scl/fi/iaqcvhjcp6596dlmj4slw/Data_duplication.ipynb?rlkey=w8in9f0wb8tueed0yd55ys8vw&st=kwlnexzy&dl=1) covered in week 4 (asynchronous materials)**"
   ]
  },
  {
   "cell_type": "markdown",
   "id": "ab148a70",
   "metadata": {},
   "source": [
    "Data cleaning often needs to identify and remove duplicated data.\n",
    "\n",
    "For example, in the file 'sales_duplicated.csv', there are some duplicated records. Let's first load the file."
   ]
  },
  {
   "cell_type": "code",
   "execution_count": 2,
   "id": "0b5a3f02",
   "metadata": {},
   "outputs": [
    {
     "data": {
      "text/html": [
       "<div>\n",
       "<style scoped>\n",
       "    .dataframe tbody tr th:only-of-type {\n",
       "        vertical-align: middle;\n",
       "    }\n",
       "\n",
       "    .dataframe tbody tr th {\n",
       "        vertical-align: top;\n",
       "    }\n",
       "\n",
       "    .dataframe thead th {\n",
       "        text-align: right;\n",
       "    }\n",
       "</style>\n",
       "<table border=\"1\" class=\"dataframe\">\n",
       "  <thead>\n",
       "    <tr style=\"text-align: right;\">\n",
       "      <th></th>\n",
       "      <th>stores</th>\n",
       "      <th>january</th>\n",
       "      <th>february</th>\n",
       "      <th>march</th>\n",
       "      <th>april</th>\n",
       "    </tr>\n",
       "  </thead>\n",
       "  <tbody>\n",
       "    <tr>\n",
       "      <th>0</th>\n",
       "      <td>store_139</td>\n",
       "      <td>40824.000000</td>\n",
       "      <td>40216.000000</td>\n",
       "      <td>40608.285714</td>\n",
       "      <td>35065.000000</td>\n",
       "    </tr>\n",
       "    <tr>\n",
       "      <th>1</th>\n",
       "      <td>store_52</td>\n",
       "      <td>38476.000000</td>\n",
       "      <td>38616.000000</td>\n",
       "      <td>38325.000000</td>\n",
       "      <td>41140.333333</td>\n",
       "    </tr>\n",
       "    <tr>\n",
       "      <th>2</th>\n",
       "      <td>store_52</td>\n",
       "      <td>38476.000000</td>\n",
       "      <td>38616.000000</td>\n",
       "      <td>38325.000000</td>\n",
       "      <td>41140.333333</td>\n",
       "    </tr>\n",
       "    <tr>\n",
       "      <th>3</th>\n",
       "      <td>store_36</td>\n",
       "      <td>42875.000000</td>\n",
       "      <td>39983.833333</td>\n",
       "      <td>41219.000000</td>\n",
       "      <td>42279.000000</td>\n",
       "    </tr>\n",
       "    <tr>\n",
       "      <th>4</th>\n",
       "      <td>store_71</td>\n",
       "      <td>36112.000000</td>\n",
       "      <td>39983.833333</td>\n",
       "      <td>39021.000000</td>\n",
       "      <td>41521.000000</td>\n",
       "    </tr>\n",
       "    <tr>\n",
       "      <th>5</th>\n",
       "      <td>store_12</td>\n",
       "      <td>40550.666667</td>\n",
       "      <td>36198.000000</td>\n",
       "      <td>42958.000000</td>\n",
       "      <td>44595.000000</td>\n",
       "    </tr>\n",
       "    <tr>\n",
       "      <th>6</th>\n",
       "      <td>unknown_store</td>\n",
       "      <td>39912.000000</td>\n",
       "      <td>44106.000000</td>\n",
       "      <td>44853.000000</td>\n",
       "      <td>43256.000000</td>\n",
       "    </tr>\n",
       "    <tr>\n",
       "      <th>7</th>\n",
       "      <td>store_14</td>\n",
       "      <td>45105.000000</td>\n",
       "      <td>37296.000000</td>\n",
       "      <td>42293.000000</td>\n",
       "      <td>40126.000000</td>\n",
       "    </tr>\n",
       "    <tr>\n",
       "      <th>8</th>\n",
       "      <td>store_71</td>\n",
       "      <td>36112.000000</td>\n",
       "      <td>39983.833333</td>\n",
       "      <td>39021.000000</td>\n",
       "      <td>41521.000000</td>\n",
       "    </tr>\n",
       "    <tr>\n",
       "      <th>9</th>\n",
       "      <td>store_8</td>\n",
       "      <td>40550.666667</td>\n",
       "      <td>43471.000000</td>\n",
       "      <td>35589.000000</td>\n",
       "      <td>41140.333333</td>\n",
       "    </tr>\n",
       "  </tbody>\n",
       "</table>\n",
       "</div>"
      ],
      "text/plain": [
       "          stores       january      february         march         april\n",
       "0      store_139  40824.000000  40216.000000  40608.285714  35065.000000\n",
       "1       store_52  38476.000000  38616.000000  38325.000000  41140.333333\n",
       "2       store_52  38476.000000  38616.000000  38325.000000  41140.333333\n",
       "3       store_36  42875.000000  39983.833333  41219.000000  42279.000000\n",
       "4       store_71  36112.000000  39983.833333  39021.000000  41521.000000\n",
       "5       store_12  40550.666667  36198.000000  42958.000000  44595.000000\n",
       "6  unknown_store  39912.000000  44106.000000  44853.000000  43256.000000\n",
       "7       store_14  45105.000000  37296.000000  42293.000000  40126.000000\n",
       "8       store_71  36112.000000  39983.833333  39021.000000  41521.000000\n",
       "9        store_8  40550.666667  43471.000000  35589.000000  41140.333333"
      ]
     },
     "execution_count": 2,
     "metadata": {},
     "output_type": "execute_result"
    }
   ],
   "source": [
    "import pandas as pd\n",
    "sales_dup=pd.read_csv(\"https://raw.githubusercontent.com/zhouy185/BUS_O712/main/Data/sales_duplicated.csv\")\n",
    "sales_dup.head(10)"
   ]
  },
  {
   "cell_type": "markdown",
   "id": "f5e0a884",
   "metadata": {
    "slideshow": {
     "slide_type": "subslide"
    }
   },
   "source": [
    "We can figure out if each row in the dataframe is a duplicate of another row using the `duplicated()` method of the DataFrame. \n",
    "\n",
    "It returns an array of True and False .\n",
    "* False if the row is not a duplicate \n",
    "* True if it is."
   ]
  },
  {
   "cell_type": "code",
   "execution_count": 3,
   "id": "a66af8f0",
   "metadata": {},
   "outputs": [
    {
     "data": {
      "text/plain": [
       "0    False\n",
       "1    False\n",
       "2     True\n",
       "3    False\n",
       "4    False\n",
       "5    False\n",
       "6    False\n",
       "7    False\n",
       "8     True\n",
       "9    False\n",
       "dtype: bool"
      ]
     },
     "execution_count": 3,
     "metadata": {},
     "output_type": "execute_result"
    }
   ],
   "source": [
    "sales_dup.duplicated()"
   ]
  },
  {
   "cell_type": "markdown",
   "id": "423da7cf",
   "metadata": {
    "slideshow": {
     "slide_type": "slide"
    }
   },
   "source": [
    "We can then remove any duplicates from the dataframe by using the `drop_duplicates()`\n",
    "* Use `inplace=True` to modify the dataframe "
   ]
  },
  {
   "cell_type": "code",
   "execution_count": 4,
   "id": "07bcaeba",
   "metadata": {},
   "outputs": [
    {
     "data": {
      "text/html": [
       "<div>\n",
       "<style scoped>\n",
       "    .dataframe tbody tr th:only-of-type {\n",
       "        vertical-align: middle;\n",
       "    }\n",
       "\n",
       "    .dataframe tbody tr th {\n",
       "        vertical-align: top;\n",
       "    }\n",
       "\n",
       "    .dataframe thead th {\n",
       "        text-align: right;\n",
       "    }\n",
       "</style>\n",
       "<table border=\"1\" class=\"dataframe\">\n",
       "  <thead>\n",
       "    <tr style=\"text-align: right;\">\n",
       "      <th></th>\n",
       "      <th>stores</th>\n",
       "      <th>january</th>\n",
       "      <th>february</th>\n",
       "      <th>march</th>\n",
       "      <th>april</th>\n",
       "    </tr>\n",
       "  </thead>\n",
       "  <tbody>\n",
       "    <tr>\n",
       "      <th>0</th>\n",
       "      <td>store_139</td>\n",
       "      <td>40824.000000</td>\n",
       "      <td>40216.000000</td>\n",
       "      <td>40608.285714</td>\n",
       "      <td>35065.000000</td>\n",
       "    </tr>\n",
       "    <tr>\n",
       "      <th>1</th>\n",
       "      <td>store_52</td>\n",
       "      <td>38476.000000</td>\n",
       "      <td>38616.000000</td>\n",
       "      <td>38325.000000</td>\n",
       "      <td>41140.333333</td>\n",
       "    </tr>\n",
       "    <tr>\n",
       "      <th>3</th>\n",
       "      <td>store_36</td>\n",
       "      <td>42875.000000</td>\n",
       "      <td>39983.833333</td>\n",
       "      <td>41219.000000</td>\n",
       "      <td>42279.000000</td>\n",
       "    </tr>\n",
       "    <tr>\n",
       "      <th>4</th>\n",
       "      <td>store_71</td>\n",
       "      <td>36112.000000</td>\n",
       "      <td>39983.833333</td>\n",
       "      <td>39021.000000</td>\n",
       "      <td>41521.000000</td>\n",
       "    </tr>\n",
       "    <tr>\n",
       "      <th>5</th>\n",
       "      <td>store_12</td>\n",
       "      <td>40550.666667</td>\n",
       "      <td>36198.000000</td>\n",
       "      <td>42958.000000</td>\n",
       "      <td>44595.000000</td>\n",
       "    </tr>\n",
       "    <tr>\n",
       "      <th>6</th>\n",
       "      <td>unknown_store</td>\n",
       "      <td>39912.000000</td>\n",
       "      <td>44106.000000</td>\n",
       "      <td>44853.000000</td>\n",
       "      <td>43256.000000</td>\n",
       "    </tr>\n",
       "    <tr>\n",
       "      <th>7</th>\n",
       "      <td>store_14</td>\n",
       "      <td>45105.000000</td>\n",
       "      <td>37296.000000</td>\n",
       "      <td>42293.000000</td>\n",
       "      <td>40126.000000</td>\n",
       "    </tr>\n",
       "    <tr>\n",
       "      <th>9</th>\n",
       "      <td>store_8</td>\n",
       "      <td>40550.666667</td>\n",
       "      <td>43471.000000</td>\n",
       "      <td>35589.000000</td>\n",
       "      <td>41140.333333</td>\n",
       "    </tr>\n",
       "  </tbody>\n",
       "</table>\n",
       "</div>"
      ],
      "text/plain": [
       "          stores       january      february         march         april\n",
       "0      store_139  40824.000000  40216.000000  40608.285714  35065.000000\n",
       "1       store_52  38476.000000  38616.000000  38325.000000  41140.333333\n",
       "3       store_36  42875.000000  39983.833333  41219.000000  42279.000000\n",
       "4       store_71  36112.000000  39983.833333  39021.000000  41521.000000\n",
       "5       store_12  40550.666667  36198.000000  42958.000000  44595.000000\n",
       "6  unknown_store  39912.000000  44106.000000  44853.000000  43256.000000\n",
       "7       store_14  45105.000000  37296.000000  42293.000000  40126.000000\n",
       "9        store_8  40550.666667  43471.000000  35589.000000  41140.333333"
      ]
     },
     "execution_count": 4,
     "metadata": {},
     "output_type": "execute_result"
    }
   ],
   "source": [
    "sales_dup.drop_duplicates(inplace=True)\n",
    "sales_dup.head(10)"
   ]
  },
  {
   "cell_type": "markdown",
   "id": "b98220f6",
   "metadata": {
    "slideshow": {
     "slide_type": "subslide"
    }
   },
   "source": [
    "We can reset the indexes after dropping the duplicated rows"
   ]
  },
  {
   "cell_type": "code",
   "execution_count": 5,
   "id": "037fd79c",
   "metadata": {},
   "outputs": [],
   "source": [
    "sales_dup.reset_index(drop=True,inplace=True)"
   ]
  },
  {
   "cell_type": "code",
   "execution_count": 6,
   "id": "622d2a88-f57b-4aa9-a406-b1363c199ca7",
   "metadata": {},
   "outputs": [
    {
     "data": {
      "text/html": [
       "<div>\n",
       "<style scoped>\n",
       "    .dataframe tbody tr th:only-of-type {\n",
       "        vertical-align: middle;\n",
       "    }\n",
       "\n",
       "    .dataframe tbody tr th {\n",
       "        vertical-align: top;\n",
       "    }\n",
       "\n",
       "    .dataframe thead th {\n",
       "        text-align: right;\n",
       "    }\n",
       "</style>\n",
       "<table border=\"1\" class=\"dataframe\">\n",
       "  <thead>\n",
       "    <tr style=\"text-align: right;\">\n",
       "      <th></th>\n",
       "      <th>stores</th>\n",
       "      <th>january</th>\n",
       "      <th>february</th>\n",
       "      <th>march</th>\n",
       "      <th>april</th>\n",
       "    </tr>\n",
       "  </thead>\n",
       "  <tbody>\n",
       "    <tr>\n",
       "      <th>0</th>\n",
       "      <td>store_139</td>\n",
       "      <td>40824.000000</td>\n",
       "      <td>40216.000000</td>\n",
       "      <td>40608.285714</td>\n",
       "      <td>35065.000000</td>\n",
       "    </tr>\n",
       "    <tr>\n",
       "      <th>1</th>\n",
       "      <td>store_52</td>\n",
       "      <td>38476.000000</td>\n",
       "      <td>38616.000000</td>\n",
       "      <td>38325.000000</td>\n",
       "      <td>41140.333333</td>\n",
       "    </tr>\n",
       "    <tr>\n",
       "      <th>2</th>\n",
       "      <td>store_36</td>\n",
       "      <td>42875.000000</td>\n",
       "      <td>39983.833333</td>\n",
       "      <td>41219.000000</td>\n",
       "      <td>42279.000000</td>\n",
       "    </tr>\n",
       "    <tr>\n",
       "      <th>3</th>\n",
       "      <td>store_71</td>\n",
       "      <td>36112.000000</td>\n",
       "      <td>39983.833333</td>\n",
       "      <td>39021.000000</td>\n",
       "      <td>41521.000000</td>\n",
       "    </tr>\n",
       "    <tr>\n",
       "      <th>4</th>\n",
       "      <td>store_12</td>\n",
       "      <td>40550.666667</td>\n",
       "      <td>36198.000000</td>\n",
       "      <td>42958.000000</td>\n",
       "      <td>44595.000000</td>\n",
       "    </tr>\n",
       "    <tr>\n",
       "      <th>5</th>\n",
       "      <td>unknown_store</td>\n",
       "      <td>39912.000000</td>\n",
       "      <td>44106.000000</td>\n",
       "      <td>44853.000000</td>\n",
       "      <td>43256.000000</td>\n",
       "    </tr>\n",
       "    <tr>\n",
       "      <th>6</th>\n",
       "      <td>store_14</td>\n",
       "      <td>45105.000000</td>\n",
       "      <td>37296.000000</td>\n",
       "      <td>42293.000000</td>\n",
       "      <td>40126.000000</td>\n",
       "    </tr>\n",
       "    <tr>\n",
       "      <th>7</th>\n",
       "      <td>store_8</td>\n",
       "      <td>40550.666667</td>\n",
       "      <td>43471.000000</td>\n",
       "      <td>35589.000000</td>\n",
       "      <td>41140.333333</td>\n",
       "    </tr>\n",
       "  </tbody>\n",
       "</table>\n",
       "</div>"
      ],
      "text/plain": [
       "          stores       january      february         march         april\n",
       "0      store_139  40824.000000  40216.000000  40608.285714  35065.000000\n",
       "1       store_52  38476.000000  38616.000000  38325.000000  41140.333333\n",
       "2       store_36  42875.000000  39983.833333  41219.000000  42279.000000\n",
       "3       store_71  36112.000000  39983.833333  39021.000000  41521.000000\n",
       "4       store_12  40550.666667  36198.000000  42958.000000  44595.000000\n",
       "5  unknown_store  39912.000000  44106.000000  44853.000000  43256.000000\n",
       "6       store_14  45105.000000  37296.000000  42293.000000  40126.000000\n",
       "7        store_8  40550.666667  43471.000000  35589.000000  41140.333333"
      ]
     },
     "execution_count": 6,
     "metadata": {},
     "output_type": "execute_result"
    }
   ],
   "source": [
    "sales_dup.head(10)"
   ]
  },
  {
   "cell_type": "code",
   "execution_count": null,
   "id": "a1bb520e-c5be-435d-8afe-38bce0d0fdc9",
   "metadata": {},
   "outputs": [],
   "source": []
  }
 ],
 "metadata": {
  "celltoolbar": "Slideshow",
  "kernelspec": {
   "display_name": "Python 3 (ipykernel)",
   "language": "python",
   "name": "python3"
  },
  "language_info": {
   "codemirror_mode": {
    "name": "ipython",
    "version": 3
   },
   "file_extension": ".py",
   "mimetype": "text/x-python",
   "name": "python",
   "nbconvert_exporter": "python",
   "pygments_lexer": "ipython3",
   "version": "3.12.4"
  }
 },
 "nbformat": 4,
 "nbformat_minor": 5
}

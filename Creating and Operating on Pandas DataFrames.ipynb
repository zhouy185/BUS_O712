{
 "cells": [
  {
   "cell_type": "markdown",
   "id": "b66f7bd7",
   "metadata": {
    "slideshow": {
     "slide_type": "slide"
    }
   },
   "source": [
    "# Creating and Operating on pandas Dataframes"
   ]
  },
  {
   "attachments": {
    "image-4.png": {
     "image/png": "[encoded data removed]"
    }
   },
   "cell_type": "markdown",
   "id": "b244ac61",
   "metadata": {
    "slideshow": {
     "slide_type": "slide"
    }
   },
   "source": [
    "Suppose we need to create a DataFrame for a retail chain to record the following information:\n",
    "\n",
    "![image-4.png](attachment:image-4.png)\n",
    "\n",
    "We may construct the DataFrame from a dictionary"
   ]
  },
  {
   "cell_type": "code",
   "execution_count": 1,
   "id": "6b80244a",
   "metadata": {
    "slideshow": {
     "slide_type": "subslide"
    }
   },
   "outputs": [],
   "source": [
    "# First construct the dictionary\n"
   ]
  },
  {
   "cell_type": "code",
   "execution_count": 2,
   "id": "aa3afe84",
   "metadata": {
    "slideshow": {
     "slide_type": "subslide"
    }
   },
   "outputs": [],
   "source": [
    "# Then, construct the DataFrame"
   ]
  },
  {
   "cell_type": "markdown",
   "id": "25f5ffca",
   "metadata": {
    "slideshow": {
     "slide_type": "notes"
    }
   },
   "source": [
    "\n",
    "Notice how we first created a dictionary by the name stores_dict, which was used in the `DataFrame()` function to create a pandas Dataframe stores. (**Note**: pay attention to the  the upper and lower case letters in the  `DataFrame()` function)"
   ]
  },
  {
   "cell_type": "markdown",
   "id": "50bcc1c0",
   "metadata": {
    "slideshow": {
     "slide_type": "slide"
    }
   },
   "source": [
    "# Indexing, Slicing, and Filtering"
   ]
  },
  {
   "cell_type": "markdown",
   "id": "dabb413d",
   "metadata": {
    "slideshow": {
     "slide_type": "slide"
    }
   },
   "source": [
    "## Column Names and Row Indexes\n",
    "\n",
    "We can extract the column (variable) names"
   ]
  },
  {
   "cell_type": "code",
   "execution_count": 1,
   "id": "c72e35dc",
   "metadata": {},
   "outputs": [],
   "source": [
    "# Get the column names"
   ]
  },
  {
   "cell_type": "code",
   "execution_count": 3,
   "id": "e1bfaee5",
   "metadata": {},
   "outputs": [],
   "source": [
    "# Accessing a column name"
   ]
  },
  {
   "cell_type": "markdown",
   "id": "a1691bb4",
   "metadata": {
    "slideshow": {
     "slide_type": "slide"
    }
   },
   "source": [
    "We can also get the indexex of the rows"
   ]
  },
  {
   "cell_type": "code",
   "execution_count": 5,
   "id": "bc86947c",
   "metadata": {},
   "outputs": [],
   "source": [
    "# Get the indexes of all rows"
   ]
  },
  {
   "cell_type": "code",
   "execution_count": 4,
   "id": "bd45751e",
   "metadata": {},
   "outputs": [],
   "source": [
    "# Show it as a list"
   ]
  },
  {
   "cell_type": "markdown",
   "id": "9870b343",
   "metadata": {
    "slideshow": {
     "slide_type": "slide"
    }
   },
   "source": [
    "## Selecting elements of Dataframes"
   ]
  },
  {
   "cell_type": "markdown",
   "id": "d8c5164b",
   "metadata": {
    "slideshow": {
     "slide_type": "slide"
    }
   },
   "source": [
    "### Selecting rows\n",
    "\n",
    "Rows (observations) of a Dataframe can be selected using the `iloc` property (short for **integer location**).\n",
    "\n",
    "For example, suppose we want to extract the fourth row.\n"
   ]
  },
  {
   "cell_type": "code",
   "execution_count": null,
   "id": "b8faf783",
   "metadata": {},
   "outputs": [],
   "source": []
  },
  {
   "cell_type": "markdown",
   "id": "411b6936",
   "metadata": {
    "slideshow": {
     "slide_type": "slide"
    }
   },
   "source": [
    "Extracting **multiple** rows:\n",
    "\n",
    "* First, let's extract a range of rows; e.g., the second to the fourth row (rows with indexes 1 to 3). \n",
    "\n",
    "* Second, let's extract the first, third, and fifth row (indexes 0, 2, 4), which is not a continuous range of rows"
   ]
  },
  {
   "cell_type": "code",
   "execution_count": 6,
   "id": "0f5ff514",
   "metadata": {},
   "outputs": [],
   "source": [
    "# First task\n"
   ]
  },
  {
   "cell_type": "code",
   "execution_count": 7,
   "id": "4b6b3fd9",
   "metadata": {
    "slideshow": {
     "slide_type": "subslide"
    }
   },
   "outputs": [],
   "source": [
    "# Second task\n"
   ]
  },
  {
   "cell_type": "markdown",
   "id": "2b27b681",
   "metadata": {
    "slideshow": {
     "slide_type": "slide"
    }
   },
   "source": [
    "If we want to index certain rows and particular columns, we need to include both row indexes and column indexes in `iloc[]`.\n",
    "\n",
    "For example, to get 'manager' (column 0) and 'employees' (column 2) from rows 0,2,4:"
   ]
  },
  {
   "cell_type": "code",
   "execution_count": null,
   "id": "7d69631e",
   "metadata": {},
   "outputs": [],
   "source": []
  },
  {
   "cell_type": "markdown",
   "id": "b6422ea6",
   "metadata": {
    "slideshow": {
     "slide_type": "slide"
    }
   },
   "source": [
    "Another attribute `loc` of a DataFrame can be used for indexing.\n",
    "\n",
    "* Unlike `iloc`, the attribute `loc` can use labels (column names) instead of indexes"
   ]
  },
  {
   "cell_type": "code",
   "execution_count": 8,
   "id": "7ad9edf3",
   "metadata": {},
   "outputs": [],
   "source": [
    "# Get the 'manager' and 'employees' column from rows 0, 2, and 4\n"
   ]
  },
  {
   "cell_type": "markdown",
   "id": "efbe4aad",
   "metadata": {
    "slideshow": {
     "slide_type": "slide"
    }
   },
   "source": [
    "### Selecting columns"
   ]
  },
  {
   "cell_type": "markdown",
   "id": "b6838c3e",
   "metadata": {},
   "source": [
    "We can select column using `name_of_df[column_label]`, for exampe:"
   ]
  },
  {
   "cell_type": "code",
   "execution_count": 9,
   "id": "76a5a428",
   "metadata": {},
   "outputs": [],
   "source": [
    "# Selecting the 'city' column"
   ]
  },
  {
   "cell_type": "code",
   "execution_count": 10,
   "id": "5d0c82de",
   "metadata": {
    "slideshow": {
     "slide_type": "subslide"
    }
   },
   "outputs": [],
   "source": [
    "# Selecting 'manager' and 'city'"
   ]
  },
  {
   "cell_type": "markdown",
   "id": "37d6c945",
   "metadata": {
    "slideshow": {
     "slide_type": "slide"
    }
   },
   "source": [
    "Equivalently we can use `iloc` or `loc` with all the rows selected"
   ]
  },
  {
   "cell_type": "code",
   "execution_count": null,
   "id": "bd3a5b04",
   "metadata": {},
   "outputs": [],
   "source": []
  },
  {
   "cell_type": "code",
   "execution_count": null,
   "id": "f0c30277",
   "metadata": {},
   "outputs": [],
   "source": []
  },
  {
   "cell_type": "markdown",
   "id": "933539f8",
   "metadata": {
    "slideshow": {
     "slide_type": "slide"
    }
   },
   "source": [
    "We can even use `name_of_df.name_of_column`!"
   ]
  },
  {
   "cell_type": "code",
   "execution_count": null,
   "id": "7c27600a",
   "metadata": {},
   "outputs": [],
   "source": []
  },
  {
   "cell_type": "markdown",
   "id": "aefc1d61",
   "metadata": {
    "slideshow": {
     "slide_type": "skip"
    }
   },
   "source": [
    "Selecting more than 1 column using `df[list_of_column_names]`"
   ]
  },
  {
   "cell_type": "code",
   "execution_count": null,
   "id": "9e8ea829",
   "metadata": {},
   "outputs": [],
   "source": []
  },
  {
   "cell_type": "markdown",
   "id": "3096ed61",
   "metadata": {
    "slideshow": {
     "slide_type": "slide"
    }
   },
   "source": [
    "## Adding or deleting columns and rows"
   ]
  },
  {
   "cell_type": "markdown",
   "id": "be4d0681",
   "metadata": {},
   "source": [
    "Let's add a column of the stores' revenue in a month, say, 341, 280, 300, 260, 213, 182 (in thousand $).\n",
    "\n",
    "* By default, the column will be added as the last column"
   ]
  },
  {
   "cell_type": "code",
   "execution_count": 11,
   "id": "76aea14d",
   "metadata": {},
   "outputs": [],
   "source": [
    "# Adding a column of the store revues: 341, 280, 300, 260, 213, 182\n"
   ]
  },
  {
   "cell_type": "code",
   "execution_count": null,
   "id": "dd2ee230",
   "metadata": {},
   "outputs": [],
   "source": []
  },
  {
   "cell_type": "markdown",
   "id": "451aa630",
   "metadata": {
    "slideshow": {
     "slide_type": "slide"
    }
   },
   "source": [
    "We can also create a new column based on existing ones.\n",
    "\n",
    "For example, we can define a column of **revenue_per_employee** $=\\frac{\\rm revenue}{\\rm employees}$."
   ]
  },
  {
   "cell_type": "code",
   "execution_count": null,
   "id": "11a160a4",
   "metadata": {},
   "outputs": [],
   "source": []
  },
  {
   "cell_type": "markdown",
   "id": "039edee9",
   "metadata": {
    "slideshow": {
     "slide_type": "notes"
    }
   },
   "source": [
    "In the above DataFrame, each value of the variable 'rev_emp' is equal the value of 'revenue' divided by 'employees' in the same column."
   ]
  },
  {
   "cell_type": "markdown",
   "id": "af1436d2",
   "metadata": {
    "slideshow": {
     "slide_type": "slide"
    }
   },
   "source": [
    "To drop a row, say row 4, we can use the `drop()` function and specify the index of the row to drop"
   ]
  },
  {
   "cell_type": "code",
   "execution_count": null,
   "id": "cf6dbaa8",
   "metadata": {},
   "outputs": [],
   "source": [
    " "
   ]
  },
  {
   "cell_type": "code",
   "execution_count": null,
   "id": "7f764448",
   "metadata": {
    "slideshow": {
     "slide_type": "slide"
    }
   },
   "outputs": [],
   "source": []
  },
  {
   "cell_type": "markdown",
   "id": "cde0fc74",
   "metadata": {},
   "source": [
    "**Note**: Observe that we have used the argument `inplace = True`. If this argument is not added, the DataFrame itself will not be modified but returns a copy of the DataFrame without the deleted row.\n",
    "\n",
    "By adding `inplace = True`, we indicate we want to modify the DataFrame in place."
   ]
  },
  {
   "cell_type": "markdown",
   "id": "27e7cf7f",
   "metadata": {
    "slideshow": {
     "slide_type": "slide"
    }
   },
   "source": [
    "`drop()` delete rows by default. \n",
    "\n",
    "To delete a column, we can specify an argument `axis=1`"
   ]
  },
  {
   "cell_type": "code",
   "execution_count": null,
   "id": "b459c258",
   "metadata": {},
   "outputs": [],
   "source": [
    " "
   ]
  },
  {
   "cell_type": "markdown",
   "id": "f6fb133f",
   "metadata": {},
   "source": [
    "**Note**: Again notice that we have again included the argument `inplace = True` indicating that we want the Dataframe to actually be modified."
   ]
  },
  {
   "cell_type": "markdown",
   "id": "86094ae8",
   "metadata": {
    "slideshow": {
     "slide_type": "slide"
    }
   },
   "source": [
    "## Resetting the indexes after deletion"
   ]
  },
  {
   "cell_type": "markdown",
   "id": "b172f517",
   "metadata": {},
   "source": [
    "The row indexes become discontinous after dropping a row.\n",
    "\n",
    "To fix, we can use `reset_index()` to reset the indexes."
   ]
  },
  {
   "cell_type": "code",
   "execution_count": null,
   "id": "86985dbe",
   "metadata": {},
   "outputs": [],
   "source": []
  },
  {
   "cell_type": "markdown",
   "id": "e499d8f3",
   "metadata": {
    "slideshow": {
     "slide_type": "slide"
    }
   },
   "source": [
    "## Filtering a Dataframe\n",
    "\n",
    "Suppose that we would like to identify the under-staffed stores. \n",
    "\n",
    "We can do so by filtering the Dataframe based on a certain condition, by `df[condition]`. \n",
    "* The result of the filtering will be all the rows that satisfy the certain condition. \n",
    "* For example, let's get the stores that had fewer than 24 employees."
   ]
  },
  {
   "cell_type": "code",
   "execution_count": null,
   "id": "9d83d163",
   "metadata": {
    "slideshow": {
     "slide_type": "subslide"
    }
   },
   "outputs": [],
   "source": []
  },
  {
   "cell_type": "markdown",
   "id": "d95ff8b5",
   "metadata": {
    "slideshow": {
     "slide_type": "subslide"
    }
   },
   "source": [
    "We can also use the symbols `&` (AND) and `|` (OR) in filtering a Dataframe.\n",
    "\n",
    "For example, we can filter out stores with fewer than 24 employees and a revenue below 270."
   ]
  },
  {
   "cell_type": "code",
   "execution_count": null,
   "id": "09dfe1bf",
   "metadata": {},
   "outputs": [],
   "source": []
  },
  {
   "cell_type": "markdown",
   "id": "d7cfd92c",
   "metadata": {
    "slideshow": {
     "slide_type": "notes"
    }
   },
   "source": [
    "A condition using OR (using the symbol \"|\") can be done similarly."
   ]
  },
  {
   "cell_type": "markdown",
   "id": "6beeeb6c",
   "metadata": {
    "slideshow": {
     "slide_type": "slide"
    }
   },
   "source": [
    "## Modifying the values of some entries"
   ]
  },
  {
   "cell_type": "markdown",
   "id": "fc96abe9",
   "metadata": {
    "slideshow": {
     "slide_type": "-"
    }
   },
   "source": [
    "<img src=\"./stores_df.png\" alt=\"stores\" style=\"width:300px;\"/>\n",
    "\n",
    "Suppose that a person named Ray is the new manager of the Windsor store, and we need to update the record \n"
   ]
  },
  {
   "cell_type": "code",
   "execution_count": null,
   "id": "03779c07",
   "metadata": {
    "slideshow": {
     "slide_type": "subslide"
    }
   },
   "outputs": [],
   "source": []
  },
  {
   "cell_type": "code",
   "execution_count": null,
   "id": "e223c0de",
   "metadata": {},
   "outputs": [],
   "source": []
  },
  {
   "cell_type": "markdown",
   "id": "9244bdac",
   "metadata": {
    "slideshow": {
     "slide_type": "slide"
    }
   },
   "source": [
    "## Converting a Dataframe (or part of it) to an array"
   ]
  },
  {
   "cell_type": "markdown",
   "id": "f1366a11",
   "metadata": {},
   "source": [
    "Sometimes we need to convert parts of a DataFrame to an array\n",
    "* May be useful in some machine learning algorithms, because some algorithms work well with NumPy arrays and require us to convert parts of the Dataframe that we are working with to an array before operation.\n",
    "\n",
    "In such cases, we may use the `values` attribute of a DataFrame.\n",
    "* Using `values` will return an array without the headers"
   ]
  },
  {
   "cell_type": "code",
   "execution_count": 12,
   "id": "15aeb2fe",
   "metadata": {
    "slideshow": {
     "slide_type": "subslide"
    }
   },
   "outputs": [],
   "source": [
    "# Convert the whole DataFrame to an array\n",
    " "
   ]
  },
  {
   "cell_type": "code",
   "execution_count": 54,
   "id": "b2dc6acc",
   "metadata": {
    "slideshow": {
     "slide_type": "-"
    }
   },
   "outputs": [
    {
     "data": {
      "text/plain": [
       "numpy.ndarray"
      ]
     },
     "execution_count": 54,
     "metadata": {},
     "output_type": "execute_result"
    }
   ],
   "source": [
    "# Conver part of the DataFrame into an array\n",
    "type(stores.loc[0:4,'employees'].values)"
   ]
  },
  {
   "cell_type": "markdown",
   "id": "0fe314d0",
   "metadata": {
    "slideshow": {
     "slide_type": "slide"
    }
   },
   "source": [
    "We can convert an array to a DataFrame by adding headers"
   ]
  },
  {
   "cell_type": "code",
   "execution_count": null,
   "id": "e6fa4a4e",
   "metadata": {},
   "outputs": [],
   "source": []
  }
 ],
 "metadata": {
  "celltoolbar": "Slideshow",
  "kernelspec": {
   "display_name": "Python 3 (ipykernel)",
   "language": "python",
   "name": "python3"
  },
  "language_info": {
   "codemirror_mode": {
    "name": "ipython",
    "version": 3
   },
   "file_extension": ".py",
   "mimetype": "text/x-python",
   "name": "python",
   "nbconvert_exporter": "python",
   "pygments_lexer": "ipython3",
   "version": "3.12.2"
  }
 },
 "nbformat": 4,
 "nbformat_minor": 5
}

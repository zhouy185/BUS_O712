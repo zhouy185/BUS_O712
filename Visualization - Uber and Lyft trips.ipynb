{
 "cells": [
  {
   "cell_type": "markdown",
   "id": "ac2c5803",
   "metadata": {
    "slideshow": {
     "slide_type": "slide"
    }
   },
   "source": [
    "# Visualizing Uber and Lyft trip distances\n",
    "\n"
   ]
  },
  {
   "cell_type": "markdown",
   "id": "ee26b01a",
   "metadata": {
    "slideshow": {
     "slide_type": "slide"
    }
   },
   "source": [
    "Let's look at a dataset of Uber and Lyft trips in Boston. \n",
    "\n",
    "* The dataset is in the file \"fhv_rides.csv\". Only the economic versions of the services (UberX and Lyft Economy) are included."
   ]
  },
  {
   "cell_type": "code",
   "execution_count": 3,
   "id": "14c8622d",
   "metadata": {},
   "outputs": [
    {
     "data": {
      "text/html": [
       "<div>\n",
       "<style scoped>\n",
       "    .dataframe tbody tr th:only-of-type {\n",
       "        vertical-align: middle;\n",
       "    }\n",
       "\n",
       "    .dataframe tbody tr th {\n",
       "        vertical-align: top;\n",
       "    }\n",
       "\n",
       "    .dataframe thead th {\n",
       "        text-align: right;\n",
       "    }\n",
       "</style>\n",
       "<table border=\"1\" class=\"dataframe\">\n",
       "  <thead>\n",
       "    <tr style=\"text-align: right;\">\n",
       "      <th></th>\n",
       "      <th>distance</th>\n",
       "      <th>cab_type</th>\n",
       "      <th>time_stamp</th>\n",
       "      <th>destination</th>\n",
       "      <th>source</th>\n",
       "      <th>price</th>\n",
       "      <th>surge_multiplier</th>\n",
       "      <th>id</th>\n",
       "    </tr>\n",
       "  </thead>\n",
       "  <tbody>\n",
       "    <tr>\n",
       "      <th>0</th>\n",
       "      <td>1.08</td>\n",
       "      <td>Lyft</td>\n",
       "      <td>1543432987778</td>\n",
       "      <td>Northeastern University</td>\n",
       "      <td>Back Bay</td>\n",
       "      <td>7.0</td>\n",
       "      <td>1.0</td>\n",
       "      <td>d859ec69-b3ff-4af8-9abd-441e31430c94</td>\n",
       "    </tr>\n",
       "    <tr>\n",
       "      <th>1</th>\n",
       "      <td>1.11</td>\n",
       "      <td>Uber</td>\n",
       "      <td>1544728503935</td>\n",
       "      <td>West End</td>\n",
       "      <td>North End</td>\n",
       "      <td>7.5</td>\n",
       "      <td>1.0</td>\n",
       "      <td>357559cb-8c58-4278-a41a-e33b2e0997a3</td>\n",
       "    </tr>\n",
       "    <tr>\n",
       "      <th>2</th>\n",
       "      <td>2.48</td>\n",
       "      <td>Uber</td>\n",
       "      <td>1544697611531</td>\n",
       "      <td>South Station</td>\n",
       "      <td>Beacon Hill</td>\n",
       "      <td>8.5</td>\n",
       "      <td>1.0</td>\n",
       "      <td>4149295f-4534-4712-b2cf-160308528c75</td>\n",
       "    </tr>\n",
       "    <tr>\n",
       "      <th>3</th>\n",
       "      <td>3.24</td>\n",
       "      <td>Lyft</td>\n",
       "      <td>1543774987499</td>\n",
       "      <td>Northeastern University</td>\n",
       "      <td>North Station</td>\n",
       "      <td>11.0</td>\n",
       "      <td>1.0</td>\n",
       "      <td>174b960d-58f1-4dfd-8672-8b43f13726a7</td>\n",
       "    </tr>\n",
       "    <tr>\n",
       "      <th>4</th>\n",
       "      <td>2.94</td>\n",
       "      <td>Uber</td>\n",
       "      <td>1544789105468</td>\n",
       "      <td>Fenway</td>\n",
       "      <td>North Station</td>\n",
       "      <td>9.5</td>\n",
       "      <td>1.0</td>\n",
       "      <td>c05d4e09-3f00-43cf-a0d8-6f38c0f4d04a</td>\n",
       "    </tr>\n",
       "  </tbody>\n",
       "</table>\n",
       "</div>"
      ],
      "text/plain": [
       "   distance cab_type     time_stamp              destination         source  \\\n",
       "0      1.08     Lyft  1543432987778  Northeastern University       Back Bay   \n",
       "1      1.11     Uber  1544728503935                 West End      North End   \n",
       "2      2.48     Uber  1544697611531            South Station    Beacon Hill   \n",
       "3      3.24     Lyft  1543774987499  Northeastern University  North Station   \n",
       "4      2.94     Uber  1544789105468                   Fenway  North Station   \n",
       "\n",
       "   price  surge_multiplier                                    id  \n",
       "0    7.0               1.0  d859ec69-b3ff-4af8-9abd-441e31430c94  \n",
       "1    7.5               1.0  357559cb-8c58-4278-a41a-e33b2e0997a3  \n",
       "2    8.5               1.0  4149295f-4534-4712-b2cf-160308528c75  \n",
       "3   11.0               1.0  174b960d-58f1-4dfd-8672-8b43f13726a7  \n",
       "4    9.5               1.0  c05d4e09-3f00-43cf-a0d8-6f38c0f4d04a  "
      ]
     },
     "execution_count": 3,
     "metadata": {},
     "output_type": "execute_result"
    }
   ],
   "source": [
    "import pandas as pd\n",
    "rides = pd.read_csv(\"https://raw.githubusercontent.com/zhouy185/BUS_O712/refs/heads/main/Data/fhv_rides.csv\")\n",
    "rides.head()"
   ]
  },
  {
   "cell_type": "markdown",
   "id": "2fbe3f2a",
   "metadata": {},
   "source": [
    "**Question**: Do Uber riders or Lyft riders have longer trips?"
   ]
  },
  {
   "cell_type": "markdown",
   "id": "a535f567",
   "metadata": {
    "slideshow": {
     "slide_type": "slide"
    }
   },
   "source": [
    "We can seperate Uber trips from Lyft trips using filtering"
   ]
  },
  {
   "cell_type": "code",
   "execution_count": 6,
   "id": "0bb799d8",
   "metadata": {},
   "outputs": [],
   "source": [
    "rides_uber = rides[rides['cab_type']=='Uber']\n",
    "rides_lyft = rides[rides['cab_type']=='Lyft']"
   ]
  },
  {
   "cell_type": "code",
   "execution_count": 7,
   "id": "57333d4f",
   "metadata": {
    "scrolled": true
   },
   "outputs": [
    {
     "data": {
      "text/html": [
       "<div>\n",
       "<style scoped>\n",
       "    .dataframe tbody tr th:only-of-type {\n",
       "        vertical-align: middle;\n",
       "    }\n",
       "\n",
       "    .dataframe tbody tr th {\n",
       "        vertical-align: top;\n",
       "    }\n",
       "\n",
       "    .dataframe thead th {\n",
       "        text-align: right;\n",
       "    }\n",
       "</style>\n",
       "<table border=\"1\" class=\"dataframe\">\n",
       "  <thead>\n",
       "    <tr style=\"text-align: right;\">\n",
       "      <th></th>\n",
       "      <th>distance</th>\n",
       "      <th>cab_type</th>\n",
       "      <th>time_stamp</th>\n",
       "      <th>destination</th>\n",
       "      <th>source</th>\n",
       "      <th>price</th>\n",
       "      <th>surge_multiplier</th>\n",
       "      <th>id</th>\n",
       "    </tr>\n",
       "  </thead>\n",
       "  <tbody>\n",
       "    <tr>\n",
       "      <th>0</th>\n",
       "      <td>1.08</td>\n",
       "      <td>Lyft</td>\n",
       "      <td>1543432987778</td>\n",
       "      <td>Northeastern University</td>\n",
       "      <td>Back Bay</td>\n",
       "      <td>7.0</td>\n",
       "      <td>1.0</td>\n",
       "      <td>d859ec69-b3ff-4af8-9abd-441e31430c94</td>\n",
       "    </tr>\n",
       "    <tr>\n",
       "      <th>3</th>\n",
       "      <td>3.24</td>\n",
       "      <td>Lyft</td>\n",
       "      <td>1543774987499</td>\n",
       "      <td>Northeastern University</td>\n",
       "      <td>North Station</td>\n",
       "      <td>11.0</td>\n",
       "      <td>1.0</td>\n",
       "      <td>174b960d-58f1-4dfd-8672-8b43f13726a7</td>\n",
       "    </tr>\n",
       "    <tr>\n",
       "      <th>5</th>\n",
       "      <td>1.76</td>\n",
       "      <td>Lyft</td>\n",
       "      <td>1544963414097</td>\n",
       "      <td>South Station</td>\n",
       "      <td>North Station</td>\n",
       "      <td>9.0</td>\n",
       "      <td>1.0</td>\n",
       "      <td>104ced5c-1c1b-4021-94bb-b21af453399a</td>\n",
       "    </tr>\n",
       "    <tr>\n",
       "      <th>6</th>\n",
       "      <td>1.23</td>\n",
       "      <td>Lyft</td>\n",
       "      <td>1543852985839</td>\n",
       "      <td>Theatre District</td>\n",
       "      <td>Haymarket Square</td>\n",
       "      <td>7.0</td>\n",
       "      <td>1.0</td>\n",
       "      <td>f76a05b7-60a7-4df5-94b9-de16881691ca</td>\n",
       "    </tr>\n",
       "    <tr>\n",
       "      <th>9</th>\n",
       "      <td>1.16</td>\n",
       "      <td>Lyft</td>\n",
       "      <td>1543831981297</td>\n",
       "      <td>Beacon Hill</td>\n",
       "      <td>Haymarket Square</td>\n",
       "      <td>7.0</td>\n",
       "      <td>1.0</td>\n",
       "      <td>09740fbe-a03b-48df-a25a-6a01d4fc30e7</td>\n",
       "    </tr>\n",
       "  </tbody>\n",
       "</table>\n",
       "</div>"
      ],
      "text/plain": [
       "   distance cab_type     time_stamp              destination  \\\n",
       "0      1.08     Lyft  1543432987778  Northeastern University   \n",
       "3      3.24     Lyft  1543774987499  Northeastern University   \n",
       "5      1.76     Lyft  1544963414097            South Station   \n",
       "6      1.23     Lyft  1543852985839         Theatre District   \n",
       "9      1.16     Lyft  1543831981297              Beacon Hill   \n",
       "\n",
       "             source  price  surge_multiplier  \\\n",
       "0          Back Bay    7.0               1.0   \n",
       "3     North Station   11.0               1.0   \n",
       "5     North Station    9.0               1.0   \n",
       "6  Haymarket Square    7.0               1.0   \n",
       "9  Haymarket Square    7.0               1.0   \n",
       "\n",
       "                                     id  \n",
       "0  d859ec69-b3ff-4af8-9abd-441e31430c94  \n",
       "3  174b960d-58f1-4dfd-8672-8b43f13726a7  \n",
       "5  104ced5c-1c1b-4021-94bb-b21af453399a  \n",
       "6  f76a05b7-60a7-4df5-94b9-de16881691ca  \n",
       "9  09740fbe-a03b-48df-a25a-6a01d4fc30e7  "
      ]
     },
     "execution_count": 7,
     "metadata": {},
     "output_type": "execute_result"
    }
   ],
   "source": [
    "rides_lyft.head()"
   ]
  },
  {
   "cell_type": "code",
   "execution_count": null,
   "id": "e06adcdf-910e-4c43-b782-16d367504283",
   "metadata": {},
   "outputs": [],
   "source": []
  },
  {
   "cell_type": "markdown",
   "id": "217a092f",
   "metadata": {
    "slideshow": {
     "slide_type": "slide"
    }
   },
   "source": [
    "In this course, many of the visualizations are enabled by the `pyplot` module in the `matplotlib` library. `pylot` is often imported as `plt`. It includes many functions for different kinds of charts."
   ]
  },
  {
   "cell_type": "code",
   "execution_count": 8,
   "id": "b278e6ec",
   "metadata": {},
   "outputs": [],
   "source": [
    "import matplotlib.pyplot as plt"
   ]
  },
  {
   "cell_type": "markdown",
   "id": "19392882",
   "metadata": {
    "slideshow": {
     "slide_type": "slide"
    }
   },
   "source": [
    "## What plot should we use to visualize the distribution of trip distances?"
   ]
  },
  {
   "cell_type": "markdown",
   "id": "0ad74e50",
   "metadata": {
    "slideshow": {
     "slide_type": "slide"
    }
   },
   "source": [
    "# Using the histogram"
   ]
  },
  {
   "cell_type": "markdown",
   "id": "bed5ecc5",
   "metadata": {},
   "source": [
    "In `matplotlib.pyplot`, the function `hist()` creates histograms. The main input argument is the observed values of a variable. After using the histogram, we should use the `plt.show()` function \n",
    "\n",
    "Please keep in mind that many of the ideas that we discuss here (e.g., adding legends, titles, grid lines, ticks etc.) for histograms can be applied to other charts that can be created using `pyplot`.\n",
    "\n",
    "Let's visualize Uber's trip distances using a histogram."
   ]
  },
  {
   "cell_type": "code",
   "execution_count": 9,
   "id": "ccc82226",
   "metadata": {
    "slideshow": {
     "slide_type": "subslide"
    }
   },
   "outputs": [
    {
     "data": {
      "image/png": "[encoded data removed]",
      "text/plain": [
       "<Figure size 640x480 with 1 Axes>"
      ]
     },
     "metadata": {},
     "output_type": "display_data"
    }
   ],
   "source": [
    "plt.hist(rides['distance'])\n",
    "plt.show()"
   ]
  },
  {
   "cell_type": "markdown",
   "id": "ab94cd2e",
   "metadata": {
    "slideshow": {
     "slide_type": "slide"
    }
   },
   "source": [
    "## Using keyword arguments to change the look of the chart"
   ]
  },
  {
   "cell_type": "markdown",
   "id": "0da60fec",
   "metadata": {},
   "source": [
    "The kwargs (short for keyword arguments) is a way to pass arguments to a function by explicitly specifying the **parameter name along with the value**. They customizes different aspects of a plot, such as color, number of bins to show, etc.\n",
    "\n",
    "You can find these under **kwargs in the documentation for the `hist()` can be found in the [matplotlib.pyplot.hist documentation](https://matplotlib.org/stable/api/_as_gen/matplotlib.pyplot.hist.html)."
   ]
  },
  {
   "cell_type": "markdown",
   "id": "75206271",
   "metadata": {
    "slideshow": {
     "slide_type": "slide"
    }
   },
   "source": [
    "We can:\n",
    "* change the color using `color=`, color of the bar edges using 'edgecolor='\n",
    "* change the number of bins by `bins=`\n",
    "* use `density=True` to let the height of the bars be the percentage of values in the bins, instead of the count of values in the bins\n",
    "* use `plt.title()` to define the title\n",
    "* use `plt.xlabel()` and `plt.ylabel()` for the axis labels \n",
    "* use `alpha=` to make the bars translucent\n",
    "* use `plt.grid()` to add grids\n",
    "* use `plt.legend()` to show a legend; note that to show the legend, we need to set the labels for each histogram in the same plot"
   ]
  },
  {
   "cell_type": "code",
   "execution_count": 25,
   "id": "4401cbc6",
   "metadata": {
    "slideshow": {
     "slide_type": "slide"
    }
   },
   "outputs": [
    {
     "data": {
      "image/png": "[encoded data removed]",
      "text/plain": [
       "<Figure size 640x480 with 1 Axes>"
      ]
     },
     "metadata": {},
     "output_type": "display_data"
    }
   ],
   "source": [
    "plt.hist(rides_uber['distance'],color='yellow',edgecolor='black',bins=30,density=True,alpha=0.6)\n",
    "\n",
    "plt.title(\"Uber trip distance distribution\")\n",
    "plt.xlabel(\"Distance\")\n",
    "plt.ylabel(\"Frequency\")\n",
    "\n",
    "plt.axvline(x=5, color=\"red\", linestyle=\":\")\n",
    "plt.axhline(y=0.2,color=\"green\", linestyle=\"--\")\n",
    "\n",
    "plt.show()"
   ]
  },
  {
   "cell_type": "markdown",
   "id": "562c616a",
   "metadata": {
    "slideshow": {
     "slide_type": "notes"
    }
   },
   "source": [
    "Note that we can add a vertical line, to help visualize the total frequency to the left/right of a certain value; also a horizontal line to find the ranges of distances with a frequency below a certain value. "
   ]
  },
  {
   "cell_type": "markdown",
   "id": "32b0a87a",
   "metadata": {
    "slideshow": {
     "slide_type": "slide"
    }
   },
   "source": [
    "We can add Lyft's distance into the same chart."
   ]
  },
  {
   "cell_type": "code",
   "execution_count": 32,
   "id": "b4df12d0",
   "metadata": {},
   "outputs": [
    {
     "data": {
      "image/png": "[encoded data removed]",
      "text/plain": [
       "<Figure size 640x480 with 1 Axes>"
      ]
     },
     "metadata": {},
     "output_type": "display_data"
    }
   ],
   "source": [
    "plt.hist(rides_uber['distance'],color='yellow',edgecolor='black',bins=30,density=True,alpha=0.3)\n",
    "plt.hist(rides_lyft['distance'],color='red',edgecolor='black',bins=30,density=True,alpha=0.3)\n",
    "\n",
    "plt.title(\"Uber & Lyft trip distance distribution\")\n",
    "plt.xlabel(\"Distance\")\n",
    "plt.ylabel(\"Frequency\")\n",
    "\n",
    "plt.axvline(x=5, color=\"red\", linestyle=\":\")\n",
    "plt.axhline(y=0.2,color=\"green\", linestyle=\"--\")\n",
    "\n",
    "plt.show()"
   ]
  },
  {
   "cell_type": "markdown",
   "id": "c0800852",
   "metadata": {
    "slideshow": {
     "slide_type": "slide"
    }
   },
   "source": [
    "**Notes**:\n",
    "1. In addition to specifying the number of bins, we can also:\n",
    "    * use a list to specify the edge locations of each bin\n",
    "        - try to set `bin_edge=[0,2,4,6,8,10,12,14,16,18]`, and then use `bins=bin_edge` in `plt.hist()`\n",
    "        - automatically generate the bins by setting `bins=` to one of the pre-defined string values ('auto', 'fd', 'doane', 'scott', 'stone', 'rice', 'sturges', or 'sqrt'), which correspond to some pre-set methods. See [numpy.histogram_bin_edges](https://numpy.org/doc/stable/reference/generated/numpy.histogram_bin_edges.html#numpy.histogram_bin_edges) for details.\n",
    "2. See the documentation of pyplot for the [available color codes](https://matplotlib.org/stable/gallery/color/named_colors.html)."
   ]
  },
  {
   "cell_type": "markdown",
   "id": "baa0a26c",
   "metadata": {
    "slideshow": {
     "slide_type": "slide"
    }
   },
   "source": [
    "# Using the boxplot"
   ]
  },
  {
   "cell_type": "markdown",
   "id": "95be9ea1",
   "metadata": {},
   "source": [
    "Let's visualize Uber's per-mile prices using a boxplot (aka., ).\n",
    "\n",
    "In `matplotlib.pyplot`, the function `boxplot()` creates boxplots."
   ]
  },
  {
   "cell_type": "code",
   "execution_count": 31,
   "id": "fa2104d9",
   "metadata": {
    "slideshow": {
     "slide_type": "subslide"
    }
   },
   "outputs": [
    {
     "data": {
      "image/png": "[encoded data removed]",
      "text/plain": [
       "<Figure size 640x480 with 1 Axes>"
      ]
     },
     "metadata": {},
     "output_type": "display_data"
    }
   ],
   "source": [
    "# Create a boxplot for Uber's trip distances\n",
    "\n",
    "plt.boxplot(rides_uber['distance'])\n",
    "\n",
    "plt.xticks([1],['Uber'])\n",
    "plt.show()"
   ]
  },
  {
   "cell_type": "markdown",
   "id": "5a3e07b3",
   "metadata": {
    "slideshow": {
     "slide_type": "fragment"
    }
   },
   "source": [
    "**Question**: How do we interpret the boxplot?"
   ]
  },
  {
   "cell_type": "markdown",
   "id": "d120187d",
   "metadata": {
    "slideshow": {
     "slide_type": "slide"
    }
   },
   "source": [
    "* The orange line in the center represents the median. \n",
    "* The top and bottom edge indicates the 1st quartile (Q1, 25th percentile) and 3rd quartile (Q3, 75th percentile).\n",
    "    * The difference Q3-Q1 is called the interquartile range (IQR)\n",
    "* The \"whiskers\" extends:\n",
    "    * upwards to the max point within 1.5 x IQR above Q3\n",
    "    * downwards to the min point within 1.5 x IQR below Q1"
   ]
  },
  {
   "cell_type": "code",
   "execution_count": 35,
   "id": "dbdf0caa",
   "metadata": {
    "slideshow": {
     "slide_type": "subslide"
    }
   },
   "outputs": [
    {
     "data": {
      "text/plain": [
       "0.25    1.51\n",
       "0.50    2.35\n",
       "0.75    3.01\n",
       "Name: distance, dtype: float64"
      ]
     },
     "execution_count": 35,
     "metadata": {},
     "output_type": "execute_result"
    }
   ],
   "source": [
    "# Calculate Q1, median, and Q3\n",
    "Qs = rides_uber['distance'].quantile([0.25,0.5,0.75])\n",
    "Qs"
   ]
  },
  {
   "cell_type": "code",
   "execution_count": 36,
   "id": "bfd4b99c",
   "metadata": {},
   "outputs": [
    {
     "name": "stdout",
     "output_type": "stream",
     "text": [
      "1.51 2.35 3.01 -0.7399999999999995 5.26\n"
     ]
    }
   ],
   "source": [
    "# Calculate Q1, median, Q3, IQR, upper and lower whiskers\n",
    "\n",
    "q1 = Qs.iloc[0]\n",
    "q2 = Qs.iloc[1]\n",
    "q3 = Qs.iloc[2]\n",
    "\n",
    "iqr = q3-q1\n",
    "\n",
    "lw = q1-1.5*iqr\n",
    "uw = q3+1.5*iqr\n",
    "\n",
    "print(q1,q2,q3,lw,uw)"
   ]
  },
  {
   "cell_type": "markdown",
   "id": "6988e3fd",
   "metadata": {
    "slideshow": {
     "slide_type": "slide"
    }
   },
   "source": [
    "Now let's include the plots for both Uber and Lyft trips.\n",
    "\n",
    "To create multiple boxplots in the same chart, the input argument will be a list of variables."
   ]
  },
  {
   "cell_type": "code",
   "execution_count": 44,
   "id": "82f5a9ad",
   "metadata": {
    "slideshow": {
     "slide_type": "subslide"
    }
   },
   "outputs": [
    {
     "data": {
      "image/png": "[encoded data removed]",
      "text/plain": [
       "<Figure size 640x480 with 1 Axes>"
      ]
     },
     "metadata": {},
     "output_type": "display_data"
    }
   ],
   "source": [
    "plt.boxplot([rides_uber['distance'],rides_lyft['distance']])\n",
    "\n",
    "plt.xticks([1,2],['Uber','Lyft'])\n",
    "plt.yticks(range(10))\n",
    "\n",
    "plt.title(\"Boxplots for Uber and Lyft trip\")\n",
    "\n",
    "plt.grid(axis='y')\n",
    "plt.show()"
   ]
  },
  {
   "cell_type": "markdown",
   "id": "b9ce3ba7",
   "metadata": {
    "slideshow": {
     "slide_type": "fragment"
    }
   },
   "source": [
    "Based on the boxplot, what insights can we get?"
   ]
  }
 ],
 "metadata": {
  "celltoolbar": "Slideshow",
  "kernelspec": {
   "display_name": "Python 3 (ipykernel)",
   "language": "python",
   "name": "python3"
  },
  "language_info": {
   "codemirror_mode": {
    "name": "ipython",
    "version": 3
   },
   "file_extension": ".py",
   "mimetype": "text/x-python",
   "name": "python",
   "nbconvert_exporter": "python",
   "pygments_lexer": "ipython3",
   "version": "3.12.2"
  }
 },
 "nbformat": 4,
 "nbformat_minor": 5
}

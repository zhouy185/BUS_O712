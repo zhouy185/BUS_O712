{
 "cells": [
  {
   "cell_type": "markdown",
   "id": "ac2c5803",
   "metadata": {
    "slideshow": {
     "slide_type": "slide"
    }
   },
   "source": [
    "# Visualizing Uber and Lyft trip distances\n",
    "\n"
   ]
  },
  {
   "cell_type": "markdown",
   "id": "ee26b01a",
   "metadata": {
    "slideshow": {
     "slide_type": "slide"
    }
   },
   "source": [
    "Let's look at a dataset of Uber and Lyft trips in Boston. \n",
    "\n",
    "* The dataset is in the file \"fhv_rides.csv\". Only the economic versions of the services (UberX and Lyft Economy) are included."
   ]
  },
  {
   "cell_type": "code",
   "execution_count": null,
   "id": "14c8622d",
   "metadata": {},
   "outputs": [],
   "source": []
  },
  {
   "cell_type": "markdown",
   "id": "2fbe3f2a",
   "metadata": {},
   "source": [
    "**Question**: Do Uber riders or Lyft riders have longer trips?"
   ]
  },
  {
   "cell_type": "markdown",
   "id": "a535f567",
   "metadata": {
    "slideshow": {
     "slide_type": "slide"
    }
   },
   "source": [
    "We can seperate Uber trips from Lyft trips using filtering"
   ]
  },
  {
   "cell_type": "code",
   "execution_count": null,
   "id": "0bb799d8",
   "metadata": {},
   "outputs": [],
   "source": []
  },
  {
   "cell_type": "code",
   "execution_count": null,
   "id": "57333d4f",
   "metadata": {},
   "outputs": [],
   "source": []
  },
  {
   "cell_type": "code",
   "execution_count": null,
   "id": "e06adcdf-910e-4c43-b782-16d367504283",
   "metadata": {},
   "outputs": [],
   "source": []
  },
  {
   "cell_type": "markdown",
   "id": "217a092f",
   "metadata": {
    "slideshow": {
     "slide_type": "slide"
    }
   },
   "source": [
    "In this course, many of the visualizations are enabled by the `pyplot` module in the `matplotlib` library. `pylot` is often imported as `plt`. It includes many functions for different kinds of charts."
   ]
  },
  {
   "cell_type": "code",
   "execution_count": null,
   "id": "b278e6ec",
   "metadata": {},
   "outputs": [],
   "source": []
  },
  {
   "cell_type": "markdown",
   "id": "19392882",
   "metadata": {
    "slideshow": {
     "slide_type": "slide"
    }
   },
   "source": [
    "## What plot should we use to visualize the distribution of trip distances?"
   ]
  },
  {
   "cell_type": "markdown",
   "id": "0ad74e50",
   "metadata": {
    "slideshow": {
     "slide_type": "slide"
    }
   },
   "source": [
    "# Using the histogram"
   ]
  },
  {
   "cell_type": "markdown",
   "id": "bed5ecc5",
   "metadata": {},
   "source": [
    "In `matplotlib.pyplot`, the function `hist()` creates histograms. The main input argument is the observed values of a variable. After using the histogram, we should use the `plt.show()` function \n",
    "\n",
    "Please keep in mind that many of the ideas that we discuss here (e.g., adding legends, titles, grid lines, ticks etc.) for histograms can be applied to other charts that can be created using `pyplot`.\n",
    "\n",
    "Let's visualize Uber's trip distances using a histogram."
   ]
  },
  {
   "cell_type": "code",
   "execution_count": null,
   "id": "ccc82226",
   "metadata": {
    "slideshow": {
     "slide_type": "subslide"
    }
   },
   "outputs": [],
   "source": []
  },
  {
   "cell_type": "markdown",
   "id": "ab94cd2e",
   "metadata": {
    "slideshow": {
     "slide_type": "slide"
    }
   },
   "source": [
    "## Using keyword arguments to change the look of the chart"
   ]
  },
  {
   "cell_type": "markdown",
   "id": "0da60fec",
   "metadata": {},
   "source": [
    "The kwargs (short for keyword arguments) is a way to pass arguments to a function by explicitly specifying the **parameter name along with the value**. They customizes different aspects of a plot, such as color, number of bins to show, etc.\n",
    "\n",
    "You can find these under **kwargs in the documentation for the `hist()` can be found in the [matplotlib.pyplot.hist documentation](https://matplotlib.org/stable/api/_as_gen/matplotlib.pyplot.hist.html)."
   ]
  },
  {
   "cell_type": "markdown",
   "id": "75206271",
   "metadata": {
    "slideshow": {
     "slide_type": "slide"
    }
   },
   "source": [
    "We can:\n",
    "* change the color using `color=`, color of the bar edges using 'edgecolor='\n",
    "* change the number of bins by `bins=`\n",
    "* use `density=True` to let the height of the bars be the percentage of values in the bins, instead of the count of values in the bins\n",
    "* use `plt.title()` to define the title\n",
    "* use `plt.xlabel()` and `plt.ylabel()` for the axis labels \n",
    "* use `alpha=` to make the bars translucent\n",
    "* use `plt.grid()` to add grids\n",
    "* use `plt.legend()` to show a legend; note that to show the legend, we need to set the labels for each histogram in the same plot"
   ]
  },
  {
   "cell_type": "code",
   "execution_count": null,
   "id": "4401cbc6",
   "metadata": {
    "slideshow": {
     "slide_type": "slide"
    }
   },
   "outputs": [],
   "source": []
  },
  {
   "cell_type": "markdown",
   "id": "562c616a",
   "metadata": {
    "slideshow": {
     "slide_type": "notes"
    }
   },
   "source": [
    "Note that we can add a vertical line, to help visualize the total frequency to the left/right of a certain value; also a horizontal line to find the ranges of distances with a frequency below a certain value. "
   ]
  },
  {
   "cell_type": "markdown",
   "id": "32b0a87a",
   "metadata": {
    "slideshow": {
     "slide_type": "slide"
    }
   },
   "source": [
    "We can add Lyft's prices into the same chart."
   ]
  },
  {
   "cell_type": "code",
   "execution_count": null,
   "id": "b4df12d0",
   "metadata": {},
   "outputs": [],
   "source": []
  },
  {
   "cell_type": "markdown",
   "id": "c0800852",
   "metadata": {
    "slideshow": {
     "slide_type": "slide"
    }
   },
   "source": [
    "**Notes**:\n",
    "1. In addition to specifying the number of bins, we can also:\n",
    "    * use a list to specify the edge locations of each bin\n",
    "        - try to set `bin_edge=[0,2,4,6,8,10,12,14,16,18]`, and then use `bins=bin_edge` in `plt.hist()`\n",
    "        - automatically generate the bins by setting `bins=` to one of the pre-defined string values ('auto', 'fd', 'doane', 'scott', 'stone', 'rice', 'sturges', or 'sqrt'), which correspond to some pre-set methods. See [numpy.histogram_bin_edges](https://numpy.org/doc/stable/reference/generated/numpy.histogram_bin_edges.html#numpy.histogram_bin_edges) for details.\n",
    "2. See the documentation of pyplot for the [available color codes](https://matplotlib.org/stable/gallery/color/named_colors.html)."
   ]
  },
  {
   "cell_type": "markdown",
   "id": "baa0a26c",
   "metadata": {
    "slideshow": {
     "slide_type": "slide"
    }
   },
   "source": [
    "# Using the boxplot"
   ]
  },
  {
   "cell_type": "markdown",
   "id": "95be9ea1",
   "metadata": {},
   "source": [
    "Let's visualize Uber's per-mile prices using a boxplot (aka., ).\n",
    "\n",
    "In `matplotlib.pyplot`, the function `boxplot()` creates boxplots."
   ]
  },
  {
   "cell_type": "code",
   "execution_count": 3,
   "id": "fa2104d9",
   "metadata": {
    "slideshow": {
     "slide_type": "subslide"
    }
   },
   "outputs": [],
   "source": [
    "# Create a boxplot for Uber's trip distances\n",
    "\n"
   ]
  },
  {
   "cell_type": "markdown",
   "id": "5a3e07b3",
   "metadata": {
    "slideshow": {
     "slide_type": "fragment"
    }
   },
   "source": [
    "**Question**: How do we interpret the boxplot?"
   ]
  },
  {
   "cell_type": "markdown",
   "id": "d120187d",
   "metadata": {
    "slideshow": {
     "slide_type": "slide"
    }
   },
   "source": [
    "* The orange line in the center represents the median. \n",
    "* The top and bottom edge indicates the 1st quartile (Q1, 25th percentile) and 3rd quartile (Q3, 75th percentile).\n",
    "    * The difference Q3-Q1 is called the interquartile range (IQR)\n",
    "* The \"whiskers\" extends:\n",
    "    * upwards to the max point within 1.5 x IQR above Q3\n",
    "    * downwards to the min point within 1.5 x IQR below Q1"
   ]
  },
  {
   "cell_type": "code",
   "execution_count": 4,
   "id": "dbdf0caa",
   "metadata": {
    "slideshow": {
     "slide_type": "subslide"
    }
   },
   "outputs": [],
   "source": [
    "# Calculate Q1, median, and Q3\n"
   ]
  },
  {
   "cell_type": "code",
   "execution_count": 58,
   "id": "bfd4b99c",
   "metadata": {},
   "outputs": [
    {
     "name": "stdout",
     "output_type": "stream",
     "text": [
      "1.51 2.35 3.01 1.4999999999999998 -0.7399999999999995 5.26\n"
     ]
    }
   ],
   "source": [
    "# Calculate Q1, median, Q3, IQR, upper and lower whiskers\n",
    "\n",
    "q1 = Qs.iloc[0]\n",
    "q2 = Qs.iloc[1]\n",
    "q3 = Qs.iloc[2]\n",
    "\n",
    "iqr = q3-q1\n",
    "\n",
    "lw = q1-1.5*iqr\n",
    "uw = q3+1.5*iqr\n",
    "\n",
    "print(q1,q2,q3,iqr,lw,uw)"
   ]
  },
  {
   "cell_type": "markdown",
   "id": "6988e3fd",
   "metadata": {
    "slideshow": {
     "slide_type": "slide"
    }
   },
   "source": [
    "Now let's include the plots for both Uber and Lyft trips.\n",
    "\n",
    "To create multiple boxplots in the same chart, the input argument will be a list of variables."
   ]
  },
  {
   "cell_type": "code",
   "execution_count": null,
   "id": "82f5a9ad",
   "metadata": {
    "slideshow": {
     "slide_type": "subslide"
    }
   },
   "outputs": [],
   "source": []
  },
  {
   "cell_type": "markdown",
   "id": "b9ce3ba7",
   "metadata": {
    "slideshow": {
     "slide_type": "fragment"
    }
   },
   "source": [
    "Based on the boxplot, what insights can we get?"
   ]
  }
 ],
 "metadata": {
  "celltoolbar": "Slideshow",
  "kernelspec": {
   "display_name": "Python 3 (ipykernel)",
   "language": "python",
   "name": "python3"
  },
  "language_info": {
   "codemirror_mode": {
    "name": "ipython",
    "version": 3
   },
   "file_extension": ".py",
   "mimetype": "text/x-python",
   "name": "python",
   "nbconvert_exporter": "python",
   "pygments_lexer": "ipython3",
   "version": "3.12.4"
  }
 },
 "nbformat": 4,
 "nbformat_minor": 5
}

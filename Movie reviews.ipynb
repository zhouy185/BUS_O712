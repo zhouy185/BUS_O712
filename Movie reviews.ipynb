{
 "cells": [
  {
   "cell_type": "markdown",
   "id": "09e7966c",
   "metadata": {
    "slideshow": {
     "slide_type": "slide"
    }
   },
   "source": [
    "# Unsupervised Learning - An Example of Movie Reviews"
   ]
  },
  {
   "cell_type": "markdown",
   "id": "a5b3a437",
   "metadata": {
    "slideshow": {
     "slide_type": "slide"
    }
   },
   "source": [
    "## Dataset\n",
    "\n",
    "Let us import a dataset of movie reviews by different users."
   ]
  },
  {
   "cell_type": "code",
   "execution_count": null,
   "id": "4c0e14f4",
   "metadata": {},
   "outputs": [],
   "source": []
  },
  {
   "cell_type": "markdown",
   "id": "a187d227",
   "metadata": {
    "slideshow": {
     "slide_type": "slide"
    }
   },
   "source": [
    "Let's check the shape of the DataFrame. "
   ]
  },
  {
   "cell_type": "code",
   "execution_count": null,
   "id": "2e9cab66",
   "metadata": {},
   "outputs": [],
   "source": []
  },
  {
   "cell_type": "markdown",
   "id": "cff73925",
   "metadata": {
    "slideshow": {
     "slide_type": "fragment"
    }
   },
   "source": [
    "As we can see, there are\n",
    "* 671 users (each row represents reviews submitted by a user)\n",
    "* 1000 movies reviewed by the users\n",
    "* not every user reviews every movie -- each NA value indicates that a user did not review the corresponding movie"
   ]
  },
  {
   "cell_type": "markdown",
   "id": "169771a0",
   "metadata": {
    "slideshow": {
     "slide_type": "slide"
    }
   },
   "source": [
    "Let's drop the `user_ID` column as it does not provide useful information."
   ]
  },
  {
   "cell_type": "code",
   "execution_count": null,
   "id": "5219ca79",
   "metadata": {},
   "outputs": [],
   "source": []
  },
  {
   "cell_type": "markdown",
   "id": "717b8775",
   "metadata": {
    "slideshow": {
     "slide_type": "slide"
    }
   },
   "source": [
    "Let's visualize the reviews by a heatmap. "
   ]
  },
  {
   "cell_type": "code",
   "execution_count": null,
   "id": "6a6ce267",
   "metadata": {
    "scrolled": true
   },
   "outputs": [],
   "source": []
  },
  {
   "cell_type": "markdown",
   "id": "63691ff7",
   "metadata": {
    "slideshow": {
     "slide_type": "slide"
    }
   },
   "source": [
    "Given the large number of movies and users, let's focus on the first 20 users and first 30 movies.\n",
    "\n",
    "We can use the argument `annot=True` to show the rating in each cell."
   ]
  },
  {
   "cell_type": "code",
   "execution_count": null,
   "id": "579f09eb",
   "metadata": {
    "scrolled": false,
    "slideshow": {
     "slide_type": "subslide"
    }
   },
   "outputs": [],
   "source": []
  },
  {
   "cell_type": "markdown",
   "id": "0878e0f5",
   "metadata": {
    "slideshow": {
     "slide_type": "slide"
    }
   },
   "source": [
    "## Question\n",
    "\n",
    "If a user didn't rate a movie, how can we predict their rating of the movie?\n",
    "* For example, the **second user** did not rate the movie **Shawshank Redemption (1994)**. What would be their rating if they decide to watch and rate that movie?"
   ]
  },
  {
   "cell_type": "markdown",
   "id": "e6e60b80",
   "metadata": {
    "slideshow": {
     "slide_type": "slide"
    }
   },
   "source": [
    "**The Supervised Learning Approach**\n",
    "* Consider users' ratings of other movie as \"features\", and the rating of the \"focal movie\" (e.g., Shawshank Redemption (1994)). Then we can build a regression/classification model.\n",
    "* Challenges? "
   ]
  },
  {
   "cell_type": "markdown",
   "id": "10b1b5cb",
   "metadata": {
    "slideshow": {
     "slide_type": "slide"
    }
   },
   "source": [
    "**The Unsupervised Learning Approach**\n",
    "* We can divide the users into **clusters**. Then, we can look at those users in the same cluster as the **second user** who rated the movie **Pulp Fiction (1994)**, and use the average rating as the prediction of the  **second user**'s rating of the movie."
   ]
  },
  {
   "cell_type": "markdown",
   "id": "9712b967",
   "metadata": {
    "slideshow": {
     "slide_type": "slide"
    }
   },
   "source": [
    "## Clustering\n",
    "\n",
    "Clustering is the process of **dividing a dataset into groups** where points in the same group (or cluster) are more similar to each other than to those in other clusters."
   ]
  },
  {
   "cell_type": "markdown",
   "id": "0189aafd",
   "metadata": {
    "slideshow": {
     "slide_type": "slide"
    }
   },
   "source": [
    "### $k$-Means Clustering\n",
    "\n",
    "In $k$-means clustering, \n",
    "* there are $k$ clusters in total, each of which is represented by centeroid\n",
    "* the clusters are created so as to minimize the intra-cluster distance, which is the squared distance between the data points and the centroid of the cluster they belongs to."
   ]
  },
  {
   "cell_type": "markdown",
   "id": "4aedfde5",
   "metadata": {
    "slideshow": {
     "slide_type": "slide"
    }
   },
   "source": [
    "To use $k$-means clustering, we will first need to impute the missing values, and then scale the data."
   ]
  },
  {
   "cell_type": "markdown",
   "id": "32d6c075",
   "metadata": {},
   "source": [
    "Let's first replace the `NA` values by 0. "
   ]
  },
  {
   "cell_type": "code",
   "execution_count": null,
   "id": "55f13ae0",
   "metadata": {},
   "outputs": [],
   "source": []
  },
  {
   "cell_type": "markdown",
   "id": "a65ee65c",
   "metadata": {
    "slideshow": {
     "slide_type": "slide"
    }
   },
   "source": [
    "Next, we may need to scale the data. Note that since $k$-means clustering is a distance-based method, in general we need to perform scaling. However, currently all columns are on the same scale of 0 to 5 (since all columns are ratings of 0 to 5)."
   ]
  },
  {
   "cell_type": "markdown",
   "id": "c795696b",
   "metadata": {
    "slideshow": {
     "slide_type": "slide"
    }
   },
   "source": [
    "To perform $k$-means clustering, we need to import the `KMeans` function from `sklearn`.\n",
    "\n",
    "Suppose that we would like to divie the dataset into 10 clusters."
   ]
  },
  {
   "cell_type": "code",
   "execution_count": 1,
   "id": "9c3d41e5",
   "metadata": {},
   "outputs": [],
   "source": [
    "\n",
    "\n",
    "#build the k-means model\n",
    "\n",
    "#perform the clustering by fitting the model to the data\n",
    "\n"
   ]
  },
  {
   "cell_type": "markdown",
   "id": "5c02d438",
   "metadata": {
    "slideshow": {
     "slide_type": "slide"
    }
   },
   "source": [
    "The fitted model has a few useful attributes."
   ]
  },
  {
   "cell_type": "markdown",
   "id": "d53517c7",
   "metadata": {
    "slideshow": {
     "slide_type": "slide"
    }
   },
   "source": [
    "The `.cluster_centers_` attribute gives the coordinates of the centroids. We may think of a centroid as the ratings of a representative user in a cluster."
   ]
  },
  {
   "cell_type": "code",
   "execution_count": null,
   "id": "245f5492",
   "metadata": {},
   "outputs": [],
   "source": []
  },
  {
   "cell_type": "markdown",
   "id": "555d3519",
   "metadata": {
    "slideshow": {
     "slide_type": "slide"
    }
   },
   "source": [
    "The `.labels_` attribute is the cluster labels for each data point in the dataset.\n",
    "\n",
    "Each label is a number between 0 and $k-1$, indicating one of the $k$ clusters."
   ]
  },
  {
   "cell_type": "code",
   "execution_count": null,
   "id": "bc765789",
   "metadata": {},
   "outputs": [],
   "source": []
  },
  {
   "cell_type": "markdown",
   "id": "eb1f653e",
   "metadata": {
    "slideshow": {
     "slide_type": "slide"
    }
   },
   "source": [
    "Let's append the labels to the original dataset as a column."
   ]
  },
  {
   "cell_type": "code",
   "execution_count": null,
   "id": "524896c1",
   "metadata": {},
   "outputs": [],
   "source": []
  },
  {
   "cell_type": "markdown",
   "id": "ba7325b1",
   "metadata": {
    "slideshow": {
     "slide_type": "slide"
    }
   },
   "source": [
    "The `.inertia` attribute returns the the sum of squared distances of data points to their nearest cluster centroid.\n",
    "* It measures how compact the clusters are, with lower values indicating points in the same cluster closer each other.\n",
    "* It does not measure clustering quality in an absolute sense but can be used to compare different values of $k$.\n"
   ]
  },
  {
   "cell_type": "code",
   "execution_count": null,
   "id": "9cfc1c9d",
   "metadata": {},
   "outputs": [],
   "source": []
  },
  {
   "cell_type": "markdown",
   "id": "8f466654",
   "metadata": {
    "slideshow": {
     "slide_type": "slide"
    }
   },
   "source": [
    "But how do we find the appropriate number of clusters?"
   ]
  },
  {
   "cell_type": "markdown",
   "id": "278c8172",
   "metadata": {
    "slideshow": {
     "slide_type": "slide"
    }
   },
   "source": [
    "### The Elbow Method\n",
    "\n",
    "The elbow method is a heuristic to determine the value of $k$.\n",
    "* The method evaluates the inertia for $k=1,2,3,...$.\n",
    "* As $k$ increases, inertia tend to decrease (why?)\n",
    "* The methods identifies the **elbow point**, at which inertia stops decreasing rapidly."
   ]
  },
  {
   "cell_type": "code",
   "execution_count": null,
   "id": "33d9c52d",
   "metadata": {
    "slideshow": {
     "slide_type": "subslide"
    }
   },
   "outputs": [],
   "source": []
  },
  {
   "cell_type": "markdown",
   "id": "b1e35a9c",
   "metadata": {
    "slideshow": {
     "slide_type": "slide"
    }
   },
   "source": [
    "From the chart:\n",
    "* The curve shows a noticeable drop in inertia from $k=1$ to $k=5$.\n",
    "* After $k=5$, the rate of decrease becomes less pronounced and more gradual.\n",
    "\n",
    "Let's set `n_clusters` to 5 and redo the clustering."
   ]
  },
  {
   "cell_type": "code",
   "execution_count": null,
   "id": "35eb7274",
   "metadata": {
    "scrolled": true,
    "slideshow": {
     "slide_type": "subslide"
    }
   },
   "outputs": [],
   "source": []
  },
  {
   "cell_type": "markdown",
   "id": "dd423078",
   "metadata": {
    "slideshow": {
     "slide_type": "slide"
    }
   },
   "source": [
    "Let's assign the labels to the last column of the `ratings` DataFrame (the dataset after droping the `user_ID` column)."
   ]
  },
  {
   "cell_type": "code",
   "execution_count": null,
   "id": "0f669a16",
   "metadata": {},
   "outputs": [],
   "source": []
  },
  {
   "cell_type": "markdown",
   "id": "5a657a01",
   "metadata": {
    "slideshow": {
     "slide_type": "fragment"
    }
   },
   "source": [
    "As we can see, the second user has the cluster label 3. "
   ]
  },
  {
   "cell_type": "markdown",
   "id": "c37eccc1",
   "metadata": {
    "slideshow": {
     "slide_type": "slide"
    }
   },
   "source": [
    "We can visualize the clusters using the heatmap."
   ]
  },
  {
   "cell_type": "code",
   "execution_count": null,
   "id": "9c6e47ec",
   "metadata": {
    "scrolled": true,
    "slideshow": {
     "slide_type": "subslide"
    }
   },
   "outputs": [],
   "source": []
  },
  {
   "cell_type": "markdown",
   "id": "bc842a1b",
   "metadata": {
    "slideshow": {
     "slide_type": "slide"
    }
   },
   "source": [
    "We will sort the rows according to their cluster labels, so that in the DataFrame the rows of the same cluster are grouped together."
   ]
  },
  {
   "cell_type": "code",
   "execution_count": null,
   "id": "7ffb1beb",
   "metadata": {
    "slideshow": {
     "slide_type": "subslide"
    }
   },
   "outputs": [],
   "source": []
  },
  {
   "cell_type": "markdown",
   "id": "19d37aea",
   "metadata": {
    "slideshow": {
     "slide_type": "slide"
    }
   },
   "source": [
    "Next, let's group the `ratings` DataFrame and calculate the average ratings of the movies of each group."
   ]
  },
  {
   "cell_type": "code",
   "execution_count": null,
   "id": "01117cd9",
   "metadata": {},
   "outputs": [],
   "source": []
  },
  {
   "cell_type": "markdown",
   "id": "ffa19c78",
   "metadata": {
    "slideshow": {
     "slide_type": "slide"
    }
   },
   "source": [
    "The result DataFrame shows the average ratings of the movies of each cluster.\n",
    "\n",
    "For example, cluster 3 users have an average rating of 4.72 for **Shawshank Redemption (1994)**. This implies that we can predict that it is reasonable to predict that the second user in the dataset (who is in cluster 3) is likely to give a high rating."
   ]
  }
 ],
 "metadata": {
  "celltoolbar": "Slideshow",
  "kernelspec": {
   "display_name": "Python 3 (ipykernel)",
   "language": "python",
   "name": "python3"
  },
  "language_info": {
   "codemirror_mode": {
    "name": "ipython",
    "version": 3
   },
   "file_extension": ".py",
   "mimetype": "text/x-python",
   "name": "python",
   "nbconvert_exporter": "python",
   "pygments_lexer": "ipython3",
   "version": "3.12.2"
  }
 },
 "nbformat": 4,
 "nbformat_minor": 5
}

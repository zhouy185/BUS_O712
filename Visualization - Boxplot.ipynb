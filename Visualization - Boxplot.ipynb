{
 "cells": [
  {
   "cell_type": "markdown",
   "id": "ee7986a7",
   "metadata": {},
   "source": [
    "# Using boxplot to visualize distribution"
   ]
  },
  {
   "cell_type": "markdown",
   "id": "ea1f63fc",
   "metadata": {},
   "source": [
    "In `matplotlib.pyplot`, the function `boxplot()` creates boxplots."
   ]
  },
  {
   "cell_type": "markdown",
   "id": "6d79b3be",
   "metadata": {},
   "source": [
    "## Visualizing Uber and Lyft prices"
   ]
  },
  {
   "cell_type": "markdown",
   "id": "ee26b01a",
   "metadata": {},
   "source": [
    "Let's look at a dataset of Uber and Lyft trips in Boston. \n",
    "\n",
    "* The dataset is in the file \"cab_rides.csv\". Only the economic services (UberX and Lyft Economy) are included."
   ]
  },
  {
   "cell_type": "code",
   "execution_count": 5,
   "id": "14c8622d",
   "metadata": {},
   "outputs": [
    {
     "data": {
      "text/html": [
       "<div>\n",
       "<style scoped>\n",
       "    .dataframe tbody tr th:only-of-type {\n",
       "        vertical-align: middle;\n",
       "    }\n",
       "\n",
       "    .dataframe tbody tr th {\n",
       "        vertical-align: top;\n",
       "    }\n",
       "\n",
       "    .dataframe thead th {\n",
       "        text-align: right;\n",
       "    }\n",
       "</style>\n",
       "<table border=\"1\" class=\"dataframe\">\n",
       "  <thead>\n",
       "    <tr style=\"text-align: right;\">\n",
       "      <th></th>\n",
       "      <th>distance</th>\n",
       "      <th>cab_type</th>\n",
       "      <th>time_stamp</th>\n",
       "      <th>destination</th>\n",
       "      <th>source</th>\n",
       "      <th>price</th>\n",
       "      <th>surge_multiplier</th>\n",
       "      <th>id</th>\n",
       "    </tr>\n",
       "  </thead>\n",
       "  <tbody>\n",
       "    <tr>\n",
       "      <th>0</th>\n",
       "      <td>1.08</td>\n",
       "      <td>Lyft</td>\n",
       "      <td>1543432987778</td>\n",
       "      <td>Northeastern University</td>\n",
       "      <td>Back Bay</td>\n",
       "      <td>7.0</td>\n",
       "      <td>1.0</td>\n",
       "      <td>d859ec69-b3ff-4af8-9abd-441e31430c94</td>\n",
       "    </tr>\n",
       "    <tr>\n",
       "      <th>1</th>\n",
       "      <td>1.11</td>\n",
       "      <td>Uber</td>\n",
       "      <td>1544728503935</td>\n",
       "      <td>West End</td>\n",
       "      <td>North End</td>\n",
       "      <td>7.5</td>\n",
       "      <td>1.0</td>\n",
       "      <td>357559cb-8c58-4278-a41a-e33b2e0997a3</td>\n",
       "    </tr>\n",
       "    <tr>\n",
       "      <th>2</th>\n",
       "      <td>2.48</td>\n",
       "      <td>Uber</td>\n",
       "      <td>1544697611531</td>\n",
       "      <td>South Station</td>\n",
       "      <td>Beacon Hill</td>\n",
       "      <td>8.5</td>\n",
       "      <td>1.0</td>\n",
       "      <td>4149295f-4534-4712-b2cf-160308528c75</td>\n",
       "    </tr>\n",
       "    <tr>\n",
       "      <th>3</th>\n",
       "      <td>3.24</td>\n",
       "      <td>Lyft</td>\n",
       "      <td>1543774987499</td>\n",
       "      <td>Northeastern University</td>\n",
       "      <td>North Station</td>\n",
       "      <td>11.0</td>\n",
       "      <td>1.0</td>\n",
       "      <td>174b960d-58f1-4dfd-8672-8b43f13726a7</td>\n",
       "    </tr>\n",
       "    <tr>\n",
       "      <th>4</th>\n",
       "      <td>2.94</td>\n",
       "      <td>Uber</td>\n",
       "      <td>1544789105468</td>\n",
       "      <td>Fenway</td>\n",
       "      <td>North Station</td>\n",
       "      <td>9.5</td>\n",
       "      <td>1.0</td>\n",
       "      <td>c05d4e09-3f00-43cf-a0d8-6f38c0f4d04a</td>\n",
       "    </tr>\n",
       "  </tbody>\n",
       "</table>\n",
       "</div>"
      ],
      "text/plain": [
       "   distance cab_type     time_stamp              destination         source  \\\n",
       "0      1.08     Lyft  1543432987778  Northeastern University       Back Bay   \n",
       "1      1.11     Uber  1544728503935                 West End      North End   \n",
       "2      2.48     Uber  1544697611531            South Station    Beacon Hill   \n",
       "3      3.24     Lyft  1543774987499  Northeastern University  North Station   \n",
       "4      2.94     Uber  1544789105468                   Fenway  North Station   \n",
       "\n",
       "   price  surge_multiplier                                    id  \n",
       "0    7.0               1.0  d859ec69-b3ff-4af8-9abd-441e31430c94  \n",
       "1    7.5               1.0  357559cb-8c58-4278-a41a-e33b2e0997a3  \n",
       "2    8.5               1.0  4149295f-4534-4712-b2cf-160308528c75  \n",
       "3   11.0               1.0  174b960d-58f1-4dfd-8672-8b43f13726a7  \n",
       "4    9.5               1.0  c05d4e09-3f00-43cf-a0d8-6f38c0f4d04a  "
      ]
     },
     "execution_count": 5,
     "metadata": {},
     "output_type": "execute_result"
    }
   ],
   "source": [
    "import pandas as pd\n",
    "\n",
    "rides = pd.read_csv(\"Data/fhv_rides.csv\")\n",
    "\n",
    "rides.head()"
   ]
  },
  {
   "cell_type": "markdown",
   "id": "2fbe3f2a",
   "metadata": {},
   "source": [
    "**Question**: Is Uber or Lyft cheaper?"
   ]
  },
  {
   "cell_type": "markdown",
   "id": "5028d08c",
   "metadata": {},
   "source": [
    "Let's first calcualte the per-distant-unit for each trip."
   ]
  },
  {
   "cell_type": "code",
   "execution_count": 10,
   "id": "0d39e9b3",
   "metadata": {},
   "outputs": [
    {
     "data": {
      "text/html": [
       "<div>\n",
       "<style scoped>\n",
       "    .dataframe tbody tr th:only-of-type {\n",
       "        vertical-align: middle;\n",
       "    }\n",
       "\n",
       "    .dataframe tbody tr th {\n",
       "        vertical-align: top;\n",
       "    }\n",
       "\n",
       "    .dataframe thead th {\n",
       "        text-align: right;\n",
       "    }\n",
       "</style>\n",
       "<table border=\"1\" class=\"dataframe\">\n",
       "  <thead>\n",
       "    <tr style=\"text-align: right;\">\n",
       "      <th></th>\n",
       "      <th>distance</th>\n",
       "      <th>cab_type</th>\n",
       "      <th>time_stamp</th>\n",
       "      <th>destination</th>\n",
       "      <th>source</th>\n",
       "      <th>price</th>\n",
       "      <th>surge_multiplier</th>\n",
       "      <th>id</th>\n",
       "      <th>price_per_mile</th>\n",
       "    </tr>\n",
       "  </thead>\n",
       "  <tbody>\n",
       "    <tr>\n",
       "      <th>0</th>\n",
       "      <td>1.08</td>\n",
       "      <td>Lyft</td>\n",
       "      <td>1543432987778</td>\n",
       "      <td>Northeastern University</td>\n",
       "      <td>Back Bay</td>\n",
       "      <td>7.0</td>\n",
       "      <td>1.0</td>\n",
       "      <td>d859ec69-b3ff-4af8-9abd-441e31430c94</td>\n",
       "      <td>6.481481</td>\n",
       "    </tr>\n",
       "    <tr>\n",
       "      <th>1</th>\n",
       "      <td>1.11</td>\n",
       "      <td>Uber</td>\n",
       "      <td>1544728503935</td>\n",
       "      <td>West End</td>\n",
       "      <td>North End</td>\n",
       "      <td>7.5</td>\n",
       "      <td>1.0</td>\n",
       "      <td>357559cb-8c58-4278-a41a-e33b2e0997a3</td>\n",
       "      <td>6.756757</td>\n",
       "    </tr>\n",
       "    <tr>\n",
       "      <th>2</th>\n",
       "      <td>2.48</td>\n",
       "      <td>Uber</td>\n",
       "      <td>1544697611531</td>\n",
       "      <td>South Station</td>\n",
       "      <td>Beacon Hill</td>\n",
       "      <td>8.5</td>\n",
       "      <td>1.0</td>\n",
       "      <td>4149295f-4534-4712-b2cf-160308528c75</td>\n",
       "      <td>3.427419</td>\n",
       "    </tr>\n",
       "    <tr>\n",
       "      <th>3</th>\n",
       "      <td>3.24</td>\n",
       "      <td>Lyft</td>\n",
       "      <td>1543774987499</td>\n",
       "      <td>Northeastern University</td>\n",
       "      <td>North Station</td>\n",
       "      <td>11.0</td>\n",
       "      <td>1.0</td>\n",
       "      <td>174b960d-58f1-4dfd-8672-8b43f13726a7</td>\n",
       "      <td>3.395062</td>\n",
       "    </tr>\n",
       "    <tr>\n",
       "      <th>4</th>\n",
       "      <td>2.94</td>\n",
       "      <td>Uber</td>\n",
       "      <td>1544789105468</td>\n",
       "      <td>Fenway</td>\n",
       "      <td>North Station</td>\n",
       "      <td>9.5</td>\n",
       "      <td>1.0</td>\n",
       "      <td>c05d4e09-3f00-43cf-a0d8-6f38c0f4d04a</td>\n",
       "      <td>3.231293</td>\n",
       "    </tr>\n",
       "  </tbody>\n",
       "</table>\n",
       "</div>"
      ],
      "text/plain": [
       "   distance cab_type     time_stamp              destination         source  \\\n",
       "0      1.08     Lyft  1543432987778  Northeastern University       Back Bay   \n",
       "1      1.11     Uber  1544728503935                 West End      North End   \n",
       "2      2.48     Uber  1544697611531            South Station    Beacon Hill   \n",
       "3      3.24     Lyft  1543774987499  Northeastern University  North Station   \n",
       "4      2.94     Uber  1544789105468                   Fenway  North Station   \n",
       "\n",
       "   price  surge_multiplier                                    id  \\\n",
       "0    7.0               1.0  d859ec69-b3ff-4af8-9abd-441e31430c94   \n",
       "1    7.5               1.0  357559cb-8c58-4278-a41a-e33b2e0997a3   \n",
       "2    8.5               1.0  4149295f-4534-4712-b2cf-160308528c75   \n",
       "3   11.0               1.0  174b960d-58f1-4dfd-8672-8b43f13726a7   \n",
       "4    9.5               1.0  c05d4e09-3f00-43cf-a0d8-6f38c0f4d04a   \n",
       "\n",
       "   price_per_mile  \n",
       "0        6.481481  \n",
       "1        6.756757  \n",
       "2        3.427419  \n",
       "3        3.395062  \n",
       "4        3.231293  "
      ]
     },
     "execution_count": 10,
     "metadata": {},
     "output_type": "execute_result"
    }
   ],
   "source": [
    "rides['price_per_mile'] = rides['price']/rides['distance']\n",
    "\n",
    "rides.head()"
   ]
  },
  {
   "cell_type": "markdown",
   "id": "a535f567",
   "metadata": {},
   "source": [
    "We can seperate Uber trips from Lyft trips using filtering"
   ]
  },
  {
   "cell_type": "code",
   "execution_count": 13,
   "id": "0bb799d8",
   "metadata": {},
   "outputs": [],
   "source": [
    "rides_uber = rides[rides['cab_type']=='Uber']\n",
    "rides_lyft = rides[rides['cab_type']=='Lyft']"
   ]
  },
  {
   "cell_type": "markdown",
   "id": "95be9ea1",
   "metadata": {},
   "source": [
    "Let's first visualize Uber's per-mile prices."
   ]
  },
  {
   "cell_type": "code",
   "execution_count": 33,
   "id": "fa2104d9",
   "metadata": {},
   "outputs": [
    {
     "data": {
      "image/png": "[encoded data removed]",
      "text/plain": [
       "<Figure size 640x480 with 1 Axes>"
      ]
     },
     "metadata": {},
     "output_type": "display_data"
    }
   ],
   "source": [
    "import matplotlib.pyplot as plt\n",
    "\n",
    "plt.boxplot(rides_uber['price_per_mile'])\n",
    "plt.xticks([1],['Uber'])\n",
    "plt.show()"
   ]
  },
  {
   "cell_type": "markdown",
   "id": "6988e3fd",
   "metadata": {},
   "source": [
    "Now let's include the plots for both Uber and Lyft trips."
   ]
  },
  {
   "cell_type": "code",
   "execution_count": 35,
   "id": "82f5a9ad",
   "metadata": {},
   "outputs": [
    {
     "data": {
      "image/png": "[encoded data removed]",
      "text/plain": [
       "<Figure size 640x480 with 1 Axes>"
      ]
     },
     "metadata": {},
     "output_type": "display_data"
    }
   ],
   "source": [
    "plt.boxplot([rides_uber['price_per_mile'],rides_lyft['price_per_mile']])\n",
    "plt.grid()\n",
    "plt.xticks([1,2],['Uber','Lyft'])\n",
    "plt.title(\"Per-mile price, Uber vs. Lyft\")\n",
    "plt.show()"
   ]
  },
  {
   "cell_type": "markdown",
   "id": "f79accaf",
   "metadata": {},
   "source": [
    "## The violinplot"
   ]
  },
  {
   "cell_type": "code",
   "execution_count": 36,
   "id": "068c86be",
   "metadata": {},
   "outputs": [
    {
     "data": {
      "image/png": "[encoded data removed]",
      "text/plain": [
       "<Figure size 640x480 with 1 Axes>"
      ]
     },
     "metadata": {},
     "output_type": "display_data"
    }
   ],
   "source": [
    "plt.violinplot([rides_uber['price_per_mile'],rides_lyft['price_per_mile']],showmeans=True,showextrema=False)\n",
    "plt.grid()\n",
    "plt.title(\"Per-mile price, Uber vs. Lyft\")\n",
    "plt.xticks([1,2],['Uber','Lyft'])\n",
    "plt.show()"
   ]
  },
  {
   "cell_type": "code",
   "execution_count": null,
   "id": "4674cd89",
   "metadata": {},
   "outputs": [],
   "source": []
  }
 ],
 "metadata": {
  "kernelspec": {
   "display_name": "Python 3 (ipykernel)",
   "language": "python",
   "name": "python3"
  },
  "language_info": {
   "codemirror_mode": {
    "name": "ipython",
    "version": 3
   },
   "file_extension": ".py",
   "mimetype": "text/x-python",
   "name": "python",
   "nbconvert_exporter": "python",
   "pygments_lexer": "ipython3",
   "version": "3.12.2"
  }
 },
 "nbformat": 4,
 "nbformat_minor": 5
}

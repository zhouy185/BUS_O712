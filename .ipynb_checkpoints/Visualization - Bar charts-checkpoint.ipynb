{
 "cells": [
  {
   "cell_type": "markdown",
   "id": "bb888c60",
   "metadata": {
    "slideshow": {
     "slide_type": "slide"
    }
   },
   "source": [
    "# Medal counts by countries"
   ]
  },
  {
   "cell_type": "markdown",
   "id": "9a67dbd4",
   "metadata": {},
   "source": [
    "Let's load a dataset stored in a file names \"Olympic_medals_2016.csv\".\n",
    "\n",
    "The dataset counts the total number of medals won by 10 countries, which have the most medals in the 2016 Summer Olympics Games in Rio. The 'NOC' column includes the abbrevation of the countries.\n",
    "\n",
    "Note that we will need to import the pandas library first."
   ]
  },
  {
   "cell_type": "code",
   "execution_count": null,
   "id": "b2c2ba73",
   "metadata": {
    "slideshow": {
     "slide_type": "subslide"
    }
   },
   "outputs": [],
   "source": []
  },
  {
   "cell_type": "markdown",
   "id": "257d303d",
   "metadata": {},
   "source": [
    "Which chart should we use to visualize the medal counts by countries?"
   ]
  },
  {
   "cell_type": "markdown",
   "id": "569dc254",
   "metadata": {
    "slideshow": {
     "slide_type": "slide"
    }
   },
   "source": [
    "# Bar Charts in matplotlib"
   ]
  },
  {
   "cell_type": "markdown",
   "id": "a33ada51",
   "metadata": {},
   "source": [
    "The `bar()` function in `matplotlib.pyplot` helps us create bar charts. It has two mandatory arguments, the indexes and the values. \n",
    "* The indexes specify the categories to be placed on the x-axis \n",
    "* The values specifiy the height of each bar.\n",
    "\n",
    "The basic command is:\n",
    "* `plt.bar(indexes, values)`\n",
    "* `plt.show()`\n"
   ]
  },
  {
   "cell_type": "markdown",
   "id": "52d8563c",
   "metadata": {
    "slideshow": {
     "slide_type": "slide"
    }
   },
   "source": [
    "A simple example:\n",
    "* Suppose that in a group of programmers:\n",
    "    * 10 people prefers C++ as a programming language\n",
    "    * 15 prefers Python\n",
    "    * 5 prefers Java"
   ]
  },
  {
   "cell_type": "code",
   "execution_count": null,
   "id": "bec1e521",
   "metadata": {
    "scrolled": true,
    "slideshow": {
     "slide_type": "subslide"
    }
   },
   "outputs": [],
   "source": []
  },
  {
   "cell_type": "markdown",
   "id": "75f0d9c0",
   "metadata": {
    "slideshow": {
     "slide_type": "slide"
    }
   },
   "source": [
    "## Medal counts by countries -- Single bar chart"
   ]
  },
  {
   "cell_type": "markdown",
   "id": "4dfe8a23",
   "metadata": {},
   "source": [
    "Now we will create a bar chart to visualize the top 10 countries with the most medals."
   ]
  },
  {
   "cell_type": "code",
   "execution_count": null,
   "id": "b73bcce4",
   "metadata": {
    "slideshow": {
     "slide_type": "subslide"
    }
   },
   "outputs": [],
   "source": []
  },
  {
   "cell_type": "markdown",
   "id": "acb45bf9",
   "metadata": {
    "slideshow": {
     "slide_type": "subslide"
    }
   },
   "source": [
    "We may use optional arguments in the bar() function to customize our bar graph.\n",
    "* The width of the bars is by default set to 0.8. Let's change that to 0.5.\n",
    "* The colour is by default 'blue', let's change that to 'green'\n",
    "* Add a title\n",
    "* Add grids\n",
    "* Add the y-axis label\n",
    "\n",
    "For additional options please see [matplotlib.pyplot.bar — documentation](https://matplotlib.org/stable/api/_as_gen/matplotlib.pyplot.bar.html)."
   ]
  },
  {
   "cell_type": "markdown",
   "id": "93c3416b",
   "metadata": {
    "slideshow": {
     "slide_type": "slide"
    }
   },
   "source": [
    "To create a **horizontal** bar chart, replace `bar()` with `barh()`"
   ]
  },
  {
   "cell_type": "code",
   "execution_count": null,
   "id": "3375255b",
   "metadata": {},
   "outputs": [],
   "source": []
  },
  {
   "cell_type": "markdown",
   "id": "5b6cd756",
   "metadata": {
    "slideshow": {
     "slide_type": "slide"
    }
   },
   "source": [
    "What if we want to visualize the number of medals for multiple years?"
   ]
  },
  {
   "cell_type": "markdown",
   "id": "5ae07bfe",
   "metadata": {
    "slideshow": {
     "slide_type": "fragment"
    }
   },
   "source": [
    "## Multi-series bar chart"
   ]
  },
  {
   "cell_type": "markdown",
   "id": "4ace1cd0",
   "metadata": {
    "slideshow": {
     "slide_type": "slide"
    }
   },
   "source": [
    "## Stacked bar chart"
   ]
  },
  {
   "cell_type": "markdown",
   "id": "1f56bd73",
   "metadata": {},
   "source": [
    "Let us look at two years, 2012 and 2016.\n",
    "\n",
    "Let's load the data for 2012."
   ]
  },
  {
   "cell_type": "code",
   "execution_count": null,
   "id": "46138b51",
   "metadata": {},
   "outputs": [],
   "source": []
  },
  {
   "cell_type": "markdown",
   "id": "e8df0051",
   "metadata": {
    "slideshow": {
     "slide_type": "slide"
    }
   },
   "source": [
    "We will then include the three years of medal counts for the seleted countries in the **same** bar chart."
   ]
  },
  {
   "cell_type": "code",
   "execution_count": null,
   "id": "2f83a41a",
   "metadata": {},
   "outputs": [],
   "source": []
  },
  {
   "cell_type": "markdown",
   "id": "31967f36",
   "metadata": {
    "slideshow": {
     "slide_type": "slide"
    }
   },
   "source": [
    "Again, we may add a title, axis labels, grid, etc"
   ]
  },
  {
   "cell_type": "markdown",
   "id": "618c39db",
   "metadata": {
    "slideshow": {
     "slide_type": "slide"
    }
   },
   "source": [
    "## Side-by-side chart"
   ]
  },
  {
   "cell_type": "markdown",
   "id": "88fefd5b",
   "metadata": {},
   "source": [
    "To make side-by-side bar charts, it is important that all the series share the same categories. However, the  placement of the bars on the x-axis should not be the same (otherwise we should use the stacked bar)."
   ]
  },
  {
   "cell_type": "markdown",
   "id": "519a00d7",
   "metadata": {},
   "source": [
    "Given that we have 10 countries, let us create a numpy array for the positions of the bars."
   ]
  },
  {
   "cell_type": "code",
   "execution_count": null,
   "id": "bcbf4021",
   "metadata": {},
   "outputs": [],
   "source": []
  },
  {
   "cell_type": "markdown",
   "id": "8db8b0e4",
   "metadata": {
    "slideshow": {
     "slide_type": "slide"
    }
   },
   "source": [
    "For 2012, we will plot the bars at the positions $x=0,1,...,9$\n",
    "\n",
    "For 2016, we will plot the bars at $x=0.4,1.4,...,9.4$"
   ]
  },
  {
   "cell_type": "code",
   "execution_count": null,
   "id": "1561a7c1",
   "metadata": {},
   "outputs": [],
   "source": []
  },
  {
   "cell_type": "markdown",
   "id": "3683d7e0",
   "metadata": {
    "slideshow": {
     "slide_type": "notes"
    }
   },
   "source": [
    "Notice that in the above code, we have the array index indicate the location of the index for the first bar graph. For the second bar graph we add 0.4 to the index to move the position of the second bar graph slightly to the right. Also, note that the width of the bars were reduced to 0.4. In addition to that, notice that the tick_label parameter was added to the first bar() statement to add the labels to the ticks on the x-axis."
   ]
  }
 ],
 "metadata": {
  "celltoolbar": "Slideshow",
  "kernelspec": {
   "display_name": "Python 3 (ipykernel)",
   "language": "python",
   "name": "python3"
  },
  "language_info": {
   "codemirror_mode": {
    "name": "ipython",
    "version": 3
   },
   "file_extension": ".py",
   "mimetype": "text/x-python",
   "name": "python",
   "nbconvert_exporter": "python",
   "pygments_lexer": "ipython3",
   "version": "3.12.2"
  }
 },
 "nbformat": 4,
 "nbformat_minor": 5
}

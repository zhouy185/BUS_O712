{
 "cells": [
  {
   "cell_type": "markdown",
   "id": "2280a3a5-5030-445f-aa96-4c9f803b9a31",
   "metadata": {
    "slideshow": {
     "slide_type": "slide"
    }
   },
   "source": [
    "# Basics of Python Coding\n"
   ]
  },
  {
   "cell_type": "markdown",
   "id": "db91cde6",
   "metadata": {
    "slideshow": {
     "slide_type": "slide"
    }
   },
   "source": [
    "## Python as a calculator"
   ]
  },
  {
   "cell_type": "markdown",
   "id": "f12a72f2-32a3-4d77-bfae-6d8152637b60",
   "metadata": {
    "slideshow": {
     "slide_type": "-"
    }
   },
   "source": [
    "To use Python as a calculator, we can simply enter the expressions of mathematical operations. For example, we calculate 1+1 in the following cell."
   ]
  },
  {
   "cell_type": "code",
   "execution_count": 3,
   "id": "fc74b436-2f35-40ae-8fb1-709f73b672f9",
   "metadata": {},
   "outputs": [
    {
     "data": {
      "text/plain": [
       "2"
      ]
     },
     "execution_count": 3,
     "metadata": {},
     "output_type": "execute_result"
    }
   ],
   "source": [
    "1+1"
   ]
  },
  {
   "cell_type": "markdown",
   "id": "62c8ead5-0a74-4529-8a42-2639d3a27f2a",
   "metadata": {
    "slideshow": {
     "slide_type": "slide"
    }
   },
   "source": [
    "We can have multiple lines of math operations in a cell. Each line will be executed sequentially, but only the results of the last line will be displayed"
   ]
  },
  {
   "cell_type": "code",
   "execution_count": 4,
   "id": "8c365d2c-f96a-4299-aae3-215aa3a316a0",
   "metadata": {},
   "outputs": [
    {
     "data": {
      "text/plain": [
       "4"
      ]
     },
     "execution_count": 4,
     "metadata": {},
     "output_type": "execute_result"
    }
   ],
   "source": [
    "1+1\n",
    "1+2\n",
    "1+3"
   ]
  },
  {
   "cell_type": "markdown",
   "id": "3b95bbbb-cf64-4f61-9a80-6b9cc4891398",
   "metadata": {
    "slideshow": {
     "slide_type": "slide"
    }
   },
   "source": [
    "To display the result of each line, we may use the \"print\" function."
   ]
  },
  {
   "cell_type": "code",
   "execution_count": 5,
   "id": "893ce5f4-9c43-41c3-a15b-2517eb7500a2",
   "metadata": {},
   "outputs": [
    {
     "name": "stdout",
     "output_type": "stream",
     "text": [
      "2\n",
      "3\n",
      "4\n"
     ]
    }
   ],
   "source": [
    "print(1+1)\n",
    "print(1+2)\n",
    "print(1+3)"
   ]
  },
  {
   "cell_type": "markdown",
   "id": "d19297b2-69a1-4b2a-a557-ace1189cc851",
   "metadata": {
    "slideshow": {
     "slide_type": "slide"
    }
   },
   "source": [
    "Often times we need to store the value from a calculation in a variable. \n",
    "\n",
    "In the following cell, we calculate $1+2^3$ and assign the result to a variable named `res`.\n",
    "\n",
    "Then we use Python's **f-string** to display the result by combining a string with the value to make it more readable. \n",
    "\n",
    "Note that 2**3 means $2^3$ in Python."
   ]
  },
  {
   "cell_type": "code",
   "execution_count": 6,
   "id": "8cb6ad60-2364-4bd5-98d7-d635d3eee004",
   "metadata": {},
   "outputs": [
    {
     "data": {
      "text/plain": [
       "8"
      ]
     },
     "execution_count": 6,
     "metadata": {},
     "output_type": "execute_result"
    }
   ],
   "source": [
    "2**3"
   ]
  },
  {
   "cell_type": "markdown",
   "id": "4bf3256e-ea3d-4938-862b-c1d0cdb8390e",
   "metadata": {
    "slideshow": {
     "slide_type": "slide"
    }
   },
   "source": [
    "## Importing libraries"
   ]
  },
  {
   "cell_type": "markdown",
   "id": "eaf91383-bf9e-4942-a5f0-074cf380200d",
   "metadata": {
    "slideshow": {
     "slide_type": "notes"
    }
   },
   "source": [
    "A Python library is a collection of related functionality of codes that allows you to perform many tasks without writing your code. Each library extends the basic capability of Python. To use a function from a library, we need to install and import it. Note that a library just needs to be installed once. Some libraries are installed during the installation of Anaconda. In such cases, we do not install them again. \n",
    "\n",
    "Let us import the `math` library to perform more complex mathematical operations. To see the content of a library, we can use the command `help('name_of_library')`. Since the output can be quite long, we commented out the `help` command to save some space by using the `#` symbol. You can uncomment reveal the output.\n",
    "\n",
    "**Notes**: \n",
    "\n",
    "1. The convention is to place the \"import\" command in the beginning of the document. But it will work as long as you import before using the library\n",
    "\n",
    "2. Note that in any code cell, any thing following the # symbol in a line is a comment, which will not be executed by Python when you run the cell. \n",
    "\n",
    "\n",
    "\n"
   ]
  },
  {
   "cell_type": "code",
   "execution_count": 7,
   "id": "9019bd91-67ef-4c79-8cc6-bc60bf34df14",
   "metadata": {},
   "outputs": [],
   "source": [
    "# This is a comment. Anything after the \"#\" symbol in a line is a comment. \n",
    "# Comments are just for readability of the codes \n",
    "# and will be ignored by the Python interpreter when you run the cell.\n",
    "# Note that this is very different from a markdown cell, which use \"#\" to create a heading.\n",
    "\n",
    "# Import the math library\n",
    "\n",
    "import math\n",
    "\n",
    "# help('math') ##uncomment to see the content of the \"math\" library\n"
   ]
  },
  {
   "cell_type": "markdown",
   "id": "5e8755ae-651a-4c7a-bae7-44d0a1cfbd19",
   "metadata": {},
   "source": [
    "We can now use the functions in the \"math\" library. Below, we use the sinusoidall function from \"math\"."
   ]
  },
  {
   "cell_type": "code",
   "execution_count": 8,
   "id": "52d97e5a-54a1-4f47-9846-c74840e81dd9",
   "metadata": {},
   "outputs": [
    {
     "data": {
      "text/plain": [
       "9.9498743710662"
      ]
     },
     "execution_count": 8,
     "metadata": {},
     "output_type": "execute_result"
    }
   ],
   "source": [
    "math.sqrt(99)"
   ]
  },
  {
   "cell_type": "markdown",
   "id": "32b0fb37-2acd-42b6-a595-5db4d720838e",
   "metadata": {
    "slideshow": {
     "slide_type": "slide"
    }
   },
   "source": [
    "If we only need one function from a library, we can use `import name_of_fuction from name_of_library`."
   ]
  },
  {
   "cell_type": "markdown",
   "id": "d3076643",
   "metadata": {
    "slideshow": {
     "slide_type": "skip"
    }
   },
   "source": [
    "In the following, we first import the `sqrt` function for calculating square roots, and then use it for a calculation."
   ]
  },
  {
   "cell_type": "code",
   "execution_count": 9,
   "id": "355ba003-579b-444b-afd0-53d7e46bd355",
   "metadata": {},
   "outputs": [],
   "source": [
    "# import the square root function from the math library\n",
    "from math import sqrt"
   ]
  },
  {
   "cell_type": "code",
   "execution_count": 11,
   "id": "47b3ca0f-4e9c-4e50-875e-0242b4b007ad",
   "metadata": {
    "scrolled": true
   },
   "outputs": [
    {
     "data": {
      "text/plain": [
       "4.0"
      ]
     },
     "execution_count": 11,
     "metadata": {},
     "output_type": "execute_result"
    }
   ],
   "source": [
    "# Now we can use sqrt() without the prefix \"math.\"\n",
    "sqrt(16)"
   ]
  },
  {
   "cell_type": "markdown",
   "id": "59a8cdac-3161-42f5-a794-a8db82516325",
   "metadata": {
    "slideshow": {
     "slide_type": "slide"
    }
   },
   "source": [
    "## Data types and structures in Python"
   ]
  },
  {
   "cell_type": "markdown",
   "id": "7b0e60dc-9adb-41d4-b954-73342d55dcb5",
   "metadata": {},
   "source": [
    "### Basic data types\n",
    "Python has the following commonly-used basic data types:\n",
    "\n",
    "* Text Type:\t`str`\n",
    "* Numeric Types:\t`int`, `float`, `complex`\n",
    "* Boolean Type:\t`bool`\n"
   ]
  },
  {
   "cell_type": "markdown",
   "id": "6ffb0bdb",
   "metadata": {
    "slideshow": {
     "slide_type": "slide"
    }
   },
   "source": [
    "Let's create a variable of each type. \n",
    "As an example, we will create the following variables\n",
    "\n",
    "* `name`: The person's name. The type is `str`\n",
    "* `age`: The person's age. The type is `int`\n",
    "* `height`: The person's heigh in m. The type is `float`\n",
    "* `weight`: The person's weight in kg. The type is `float`\n",
    "* `is_normal`: Tells if the person's BMI is normal\n",
    "\n",
    "The task: Calculate the person's BMI and print the following message.\n",
    "\n",
    "* _____'s BMI is ____. It is _____ that the BMI is normal.\n"
   ]
  },
  {
   "cell_type": "code",
   "execution_count": 13,
   "id": "d47591c5-3fea-4afb-9d59-3712813e2716",
   "metadata": {
    "slideshow": {
     "slide_type": "subslide"
    }
   },
   "outputs": [
    {
     "name": "stdout",
     "output_type": "stream",
     "text": [
      "Jack's bmi is 22.6421929718633, it is true that the bmi is normal\n"
     ]
    }
   ],
   "source": [
    "# Parameters\n",
    "name = 'Jack' \n",
    "age = 36\n",
    "weight = 75\n",
    "height = 1.82\n",
    "\n",
    "# Calculation\n",
    "\n",
    "bmi = weight/height**2\n",
    "\n",
    "result = str(bmi < 25).lower()\n",
    "\n",
    "print(f\"{name}'s bmi is {bmi}, it is {result} that the bmi is normal\")\n"
   ]
  },
  {
   "cell_type": "markdown",
   "id": "951f29e3",
   "metadata": {},
   "source": [
    "In the above, the expression `bmi<25` returns the boolean value `True`. We then use the function `str()` convert this boolean value into the string `True`. Note that `name_of_a_data_type()` will convert the input variable to the corresponding data type.\n",
    "\n",
    "The f-string is used in the print function above. f-string uses the letter f followed by texts between quotation marks. The advantage of f-string is that it can mix string with variables."
   ]
  },
  {
   "cell_type": "markdown",
   "id": "5a130bdb-3eaa-490c-a467-078dfecd7efc",
   "metadata": {
    "slideshow": {
     "slide_type": "slide"
    }
   },
   "source": [
    "### Data structures that can store many values\n",
    "Python stores and represents data that consists of multiple values using different structures. Some common data structures are:\n",
    "\n",
    "* Sequence Types:\t`list`, `range`, `tuple`\n",
    "* Set Types:\t`set`\n",
    "* Mapping Type:\t`dict`\n"
   ]
  },
  {
   "cell_type": "markdown",
   "id": "e523e7d9-49eb-4088-8210-a63035b65fea",
   "metadata": {
    "slideshow": {
     "slide_type": "slide"
    }
   },
   "source": [
    "#### Lists\n",
    "Let us first construct a list and assign it to a variable. Observe the **square** brackets that indicate the item created is a list."
   ]
  },
  {
   "cell_type": "code",
   "execution_count": 14,
   "id": "68a7f11d",
   "metadata": {},
   "outputs": [],
   "source": [
    "my_list = [10,12,17,19,42]"
   ]
  },
  {
   "cell_type": "markdown",
   "id": "f740b902-3584-4eaa-baab-b9887c8eda48",
   "metadata": {
    "slideshow": {
     "slide_type": "notes"
    }
   },
   "source": [
    "The list `my_list` has 4 elements, and thus four indexes. Since the index starts with 0, the index for the first element of the list (number 20) will be 0. In order to call an element of the list we will use the **square bracket**.\n",
    "\n",
    "In the following, we first use the function `len(name_of_list)` to get the length of `my_list`, and then extract each element by calling on its index. "
   ]
  },
  {
   "cell_type": "code",
   "execution_count": 15,
   "id": "f2163440-e506-4b26-9f06-cdbdfd2e70c2",
   "metadata": {},
   "outputs": [
    {
     "data": {
      "text/plain": [
       "5"
      ]
     },
     "execution_count": 15,
     "metadata": {},
     "output_type": "execute_result"
    }
   ],
   "source": [
    "# find the length of my_list \n",
    "len(my_list)"
   ]
  },
  {
   "cell_type": "code",
   "execution_count": 16,
   "id": "93c97cd9-f936-412a-b23d-8b5706294bb5",
   "metadata": {},
   "outputs": [
    {
     "data": {
      "text/plain": [
       "10"
      ]
     },
     "execution_count": 16,
     "metadata": {},
     "output_type": "execute_result"
    }
   ],
   "source": [
    "# Get the first element\n",
    "my_list[0]"
   ]
  },
  {
   "cell_type": "code",
   "execution_count": 17,
   "id": "41456f61-c0f8-4d5a-9aa0-58fb4df2de1c",
   "metadata": {},
   "outputs": [
    {
     "data": {
      "text/plain": [
       "19"
      ]
     },
     "execution_count": 17,
     "metadata": {},
     "output_type": "execute_result"
    }
   ],
   "source": [
    "# Get the fourth element\n",
    "my_list[3]"
   ]
  },
  {
   "cell_type": "markdown",
   "id": "1839683c-7365-4c4a-879b-47630a4b7526",
   "metadata": {
    "slideshow": {
     "slide_type": "slide"
    }
   },
   "source": [
    "We can call a range of the list using `start_index:end_index`\n",
    "* The element at the starting index is returned\n",
    "* The element at the ending index is not returned. For example, `my_list[0:3]` will return elements with indexes 0, 1 and 2, but not 3. "
   ]
  },
  {
   "cell_type": "markdown",
   "id": "78f03c36",
   "metadata": {
    "slideshow": {
     "slide_type": "notes"
    }
   },
   "source": [
    "* `start_index` and `end_index` can be omitted\n",
    "    * If `start_index` is omitted, it is set to 0 by default\n",
    "    * If `end_index` is omitted, all elements from `start_index` to the last element will be includedend "
   ]
  },
  {
   "cell_type": "code",
   "execution_count": 18,
   "id": "361553cd-5769-4279-ba15-57c0d9c6ded8",
   "metadata": {
    "slideshow": {
     "slide_type": "-"
    }
   },
   "outputs": [
    {
     "data": {
      "text/plain": [
       "[10, 12, 17]"
      ]
     },
     "execution_count": 18,
     "metadata": {},
     "output_type": "execute_result"
    }
   ],
   "source": [
    "my_list[0:3]"
   ]
  },
  {
   "cell_type": "markdown",
   "id": "42804363-ff96-4481-8762-1ae4193b7386",
   "metadata": {
    "slideshow": {
     "slide_type": "slide"
    }
   },
   "source": [
    "Negative index can be used; the index $-k$ points to the $k^{th}$ element from the end "
   ]
  },
  {
   "cell_type": "code",
   "execution_count": 19,
   "id": "accd8013-ab20-4ae0-8d92-9472573fb427",
   "metadata": {},
   "outputs": [
    {
     "data": {
      "text/plain": [
       "42"
      ]
     },
     "execution_count": 19,
     "metadata": {},
     "output_type": "execute_result"
    }
   ],
   "source": [
    "# The following will return the last element, and the second-to-last element of my_list\n",
    "my_list[-1]"
   ]
  },
  {
   "cell_type": "markdown",
   "id": "6c5b80d6-6f00-4e51-8d6d-f7532424ef66",
   "metadata": {
    "slideshow": {
     "slide_type": "slide"
    }
   },
   "source": [
    "\n",
    "The elements of a list does not have to be numbers. We can have lists of strings (i.e., texts), lists of boolean values, etc."
   ]
  },
  {
   "cell_type": "code",
   "execution_count": 20,
   "id": "ce573238-d2f3-4ff2-b1a1-53f67e0583f2",
   "metadata": {},
   "outputs": [
    {
     "data": {
      "text/plain": [
       "['McMaster', 'McGill', 'U of T']"
      ]
     },
     "execution_count": 20,
     "metadata": {},
     "output_type": "execute_result"
    }
   ],
   "source": [
    "# List of strings representing universities names\n",
    "list_strs = ['McMaster','McGill', 'U of T']\n",
    "list_strs"
   ]
  },
  {
   "cell_type": "code",
   "execution_count": 21,
   "id": "4ad88325-e69f-455b-9852-347ae2490dfe",
   "metadata": {},
   "outputs": [
    {
     "data": {
      "text/plain": [
       "[True, False, True, False]"
      ]
     },
     "execution_count": 21,
     "metadata": {},
     "output_type": "execute_result"
    }
   ],
   "source": [
    "# List of booleans\n",
    "list_bool = [True, False, True, False]\n",
    "list_bool"
   ]
  },
  {
   "cell_type": "markdown",
   "id": "dd3c017c-3441-4672-acf1-93b9524f6bdd",
   "metadata": {
    "slideshow": {
     "slide_type": "slide"
    }
   },
   "source": [
    "\n",
    "**Some functions and methods** that take a list as its input and returns some attributes of the list:\n",
    "* Length of list: `len(name_of_list)`\n",
    "* Maximum number in the list: `max(name_of_list)`\n",
    "* Smallest number in the list: `min(name_of_list)`\n",
    "* Summation of all numbers in the list: `sum(name_of_list)`\n",
    "* Append a value to the list at the end: `name_of_list.append(value_to_append)`"
   ]
  },
  {
   "cell_type": "code",
   "execution_count": 22,
   "id": "64c40753-71f1-415a-a225-328da4db1839",
   "metadata": {
    "slideshow": {
     "slide_type": "subslide"
    }
   },
   "outputs": [
    {
     "name": "stdout",
     "output_type": "stream",
     "text": [
      "[10, 12, 17, 19, 42]\n"
     ]
    },
    {
     "data": {
      "text/plain": [
       "100"
      ]
     },
     "execution_count": 22,
     "metadata": {},
     "output_type": "execute_result"
    }
   ],
   "source": [
    "#First display the content of my_list, then we calcualte its length, maximum value, minimum value, and the summation of all values in the list\n",
    "print(my_list)\n",
    "sum(my_list)"
   ]
  },
  {
   "cell_type": "code",
   "execution_count": 23,
   "id": "2c2b8b9e-4039-4533-9185-90865b58b2e7",
   "metadata": {},
   "outputs": [
    {
     "data": {
      "text/plain": [
       "[10, 12, 17, 19, 42, 32]"
      ]
     },
     "execution_count": 23,
     "metadata": {},
     "output_type": "execute_result"
    }
   ],
   "source": [
    "# We will now append a value 32 to my_list\n",
    "my_list.append(32)\n",
    "my_list"
   ]
  },
  {
   "cell_type": "markdown",
   "id": "abc6e640-9f1e-420c-9f3c-ffcf86ab90e3",
   "metadata": {
    "slideshow": {
     "slide_type": "slide"
    }
   },
   "source": [
    "**Question**: What if we want to insert an element in the beginning? Remove an element?"
   ]
  },
  {
   "cell_type": "code",
   "execution_count": 24,
   "id": "154adca4-c14a-47dd-89f0-5e15435b4177",
   "metadata": {},
   "outputs": [
    {
     "data": {
      "text/plain": [
       "[10, 12, 17, 19, 42, 32]"
      ]
     },
     "execution_count": 24,
     "metadata": {},
     "output_type": "execute_result"
    }
   ],
   "source": [
    "#Insert the new element 10 at the index 0\n",
    "my_list"
   ]
  },
  {
   "cell_type": "code",
   "execution_count": 25,
   "id": "216c333f-c7c8-4e7d-a222-fbb56d77f7aa",
   "metadata": {},
   "outputs": [
    {
     "data": {
      "text/plain": [
       "17"
      ]
     },
     "execution_count": 25,
     "metadata": {},
     "output_type": "execute_result"
    }
   ],
   "source": [
    "#Remove the element at the index 2 from my_list using the pop function\n",
    "my_list.pop(2)"
   ]
  },
  {
   "cell_type": "markdown",
   "id": "a4786a77-702c-4aca-9169-1178f380c813",
   "metadata": {
    "slideshow": {
     "slide_type": "slide"
    }
   },
   "source": [
    "#### Range\n",
    "\n",
    "A range is a sequence of consecutive number from a beginning value to an ending value. For example, `range(2,10)` is the sequence of number 2,3,4,5,6,7,8,9."
   ]
  },
  {
   "cell_type": "code",
   "execution_count": 27,
   "id": "d3694e1e-251e-40a7-b898-30074c609a3a",
   "metadata": {},
   "outputs": [
    {
     "data": {
      "text/plain": [
       "[0, 1, 2, 3, 4, 5, 6, 7, 8, 9]"
      ]
     },
     "execution_count": 27,
     "metadata": {},
     "output_type": "execute_result"
    }
   ],
   "source": [
    "a_range = range(10)\n",
    "list(a_range) #This converts the range to a list"
   ]
  },
  {
   "cell_type": "markdown",
   "id": "56712bfe",
   "metadata": {
    "slideshow": {
     "slide_type": "slide"
    }
   },
   "source": [
    "**Question**: How to quickly generate the list $[1,\\sqrt{2},\\sqrt{3},...,\\sqrt{100}]$?"
   ]
  },
  {
   "cell_type": "code",
   "execution_count": null,
   "id": "3397bb8b",
   "metadata": {},
   "outputs": [],
   "source": []
  },
  {
   "cell_type": "markdown",
   "id": "afc58ded-e6d9-4b58-b00d-c38911760ddf",
   "metadata": {
    "slideshow": {
     "slide_type": "slide"
    }
   },
   "source": [
    "#### Set \n",
    "A set is a collection of item (strings, numbers, booleans, etc.). We can define a set by including its elements between a pair of curly brackets. "
   ]
  },
  {
   "cell_type": "code",
   "execution_count": 13,
   "id": "7af81e38-fd05-4d4f-b3ee-a800f76ff049",
   "metadata": {},
   "outputs": [],
   "source": [
    "# The following defines a set of strings for different fruits\n"
   ]
  },
  {
   "cell_type": "markdown",
   "id": "99e17046",
   "metadata": {
    "slideshow": {
     "slide_type": "slide"
    }
   },
   "source": [
    "We can check if two sets are the same, or if one is a subset/superset"
   ]
  },
  {
   "cell_type": "code",
   "execution_count": null,
   "id": "92d2a917",
   "metadata": {},
   "outputs": [],
   "source": []
  },
  {
   "cell_type": "markdown",
   "id": "213d88cc-e5cd-4760-84b4-198def7fc404",
   "metadata": {
    "slideshow": {
     "slide_type": "slide"
    }
   },
   "source": [
    "#### Dictionary"
   ]
  },
  {
   "cell_type": "markdown",
   "id": "92367a36",
   "metadata": {},
   "source": [
    "A dictionary is a set of key-value pairs"
   ]
  },
  {
   "cell_type": "markdown",
   "id": "57bc7450-d0cd-45d8-bf80-c9db3ec0ea32",
   "metadata": {
    "slideshow": {
     "slide_type": "notes"
    }
   },
   "source": [
    "The following is a dictionary data structure. A dictionary data structure is a data structure that associates **values** to *unique* **keys**. You can think of keys as <u>unique identifiers</u>. An actual dictionary could be an example for a dictionary data structure with words being the keys and definitions being values. For example, in Canada, the SIN number is the key with a person's first name and last name, etc. being the values attached to it.\n",
    "\n",
    "To create a dictionary, please note it should start and end with <u>curly brackets</u> (braces). The keys (labels) should be between <u>quotes</u>, and the keys and the values are separate by a <u>colon</u>. The key/value pairs are separated by <u>commas</u>.\n",
    "Notice there are 5 key/value pairs in the following dictionary, and the pairs are separated by commas. For example, in the first pair, 'type' is the key and 'car' is the value. The key and value could be of different types (strings, integers, etc.)\n",
    "\n",
    "Notice there are 5 key/value pairs in the following dictionary, and the pairs are separated by commas. For example, in the first pair, 'type' is the key and 'car' is the value. The key and value could be of different types (strings, integers, etc.).\n"
   ]
  },
  {
   "cell_type": "code",
   "execution_count": null,
   "id": "1c62a012-f17a-48e0-92ef-6cd506835204",
   "metadata": {},
   "outputs": [],
   "source": []
  },
  {
   "cell_type": "markdown",
   "id": "2906ba2b-e66e-42d1-8e81-166698b93742",
   "metadata": {
    "slideshow": {
     "slide_type": "notes"
    }
   },
   "source": [
    "Notice how any text is placed inside quotes (single or double) but numbers are not placed between quotes. Anything that is placed between quotes is assumed to be a string/text in Python."
   ]
  },
  {
   "cell_type": "markdown",
   "id": "f460c01e-a4c1-49c7-925f-80a3f7ebd370",
   "metadata": {
    "slideshow": {
     "slide_type": "slide"
    }
   },
   "source": [
    "\n",
    "\n",
    "To **Access** the values of a dictionary, use `name_of_dict[key]` \n"
   ]
  },
  {
   "cell_type": "markdown",
   "id": "7082da24",
   "metadata": {
    "slideshow": {
     "slide_type": "notes"
    }
   },
   "source": [
    "For example, calling the values for the colour and year can be done as follows. Observe the <u>square brackets</u> that will hold the key, the <u>quotes</u>, the <u>upper case/lower case</u>, etc."
   ]
  },
  {
   "cell_type": "code",
   "execution_count": null,
   "id": "080997cd-9220-48ee-a727-3ee2ea4983a0",
   "metadata": {},
   "outputs": [],
   "source": []
  },
  {
   "cell_type": "code",
   "execution_count": null,
   "id": "154cc341-019c-45c6-a881-a846b6846da2",
   "metadata": {},
   "outputs": [],
   "source": []
  },
  {
   "cell_type": "markdown",
   "id": "dec0c1aa-d58a-4212-8895-c6e61b2e9a2e",
   "metadata": {
    "slideshow": {
     "slide_type": "subslide"
    }
   },
   "source": [
    "The len() function (length) will return the length of the dictionary in terms of number of keys."
   ]
  },
  {
   "cell_type": "code",
   "execution_count": null,
   "id": "685a191e-3642-4c4c-9844-40079214eb57",
   "metadata": {},
   "outputs": [],
   "source": []
  },
  {
   "cell_type": "markdown",
   "id": "a948a959",
   "metadata": {
    "slideshow": {
     "slide_type": "skip"
    }
   },
   "source": [
    "Another example:"
   ]
  },
  {
   "cell_type": "code",
   "execution_count": 28,
   "id": "3e923a5e-b1e8-4d73-8206-98f172cd45b2",
   "metadata": {
    "slideshow": {
     "slide_type": "skip"
    }
   },
   "outputs": [],
   "source": [
    "cars_dict = {'type':'car', 'brand':'Toyota', 'model':['Corolla', 'Camry'], 'Colour':['Black', 'blue'], \n",
    "'Year': [2014, 2021]}"
   ]
  },
  {
   "cell_type": "markdown",
   "id": "ea91aafc-d0df-4080-8e75-60406c5d15b5",
   "metadata": {
    "slideshow": {
     "slide_type": "skip"
    }
   },
   "source": [
    "Let's call the value for 'Year', which will be a list of values. The value to a key could even be another dictionary."
   ]
  },
  {
   "cell_type": "code",
   "execution_count": 29,
   "id": "e26c078d-83c8-47fc-8f49-7b6e9648b6bd",
   "metadata": {
    "slideshow": {
     "slide_type": "skip"
    }
   },
   "outputs": [
    {
     "data": {
      "text/plain": [
       "[2014, 2021]"
      ]
     },
     "execution_count": 29,
     "metadata": {},
     "output_type": "execute_result"
    }
   ],
   "source": [
    "cars_dict['Year']"
   ]
  },
  {
   "cell_type": "markdown",
   "id": "35eb07bf-32c6-486f-8504-aeeec904a09c",
   "metadata": {
    "slideshow": {
     "slide_type": "slide"
    }
   },
   "source": [
    "An alternative way to create a dictionary, by \"zipping\" together keys and values"
   ]
  },
  {
   "cell_type": "code",
   "execution_count": 14,
   "id": "30fc49b4",
   "metadata": {},
   "outputs": [],
   "source": [
    "# Define the values\n",
    "\n",
    "# Define the keys\n",
    "\n",
    "# Zip them together to form a dictionary\n",
    "\n",
    "\n"
   ]
  },
  {
   "cell_type": "code",
   "execution_count": 31,
   "id": "3fa977a8-b9b4-4e01-bed9-f03238796c6e",
   "metadata": {
    "slideshow": {
     "slide_type": "skip"
    }
   },
   "outputs": [
    {
     "data": {
      "text/html": [
       "<style type=\"text/css\">\n",
       ".CodeMirror{\n",
       "    font-size:14px;\n",
       "}\n",
       "\n",
       "</style>\n"
      ],
      "text/plain": [
       "<IPython.core.display.HTML object>"
      ]
     },
     "metadata": {},
     "output_type": "display_data"
    }
   ],
   "source": [
    "%%html\n",
    "<style type=\"text/css\">\n",
    ".CodeMirror{\n",
    "    font-size:14px;\n",
    "}\n",
    "\n",
    "</style>"
   ]
  },
  {
   "cell_type": "code",
   "execution_count": null,
   "id": "c767acec",
   "metadata": {},
   "outputs": [],
   "source": []
  }
 ],
 "metadata": {
  "celltoolbar": "Slideshow",
  "kernelspec": {
   "display_name": "Python 3 (ipykernel)",
   "language": "python",
   "name": "python3"
  },
  "language_info": {
   "codemirror_mode": {
    "name": "ipython",
    "version": 3
   },
   "file_extension": ".py",
   "mimetype": "text/x-python",
   "name": "python",
   "nbconvert_exporter": "python",
   "pygments_lexer": "ipython3",
   "version": "3.12.2"
  }
 },
 "nbformat": 4,
 "nbformat_minor": 5
}

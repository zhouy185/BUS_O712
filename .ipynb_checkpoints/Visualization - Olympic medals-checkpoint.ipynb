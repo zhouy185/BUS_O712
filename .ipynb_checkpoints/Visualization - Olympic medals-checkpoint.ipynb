{
 "cells": [
  {
   "cell_type": "markdown",
   "id": "bb888c60",
   "metadata": {
    "slideshow": {
     "slide_type": "slide"
    }
   },
   "source": [
    "# Medal counts by countries"
   ]
  },
  {
   "cell_type": "markdown",
   "id": "9a67dbd4",
   "metadata": {},
   "source": [
    "Let's load a dataset stored in a file names \"Olympic_medals_2016.csv\".\n",
    "\n",
    "The dataset counts the total number of medals won by 10 countries, which have the most medals in the 2016 Summer Olympics Games in Rio. The 'NOC' column includes the abbrevation of the countries.\n",
    "\n",
    "Note that we will need to import the pandas library first."
   ]
  },
  {
   "cell_type": "code",
   "execution_count": 3,
   "id": "b2c2ba73",
   "metadata": {
    "slideshow": {
     "slide_type": "subslide"
    }
   },
   "outputs": [
    {
     "data": {
      "text/html": [
       "<div>\n",
       "<style scoped>\n",
       "    .dataframe tbody tr th:only-of-type {\n",
       "        vertical-align: middle;\n",
       "    }\n",
       "\n",
       "    .dataframe tbody tr th {\n",
       "        vertical-align: top;\n",
       "    }\n",
       "\n",
       "    .dataframe thead th {\n",
       "        text-align: right;\n",
       "    }\n",
       "</style>\n",
       "<table border=\"1\" class=\"dataframe\">\n",
       "  <thead>\n",
       "    <tr style=\"text-align: right;\">\n",
       "      <th></th>\n",
       "      <th>Year</th>\n",
       "      <th>NOC</th>\n",
       "      <th>Medal</th>\n",
       "    </tr>\n",
       "  </thead>\n",
       "  <tbody>\n",
       "    <tr>\n",
       "      <th>0</th>\n",
       "      <td>2016</td>\n",
       "      <td>AUS</td>\n",
       "      <td>29</td>\n",
       "    </tr>\n",
       "    <tr>\n",
       "      <th>1</th>\n",
       "      <td>2016</td>\n",
       "      <td>CAN</td>\n",
       "      <td>22</td>\n",
       "    </tr>\n",
       "    <tr>\n",
       "      <th>2</th>\n",
       "      <td>2016</td>\n",
       "      <td>CHN</td>\n",
       "      <td>70</td>\n",
       "    </tr>\n",
       "    <tr>\n",
       "      <th>3</th>\n",
       "      <td>2016</td>\n",
       "      <td>FRA</td>\n",
       "      <td>42</td>\n",
       "    </tr>\n",
       "    <tr>\n",
       "      <th>4</th>\n",
       "      <td>2016</td>\n",
       "      <td>GBR</td>\n",
       "      <td>67</td>\n",
       "    </tr>\n",
       "    <tr>\n",
       "      <th>5</th>\n",
       "      <td>2016</td>\n",
       "      <td>GER</td>\n",
       "      <td>42</td>\n",
       "    </tr>\n",
       "    <tr>\n",
       "      <th>6</th>\n",
       "      <td>2016</td>\n",
       "      <td>ITA</td>\n",
       "      <td>28</td>\n",
       "    </tr>\n",
       "    <tr>\n",
       "      <th>7</th>\n",
       "      <td>2016</td>\n",
       "      <td>JPN</td>\n",
       "      <td>41</td>\n",
       "    </tr>\n",
       "    <tr>\n",
       "      <th>8</th>\n",
       "      <td>2016</td>\n",
       "      <td>RUS</td>\n",
       "      <td>56</td>\n",
       "    </tr>\n",
       "    <tr>\n",
       "      <th>9</th>\n",
       "      <td>2016</td>\n",
       "      <td>USA</td>\n",
       "      <td>121</td>\n",
       "    </tr>\n",
       "  </tbody>\n",
       "</table>\n",
       "</div>"
      ],
      "text/plain": [
       "   Year  NOC  Medal\n",
       "0  2016  AUS     29\n",
       "1  2016  CAN     22\n",
       "2  2016  CHN     70\n",
       "3  2016  FRA     42\n",
       "4  2016  GBR     67\n",
       "5  2016  GER     42\n",
       "6  2016  ITA     28\n",
       "7  2016  JPN     41\n",
       "8  2016  RUS     56\n",
       "9  2016  USA    121"
      ]
     },
     "execution_count": 3,
     "metadata": {},
     "output_type": "execute_result"
    }
   ],
   "source": [
    "import pandas as pd\n",
    "medals_2016 = pd.read_csv(\"https://raw.githubusercontent.com/zhouy185/BUS_O712/refs/heads/main/Data/Olympic_medals_2016.csv\")\n",
    "medals_2016"
   ]
  },
  {
   "cell_type": "markdown",
   "id": "257d303d",
   "metadata": {},
   "source": [
    "Which chart should we use to visualize the medal counts by countries?"
   ]
  },
  {
   "cell_type": "markdown",
   "id": "569dc254",
   "metadata": {
    "slideshow": {
     "slide_type": "slide"
    }
   },
   "source": [
    "# Bar Charts in matplotlib"
   ]
  },
  {
   "cell_type": "markdown",
   "id": "a33ada51",
   "metadata": {},
   "source": [
    "The `bar()` function in `matplotlib.pyplot` helps us create bar charts. It has two mandatory arguments, the indexes and the values. \n",
    "* The indexes specify the categories to be placed on the x-axis \n",
    "* The values specifiy the height of each bar.\n",
    "\n",
    "The basic command is:\n",
    "* `plt.bar(indexes, values)`\n",
    "* `plt.show()`\n"
   ]
  },
  {
   "cell_type": "markdown",
   "id": "52d8563c",
   "metadata": {
    "slideshow": {
     "slide_type": "slide"
    }
   },
   "source": [
    "A simple example:\n",
    "* Suppose that in a group of programmers:\n",
    "    * 10 people prefers C++ as a programming language\n",
    "    * 15 prefers Python\n",
    "    * 5 prefers Java"
   ]
  },
  {
   "cell_type": "code",
   "execution_count": 5,
   "id": "bec1e521",
   "metadata": {
    "scrolled": true,
    "slideshow": {
     "slide_type": "subslide"
    }
   },
   "outputs": [
    {
     "data": {
      "text/plain": [
       "<BarContainer object of 3 artists>"
      ]
     },
     "execution_count": 5,
     "metadata": {},
     "output_type": "execute_result"
    },
    {
     "data": {
      "image/png": "[encoded data removed]",
      "text/plain": [
       "<Figure size 640x480 with 1 Axes>"
      ]
     },
     "metadata": {},
     "output_type": "display_data"
    }
   ],
   "source": [
    "import matplotlib.pyplot as plt\n",
    "plt.bar(['C++','Python','Java'],[10,15,5])"
   ]
  },
  {
   "cell_type": "markdown",
   "id": "75f0d9c0",
   "metadata": {
    "slideshow": {
     "slide_type": "slide"
    }
   },
   "source": [
    "## Medal counts by countries -- Single bar chart"
   ]
  },
  {
   "cell_type": "markdown",
   "id": "4dfe8a23",
   "metadata": {},
   "source": [
    "Now we will create a bar chart to visualize the top 10 countries with the most medals."
   ]
  },
  {
   "cell_type": "code",
   "execution_count": 15,
   "id": "b73bcce4",
   "metadata": {
    "slideshow": {
     "slide_type": "subslide"
    }
   },
   "outputs": [
    {
     "data": {
      "image/png": "[encoded data removed]",
      "text/plain": [
       "<Figure size 640x480 with 1 Axes>"
      ]
     },
     "metadata": {},
     "output_type": "display_data"
    }
   ],
   "source": [
    "plt.bar(medals_2016['NOC'],medals_2016['Medal'],color='orange',\n",
    "        edgecolor='black',width=0.6)\n",
    "\n",
    "plt.title(\"2016 Olympics\")\n",
    "plt.ylabel(\"Medal counts\")\n",
    "plt.grid(axis='y',linestyle='--')"
   ]
  },
  {
   "cell_type": "markdown",
   "id": "acb45bf9",
   "metadata": {
    "slideshow": {
     "slide_type": "subslide"
    }
   },
   "source": [
    "We may use optional arguments in the bar() function to customize our bar graph.\n",
    "* The width of the bars is by default set to 0.8. Let's change that to 0.5.\n",
    "* The colour is by default 'blue', let's change that to 'green'\n",
    "* Add a title\n",
    "* Add grids\n",
    "* Add the y-axis label\n",
    "\n",
    "For additional options please see [matplotlib.pyplot.bar — documentation](https://matplotlib.org/stable/api/_as_gen/matplotlib.pyplot.bar.html)."
   ]
  },
  {
   "cell_type": "markdown",
   "id": "93c3416b",
   "metadata": {
    "slideshow": {
     "slide_type": "slide"
    }
   },
   "source": [
    "To create a **horizontal** bar chart, replace `bar()` with `barh()`"
   ]
  },
  {
   "cell_type": "code",
   "execution_count": 18,
   "id": "3375255b",
   "metadata": {},
   "outputs": [
    {
     "data": {
      "image/png": "[encoded data removed]",
      "text/plain": [
       "<Figure size 640x480 with 1 Axes>"
      ]
     },
     "metadata": {},
     "output_type": "display_data"
    }
   ],
   "source": [
    "plt.barh(medals_2016['NOC'],medals_2016['Medal'],color='orange',\n",
    "        edgecolor='black',height=0.6)\n",
    "\n",
    "plt.title(\"2016 Olympics\")\n",
    "plt.ylabel(\"Medal counts\")\n",
    "plt.grid(axis='x',linestyle='--')"
   ]
  },
  {
   "cell_type": "markdown",
   "id": "5b6cd756",
   "metadata": {
    "slideshow": {
     "slide_type": "slide"
    }
   },
   "source": [
    "What if we want to visualize the number of medals for multiple years?"
   ]
  },
  {
   "cell_type": "markdown",
   "id": "5ae07bfe",
   "metadata": {
    "slideshow": {
     "slide_type": "fragment"
    }
   },
   "source": [
    "## Multi-series bar chart"
   ]
  },
  {
   "cell_type": "markdown",
   "id": "4ace1cd0",
   "metadata": {
    "slideshow": {
     "slide_type": "slide"
    }
   },
   "source": [
    "## Stacked bar chart"
   ]
  },
  {
   "cell_type": "markdown",
   "id": "1f56bd73",
   "metadata": {},
   "source": [
    "Let us look at two years, 2012 and 2016.\n",
    "\n",
    "Let's load the data for 2012."
   ]
  },
  {
   "cell_type": "code",
   "execution_count": 20,
   "id": "46138b51",
   "metadata": {},
   "outputs": [
    {
     "data": {
      "text/html": [
       "<div>\n",
       "<style scoped>\n",
       "    .dataframe tbody tr th:only-of-type {\n",
       "        vertical-align: middle;\n",
       "    }\n",
       "\n",
       "    .dataframe tbody tr th {\n",
       "        vertical-align: top;\n",
       "    }\n",
       "\n",
       "    .dataframe thead th {\n",
       "        text-align: right;\n",
       "    }\n",
       "</style>\n",
       "<table border=\"1\" class=\"dataframe\">\n",
       "  <thead>\n",
       "    <tr style=\"text-align: right;\">\n",
       "      <th></th>\n",
       "      <th>Year</th>\n",
       "      <th>NOC</th>\n",
       "      <th>Medal</th>\n",
       "    </tr>\n",
       "  </thead>\n",
       "  <tbody>\n",
       "    <tr>\n",
       "      <th>0</th>\n",
       "      <td>2012</td>\n",
       "      <td>AUS</td>\n",
       "      <td>35</td>\n",
       "    </tr>\n",
       "    <tr>\n",
       "      <th>1</th>\n",
       "      <td>2012</td>\n",
       "      <td>CAN</td>\n",
       "      <td>18</td>\n",
       "    </tr>\n",
       "    <tr>\n",
       "      <th>2</th>\n",
       "      <td>2012</td>\n",
       "      <td>CHN</td>\n",
       "      <td>88</td>\n",
       "    </tr>\n",
       "    <tr>\n",
       "      <th>3</th>\n",
       "      <td>2012</td>\n",
       "      <td>FRA</td>\n",
       "      <td>35</td>\n",
       "    </tr>\n",
       "    <tr>\n",
       "      <th>4</th>\n",
       "      <td>2012</td>\n",
       "      <td>GBR</td>\n",
       "      <td>65</td>\n",
       "    </tr>\n",
       "    <tr>\n",
       "      <th>5</th>\n",
       "      <td>2012</td>\n",
       "      <td>GER</td>\n",
       "      <td>44</td>\n",
       "    </tr>\n",
       "    <tr>\n",
       "      <th>6</th>\n",
       "      <td>2012</td>\n",
       "      <td>ITA</td>\n",
       "      <td>28</td>\n",
       "    </tr>\n",
       "    <tr>\n",
       "      <th>7</th>\n",
       "      <td>2012</td>\n",
       "      <td>JPN</td>\n",
       "      <td>38</td>\n",
       "    </tr>\n",
       "    <tr>\n",
       "      <th>8</th>\n",
       "      <td>2012</td>\n",
       "      <td>RUS</td>\n",
       "      <td>82</td>\n",
       "    </tr>\n",
       "    <tr>\n",
       "      <th>9</th>\n",
       "      <td>2012</td>\n",
       "      <td>USA</td>\n",
       "      <td>103</td>\n",
       "    </tr>\n",
       "  </tbody>\n",
       "</table>\n",
       "</div>"
      ],
      "text/plain": [
       "   Year  NOC  Medal\n",
       "0  2012  AUS     35\n",
       "1  2012  CAN     18\n",
       "2  2012  CHN     88\n",
       "3  2012  FRA     35\n",
       "4  2012  GBR     65\n",
       "5  2012  GER     44\n",
       "6  2012  ITA     28\n",
       "7  2012  JPN     38\n",
       "8  2012  RUS     82\n",
       "9  2012  USA    103"
      ]
     },
     "execution_count": 20,
     "metadata": {},
     "output_type": "execute_result"
    }
   ],
   "source": [
    "medals_2012 = pd.read_csv(\"https://raw.githubusercontent.com/zhouy185/BUS_O712/refs/heads/main/Data/Olympic_medals_2012.csv\")\n",
    "medals_2012"
   ]
  },
  {
   "cell_type": "markdown",
   "id": "e8df0051",
   "metadata": {
    "slideshow": {
     "slide_type": "slide"
    }
   },
   "source": [
    "We will then include the three years of medal counts for the seleted countries in the **same** bar chart."
   ]
  },
  {
   "cell_type": "code",
   "execution_count": 27,
   "id": "2f83a41a",
   "metadata": {},
   "outputs": [
    {
     "data": {
      "image/png": "[encoded data removed]",
      "text/plain": [
       "<Figure size 640x480 with 1 Axes>"
      ]
     },
     "metadata": {},
     "output_type": "display_data"
    }
   ],
   "source": [
    "plt.bar(medals_2012['NOC'],medals_2012['Medal'],color='blue',\n",
    "        edgecolor='black',width=0.4,alpha=0.4,label='2012')\n",
    "plt.bar(medals_2016['NOC'],medals_2016['Medal'],color='orange',\n",
    "        edgecolor='black',width=0.4,alpha=0.4,bottom=medals_2012['Medal'],label='2016')\n",
    "\n",
    "plt.title(\"Olympics medal counts\")\n",
    "plt.ylabel(\"Medal counts\")\n",
    "plt.grid(axis='y',linestyle='--')\n",
    "\n",
    "plt.legend()\n",
    "plt.show()"
   ]
  },
  {
   "cell_type": "markdown",
   "id": "31967f36",
   "metadata": {
    "slideshow": {
     "slide_type": "slide"
    }
   },
   "source": [
    "Again, we may add a title, axis labels, grid, etc"
   ]
  },
  {
   "cell_type": "markdown",
   "id": "618c39db",
   "metadata": {
    "slideshow": {
     "slide_type": "slide"
    }
   },
   "source": [
    "## Side-by-side chart"
   ]
  },
  {
   "cell_type": "markdown",
   "id": "88fefd5b",
   "metadata": {},
   "source": [
    "To make side-by-side bar charts, it is important that all the series share the same categories. However, the  placement of the bars on the x-axis should not be the same (otherwise we should use the stacked bar)."
   ]
  },
  {
   "cell_type": "markdown",
   "id": "519a00d7",
   "metadata": {},
   "source": [
    "Given that we have 10 countries, let us create a numpy array for the positions of the bars."
   ]
  },
  {
   "cell_type": "code",
   "execution_count": 28,
   "id": "bcbf4021",
   "metadata": {},
   "outputs": [
    {
     "data": {
      "text/plain": [
       "array([0, 1, 2, 3, 4, 5, 6, 7, 8, 9])"
      ]
     },
     "execution_count": 28,
     "metadata": {},
     "output_type": "execute_result"
    }
   ],
   "source": [
    "import numpy as np\n",
    "positions = np.arange(10)\n",
    "positions"
   ]
  },
  {
   "cell_type": "markdown",
   "id": "8db8b0e4",
   "metadata": {
    "slideshow": {
     "slide_type": "slide"
    }
   },
   "source": [
    "For 2012, we will plot the bars at the positions $x=0,1,...,9$\n",
    "\n",
    "For 2016, we will plot the bars at $x=0.4,1.4,...,9.4$"
   ]
  },
  {
   "cell_type": "code",
   "execution_count": 33,
   "id": "1561a7c1",
   "metadata": {},
   "outputs": [
    {
     "data": {
      "image/png": "[encoded data removed]",
      "text/plain": [
       "<Figure size 640x480 with 1 Axes>"
      ]
     },
     "metadata": {},
     "output_type": "display_data"
    }
   ],
   "source": [
    "plt.bar(positions,medals_2012['Medal'],color='blue',\n",
    "        edgecolor='black',width=0.4,alpha=0.4)\n",
    "\n",
    "plt.bar(positions+0.4,medals_2016['Medal'],color='yellow',\n",
    "        edgecolor='black',width=0.4,alpha=0.4)\n",
    "\n",
    "plt.xticks(positions,medals_2012['NOC'])\n",
    "plt.show()"
   ]
  },
  {
   "cell_type": "markdown",
   "id": "3683d7e0",
   "metadata": {
    "slideshow": {
     "slide_type": "notes"
    }
   },
   "source": [
    "Notice that in the above code, we have the array index indicate the location of the index for the first bar graph. For the second bar graph we add 0.4 to the index to move the position of the second bar graph slightly to the right. Also, note that the width of the bars were reduced to 0.4. In addition to that, notice that the tick_label parameter was added to the first bar() statement to add the labels to the ticks on the x-axis."
   ]
  }
 ],
 "metadata": {
  "celltoolbar": "Slideshow",
  "kernelspec": {
   "display_name": "Python 3 (ipykernel)",
   "language": "python",
   "name": "python3"
  },
  "language_info": {
   "codemirror_mode": {
    "name": "ipython",
    "version": 3
   },
   "file_extension": ".py",
   "mimetype": "text/x-python",
   "name": "python",
   "nbconvert_exporter": "python",
   "pygments_lexer": "ipython3",
   "version": "3.12.2"
  }
 },
 "nbformat": 4,
 "nbformat_minor": 5
}

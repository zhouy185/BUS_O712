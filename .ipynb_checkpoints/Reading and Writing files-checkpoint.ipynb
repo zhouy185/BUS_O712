{
 "cells": [
  {
   "cell_type": "markdown",
   "id": "465b5e11",
   "metadata": {
    "slideshow": {
     "slide_type": "slide"
    }
   },
   "source": [
    "# Reading and Writing CSV files in pandas"
   ]
  },
  {
   "cell_type": "markdown",
   "id": "3815ae13",
   "metadata": {
    "slideshow": {
     "slide_type": "slide"
    }
   },
   "source": [
    "## Reading a CSV file in pandas"
   ]
  },
  {
   "cell_type": "markdown",
   "id": "f3547dec",
   "metadata": {},
   "source": [
    "The `pandas.read_csv()` function load data from a csv file. \n",
    "* The result is a pandas Dataframe.\n",
    "\n",
    "We need to provide the file path and name to this function\n",
    "* If the file is in the working directory, we can use just the file name; `pandas.read_csv(file_name)`\n",
    "* If not, we must provide the file path `pandas.read_csv(file_path)`"
   ]
  },
  {
   "cell_type": "code",
   "execution_count": 1,
   "id": "45f8e649",
   "metadata": {
    "slideshow": {
     "slide_type": "subslide"
    }
   },
   "outputs": [],
   "source": [
    "# Use file name only if file is in the working directory\n"
   ]
  },
  {
   "cell_type": "code",
   "execution_count": 2,
   "id": "d7e24644",
   "metadata": {},
   "outputs": [],
   "source": [
    "# Use file path\n"
   ]
  },
  {
   "cell_type": "markdown",
   "id": "69b162bd",
   "metadata": {
    "slideshow": {
     "slide_type": "slide"
    }
   },
   "source": [
    "Use `df.head()` to show the first 5 rows of data (or you can specify how many rows to view)"
   ]
  },
  {
   "cell_type": "code",
   "execution_count": null,
   "id": "61a7a247",
   "metadata": {},
   "outputs": [],
   "source": []
  },
  {
   "cell_type": "code",
   "execution_count": 20,
   "id": "a776f64b",
   "metadata": {
    "slideshow": {
     "slide_type": "skip"
    }
   },
   "outputs": [
    {
     "data": {
      "text/html": [
       "<div>\n",
       "<style scoped>\n",
       "    .dataframe tbody tr th:only-of-type {\n",
       "        vertical-align: middle;\n",
       "    }\n",
       "\n",
       "    .dataframe tbody tr th {\n",
       "        vertical-align: top;\n",
       "    }\n",
       "\n",
       "    .dataframe thead th {\n",
       "        text-align: right;\n",
       "    }\n",
       "</style>\n",
       "<table border=\"1\" class=\"dataframe\">\n",
       "  <thead>\n",
       "    <tr style=\"text-align: right;\">\n",
       "      <th></th>\n",
       "      <th>video_id</th>\n",
       "      <th>views</th>\n",
       "      <th>likes</th>\n",
       "      <th>dislikes</th>\n",
       "      <th>comment_count</th>\n",
       "      <th>comments_disabled</th>\n",
       "      <th>ratings_disabled</th>\n",
       "    </tr>\n",
       "  </thead>\n",
       "  <tbody>\n",
       "    <tr>\n",
       "      <th>0</th>\n",
       "      <td>a-4_6bThk2E</td>\n",
       "      <td>666861</td>\n",
       "      <td>16006</td>\n",
       "      <td>916</td>\n",
       "      <td>3686</td>\n",
       "      <td>False</td>\n",
       "      <td>False</td>\n",
       "    </tr>\n",
       "    <tr>\n",
       "      <th>1</th>\n",
       "      <td>5O6iNs0cEIU</td>\n",
       "      <td>239156</td>\n",
       "      <td>1598</td>\n",
       "      <td>252</td>\n",
       "      <td>327</td>\n",
       "      <td>False</td>\n",
       "      <td>False</td>\n",
       "    </tr>\n",
       "    <tr>\n",
       "      <th>2</th>\n",
       "      <td>RF-Mqs2qC-M</td>\n",
       "      <td>175490</td>\n",
       "      <td>9514</td>\n",
       "      <td>245</td>\n",
       "      <td>1070</td>\n",
       "      <td>False</td>\n",
       "      <td>False</td>\n",
       "    </tr>\n",
       "    <tr>\n",
       "      <th>3</th>\n",
       "      <td>YPR8K4TQ88M</td>\n",
       "      <td>1233755</td>\n",
       "      <td>8823</td>\n",
       "      <td>268</td>\n",
       "      <td>156</td>\n",
       "      <td>False</td>\n",
       "      <td>False</td>\n",
       "    </tr>\n",
       "    <tr>\n",
       "      <th>4</th>\n",
       "      <td>HQw0LJbwHY4</td>\n",
       "      <td>108850</td>\n",
       "      <td>730</td>\n",
       "      <td>46</td>\n",
       "      <td>67</td>\n",
       "      <td>False</td>\n",
       "      <td>False</td>\n",
       "    </tr>\n",
       "  </tbody>\n",
       "</table>\n",
       "</div>"
      ],
      "text/plain": [
       "      video_id    views  likes  dislikes  comment_count  comments_disabled  \\\n",
       "0  a-4_6bThk2E   666861  16006       916           3686              False   \n",
       "1  5O6iNs0cEIU   239156   1598       252            327              False   \n",
       "2  RF-Mqs2qC-M   175490   9514       245           1070              False   \n",
       "3  YPR8K4TQ88M  1233755   8823       268            156              False   \n",
       "4  HQw0LJbwHY4   108850    730        46             67              False   \n",
       "\n",
       "   ratings_disabled  \n",
       "0             False  \n",
       "1             False  \n",
       "2             False  \n",
       "3             False  \n",
       "4             False  "
      ]
     },
     "execution_count": 20,
     "metadata": {},
     "output_type": "execute_result"
    }
   ],
   "source": [
    "youtube_data_copy.head()"
   ]
  },
  {
   "cell_type": "markdown",
   "id": "cdd4643f",
   "metadata": {
    "slideshow": {
     "slide_type": "slide"
    }
   },
   "source": [
    "By default, the first row in the csv file is used as the header of the DataFrame.\n",
    "\n",
    "If it should not be used as the header, use the argument `header=None`"
   ]
  },
  {
   "cell_type": "code",
   "execution_count": null,
   "id": "dcdec9ce",
   "metadata": {},
   "outputs": [],
   "source": []
  },
  {
   "cell_type": "markdown",
   "id": "dd4f29ea",
   "metadata": {
    "slideshow": {
     "slide_type": "slide"
    }
   },
   "source": [
    "We can also replace the header in the csv by setting `header=0` and providing a list of column names to use as the header"
   ]
  },
  {
   "cell_type": "code",
   "execution_count": null,
   "id": "1f0d4823",
   "metadata": {},
   "outputs": [],
   "source": []
  },
  {
   "cell_type": "code",
   "execution_count": null,
   "id": "ba0dc7d9",
   "metadata": {},
   "outputs": [],
   "source": []
  },
  {
   "cell_type": "markdown",
   "id": "915267b8",
   "metadata": {
    "slideshow": {
     "slide_type": "notes"
    }
   },
   "source": [
    "**Note**: `header = 0` means that we overwrite the original header with the provided names"
   ]
  },
  {
   "cell_type": "markdown",
   "id": "0e87cf58",
   "metadata": {
    "slideshow": {
     "slide_type": "slide"
    }
   },
   "source": [
    "Given a DataFrame, we can use `pandas.to_csv()` to convert it a csv file"
   ]
  },
  {
   "cell_type": "code",
   "execution_count": null,
   "id": "9724b5b7",
   "metadata": {},
   "outputs": [],
   "source": []
  },
  {
   "cell_type": "markdown",
   "id": "19c24d98",
   "metadata": {
    "slideshow": {
     "slide_type": "slide"
    }
   },
   "source": [
    "The file data.csv will be created in the current directory (where the notebook is opened or started).\n",
    "\n",
    "The CSV file created has an additional column added as Index. \n",
    "* If we would like to remove the Index column we need to add the argument index and set it to False. "
   ]
  },
  {
   "cell_type": "code",
   "execution_count": null,
   "id": "92c9e2d7",
   "metadata": {},
   "outputs": [],
   "source": []
  },
  {
   "cell_type": "code",
   "execution_count": null,
   "id": "263473e8",
   "metadata": {},
   "outputs": [],
   "source": []
  }
 ],
 "metadata": {
  "celltoolbar": "Slideshow",
  "kernelspec": {
   "display_name": "Python 3 (ipykernel)",
   "language": "python",
   "name": "python3"
  },
  "language_info": {
   "codemirror_mode": {
    "name": "ipython",
    "version": 3
   },
   "file_extension": ".py",
   "mimetype": "text/x-python",
   "name": "python",
   "nbconvert_exporter": "python",
   "pygments_lexer": "ipython3",
   "version": "3.12.2"
  }
 },
 "nbformat": 4,
 "nbformat_minor": 5
}

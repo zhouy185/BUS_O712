{
 "cells": [
  {
   "cell_type": "markdown",
   "id": "8c99857e",
   "metadata": {
    "slideshow": {
     "slide_type": "slide"
    }
   },
   "source": [
    "# The `if` statement and the `for` loop"
   ]
  },
  {
   "cell_type": "markdown",
   "id": "73471aa8",
   "metadata": {
    "slideshow": {
     "slide_type": "slide"
    }
   },
   "source": [
    "## The `if` statement"
   ]
  },
  {
   "cell_type": "markdown",
   "id": "e3a2a887",
   "metadata": {},
   "source": [
    "The simplest format for the if statement is as follows:\n",
    "\n",
    "`if condition:`\n",
    "    <br>&nbsp;&nbsp;&nbsp;&nbsp;&nbsp;&nbsp;&nbsp;&nbsp;&nbsp; `block of codes to run if condition is true`\n"
   ]
  },
  {
   "cell_type": "markdown",
   "id": "66c1f280",
   "metadata": {
    "slideshow": {
     "slide_type": "notes"
    }
   },
   "source": [
    "Note:\n",
    "* It is very important to note that the first line of the if statement ends with a colon. Without the colon, Python would not know if the condition has been provided or not.\n",
    "* Your IDE (Jupter notebook) will make sure that the following lines after the if statement are given are indented (shifted to the right). The indentation is Python’s way to structure its different constructs. It is very important that we do not change the indentation. Otherwise the code will not run and we’ll get an error.\n"
   ]
  },
  {
   "cell_type": "markdown",
   "id": "338f0b6f",
   "metadata": {
    "slideshow": {
     "slide_type": "subslide"
    }
   },
   "source": [
    "An example:\n",
    "\n",
    "Suppose that an Amazon seller offers:\n",
    "* a $\\$5$ discout if you spend more than $\\$20$ in an order\n",
    "\n",
    "Let's calculate the actual price."
   ]
  },
  {
   "cell_type": "code",
   "execution_count": null,
   "id": "7951d407",
   "metadata": {
    "slideshow": {
     "slide_type": "subslide"
    }
   },
   "outputs": [],
   "source": []
  },
  {
   "cell_type": "markdown",
   "id": "b6c820f4",
   "metadata": {
    "slideshow": {
     "slide_type": "slide"
    }
   },
   "source": [
    "The indentation in if statements (and also in loops) is very important. The indentation tells Python which level the operation belongs to. For instance, in the above example, if we wanted to add another operation to be performed if the condition was true, we would have to add that in a new line but with the same level of indentation. See the example below."
   ]
  },
  {
   "cell_type": "markdown",
   "id": "3e90d1ee",
   "metadata": {},
   "source": [
    "Any statement that is not at the indented level, will be outside of the if statement."
   ]
  },
  {
   "cell_type": "markdown",
   "id": "58d9d6fc",
   "metadata": {
    "slideshow": {
     "slide_type": "slide"
    }
   },
   "source": [
    "We could also add the else statement. Suppose that at a party, drinks except whisky are complimentary."
   ]
  },
  {
   "cell_type": "markdown",
   "id": "48cc3a55",
   "metadata": {
    "slideshow": {
     "slide_type": "notes"
    }
   },
   "source": [
    "The else statement provides an operation to be performed but only if the condition is not satisfied. It is important to note that to add the else statement, we should use the Backspace key to move to the same indentation is the if statement. Also, we should use the colon after the else statement, which will automatically make sure the following lines are properly indented."
   ]
  },
  {
   "cell_type": "code",
   "execution_count": null,
   "id": "049d203e",
   "metadata": {},
   "outputs": [],
   "source": []
  },
  {
   "cell_type": "markdown",
   "id": "7259b65e",
   "metadata": {
    "slideshow": {
     "slide_type": "slide"
    }
   },
   "source": [
    "## For Loops\n",
    "You can repeat an operation for a certain number of times using a for loop. Below we have some variations on the for loop.\n"
   ]
  },
  {
   "cell_type": "markdown",
   "id": "e1146d78",
   "metadata": {
    "slideshow": {
     "slide_type": "notes"
    }
   },
   "source": [
    "**Important points**:\n",
    "* Just like the if statement, the first line of the loop ends with a colon (:)\n",
    "* The lines following the colon (:) are automatically indented (shifted to the right)\n"
   ]
  },
  {
   "cell_type": "markdown",
   "id": "ee7c4e36",
   "metadata": {
    "slideshow": {
     "slide_type": "slide"
    }
   },
   "source": [
    "A function that is frequently used in loops is the range() function, which can receive an integer n and return a range of items that start at 0, by default, and end at n-1, with increments of 1. Let’s see this function used in the examples below. In these examples, the value of the variable i, changes by assuming new values in the sequence created by the range() function. Every time i assumes a new value, the operation is performed (e.g., prints something, such as i*2)."
   ]
  },
  {
   "cell_type": "code",
   "execution_count": null,
   "id": "c2111c11",
   "metadata": {},
   "outputs": [],
   "source": []
  },
  {
   "cell_type": "markdown",
   "id": "83ce0138",
   "metadata": {
    "slideshow": {
     "slide_type": "slide"
    }
   },
   "source": [
    "`if` and `for` are often used together. "
   ]
  },
  {
   "cell_type": "markdown",
   "id": "7abe7c49",
   "metadata": {},
   "source": [
    "The following procedure in the following example is very common in data analysis. It appends a list while looping through another data structure. \n",
    "\n",
    "Suppose that in a group-buying event, only orders more than 20 unit will be recorded. We use `order_sizes` to represent all order requests and `order_success` the successful orders."
   ]
  },
  {
   "cell_type": "code",
   "execution_count": null,
   "id": "9980a22a",
   "metadata": {
    "slideshow": {
     "slide_type": "subslide"
    }
   },
   "outputs": [],
   "source": []
  },
  {
   "cell_type": "markdown",
   "id": "00ea1f89",
   "metadata": {
    "slideshow": {
     "slide_type": "slide"
    }
   },
   "source": [
    "## Python functions"
   ]
  },
  {
   "cell_type": "markdown",
   "id": "f43a239e",
   "metadata": {},
   "source": [
    "We may define a function using the following syntax.\n",
    "\n",
    "`def func_name(variables):`\n",
    " <br>&nbsp;&nbsp;&nbsp;&nbsp;&nbsp;`block of codes`\n",
    " <br>&nbsp;&nbsp;&nbsp;&nbsp;&nbsp;`return the outcome`"
   ]
  },
  {
   "cell_type": "markdown",
   "id": "871b0049",
   "metadata": {
    "slideshow": {
     "slide_type": "slide"
    }
   },
   "source": [
    "Let us define a function to generalize the spending discount example.\n",
    "\n",
    "Suppose that an Amazon seller offers:\n",
    "* a $\\$d$ discout if you spend more than $\\$t$ in an order"
   ]
  },
  {
   "cell_type": "markdown",
   "id": "eb98ff4e",
   "metadata": {
    "slideshow": {
     "slide_type": "slide"
    }
   },
   "source": [
    "Let us define a function of 4 input arguments, $s$, $d$ and $t$ . \n",
    "* $s$: spending before discount\n",
    "* $d$: discount amount if spending exceeds the threshold\n",
    "* $t$: spending threshold\n",
    "\n",
    "The function returns the actual spending after discount."
   ]
  },
  {
   "cell_type": "code",
   "execution_count": null,
   "id": "b1392c29",
   "metadata": {
    "slideshow": {
     "slide_type": "subslide"
    }
   },
   "outputs": [],
   "source": [
    "\n",
    "        "
   ]
  },
  {
   "cell_type": "markdown",
   "id": "cb0e2019",
   "metadata": {
    "slideshow": {
     "slide_type": "slide"
    }
   },
   "source": [
    "Let us test the function"
   ]
  },
  {
   "cell_type": "code",
   "execution_count": null,
   "id": "081bb92c",
   "metadata": {},
   "outputs": [],
   "source": []
  },
  {
   "cell_type": "code",
   "execution_count": null,
   "id": "a5291f9e",
   "metadata": {},
   "outputs": [],
   "source": []
  }
 ],
 "metadata": {
  "celltoolbar": "Slideshow",
  "kernelspec": {
   "display_name": "Python 3 (ipykernel)",
   "language": "python",
   "name": "python3"
  },
  "language_info": {
   "codemirror_mode": {
    "name": "ipython",
    "version": 3
   },
   "file_extension": ".py",
   "mimetype": "text/x-python",
   "name": "python",
   "nbconvert_exporter": "python",
   "pygments_lexer": "ipython3",
   "version": "3.12.2"
  }
 },
 "nbformat": 4,
 "nbformat_minor": 5
}
